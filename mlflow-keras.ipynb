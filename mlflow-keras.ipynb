{
 "cells": [
  {
   "cell_type": "code",
   "execution_count": 1,
   "metadata": {},
   "outputs": [
    {
     "name": "stderr",
     "output_type": "stream",
     "text": [
      "2022-03-09 14:27:28.935292: I tensorflow/stream_executor/platform/default/dso_loader.cc:49] Successfully opened dynamic library libcudart.so.10.1\n"
     ]
    }
   ],
   "source": [
    "from tensorflow import keras\n",
    "import matplotlib.pyplot as plt\n",
    "from tensorflow.keras.models import Sequential\n",
    "from tensorflow.keras.layers import Dense, Dropout\n",
    "import numpy as np\n",
    "from sklearn.metrics import confusion_matrix\n",
    "from tensorflow.keras.datasets import mnist\n",
    "from tensorflow.keras.utils import to_categorical\n",
    "import os\n",
    "\n",
    "# mlflow imports\n",
    "import mlflow\n",
    "import mlflow.keras\n",
    "import mlflow.tensorflow"
   ]
  },
  {
   "cell_type": "code",
   "execution_count": 2,
   "metadata": {},
   "outputs": [
    {
     "data": {
      "text/plain": [
       "Text(0.5, 1.0, '5')"
      ]
     },
     "execution_count": 2,
     "metadata": {},
     "output_type": "execute_result"
    },
    {
     "data": {
      "image/png": "[encoded data removed]",
      "text/plain": [
       "<Figure size 432x288 with 1 Axes>"
      ]
     },
     "metadata": {
      "needs_background": "light"
     },
     "output_type": "display_data"
    }
   ],
   "source": [
    "(X_train, y_train), (X_test, y_test) = mnist.load_data()\n",
    "plt.imshow(X_train[0], cmap='gray')\n",
    "plt.title(y_train[0])"
   ]
  },
  {
   "cell_type": "code",
   "execution_count": 3,
   "metadata": {},
   "outputs": [],
   "source": [
    "X_train = X_train.reshape(len(X_train), np.prod(X_train.shape[1:]))\n",
    "X_test = X_test.reshape(len(X_test), np.prod(X_test.shape[1:]))"
   ]
  },
  {
   "cell_type": "code",
   "execution_count": 4,
   "metadata": {},
   "outputs": [
    {
     "data": {
      "text/plain": [
       "((60000, 784), (10000, 784))"
      ]
     },
     "execution_count": 4,
     "metadata": {},
     "output_type": "execute_result"
    }
   ],
   "source": [
    "X_train.shape, X_test.shape"
   ]
  },
  {
   "cell_type": "code",
   "execution_count": 5,
   "metadata": {},
   "outputs": [],
   "source": [
    "X_train = X_train.astype('float32')\n",
    "X_test = X_test.astype('float32')\n",
    "\n",
    "X_train /= 255\n",
    "X_test /= 255"
   ]
  },
  {
   "cell_type": "code",
   "execution_count": 6,
   "metadata": {},
   "outputs": [],
   "source": [
    "y_train = to_categorical(y_train, 10)\n",
    "y_test = to_categorical(y_test, 10)"
   ]
  },
  {
   "cell_type": "code",
   "execution_count": 7,
   "metadata": {},
   "outputs": [
    {
     "data": {
      "text/plain": [
       "array([0., 0., 0., 0., 0., 1., 0., 0., 0., 0.], dtype=float32)"
      ]
     },
     "execution_count": 7,
     "metadata": {},
     "output_type": "execute_result"
    }
   ],
   "source": [
    "y_train[0]"
   ]
  },
  {
   "cell_type": "code",
   "execution_count": 12,
   "metadata": {},
   "outputs": [
    {
     "name": "stderr",
     "output_type": "stream",
     "text": [
      "2022/03/09 14:28:42 INFO mlflow.tracking.fluent: Experiment with name 'nn-experiment' does not exist. Creating a new experiment.\n"
     ]
    }
   ],
   "source": [
    "server = \"http://localhost:5000\"\n",
    "mlflow.set_tracking_uri(server)\n",
    "\n",
    "mlflow.set_experiment('nn-experiment')\n",
    "\n",
    "def train_nn(hidden_layers, n_units, activation, drop_out, epochs):\n",
    "    # iniciando experimento com mlflow\n",
    "    \n",
    "    with mlflow.start_run():\n",
    "        mlflow.tensorflow.autolog()\n",
    "\n",
    "        # registrando tags com hiperparâmetros\n",
    "        mlflow.set_tag('epochs', epochs)\n",
    "        mlflow.set_tag('hidden layers', hidden_layers)\n",
    "        mlflow.set_tag('n_units', n_units)\n",
    "        mlflow.set_tag('drop_out', drop_out)\n",
    "\n",
    "        model = Sequential()\n",
    "\n",
    "        # camadas de entrada e primeira camada oculta\n",
    "        model.add(Dense(units=n_units, activation=activation, input_dim=784))\n",
    "        model.add(Dropout(drop_out))\n",
    "\n",
    "        # camadas ocultas\n",
    "        for _ in range(hidden_layers -1):\n",
    "            model.add(Dense(units=n_units, activation=activation))\n",
    "            model.add(Dropout(drop_out))\n",
    "\n",
    "        # camada de saida\n",
    "        model.add(Dense(units=10, activation='softmax'))\n",
    "\n",
    "        # compilando o modelo\n",
    "        model.compile(optimizer='adam', loss='categorical_crossentropy', metrics=['accuracy'])\n",
    "\n",
    "        # estrutura do modelo\n",
    "        model.summary()\n",
    "\n",
    "        # treinamento\n",
    "        hist = model.fit(x=X_train, y=y_train, validation_data=(X_test, y_test), epochs=epochs)\n",
    "\n",
    "        # grafico de treinamento\n",
    "        hist.history.keys()\n",
    "        plt.plot(hist.history['val_loss'])\n",
    "        plt.savefig('loss.png')\n",
    "        plt.plot(hist.history['val_accuracy'])\n",
    "        plt.savefig('accuracy.png')\n",
    "\n",
    "        # registrando graficos\n",
    "        mlflow.log_artifact('loss.png')\n",
    "        mlflow.log_artifact('accuracy.png')\n",
    "\n",
    "        # info execucao\n",
    "        print('Modelo: ', mlflow.active_run().info.run_uuid)\n",
    "    mlflow.end_run()"
   ]
  },
  {
   "cell_type": "code",
   "execution_count": 13,
   "metadata": {},
   "outputs": [
    {
     "name": "stdout",
     "output_type": "stream",
     "text": [
      "Model: \"sequential_4\"\n",
      "_________________________________________________________________\n",
      "Layer (type)                 Output Shape              Param #   \n",
      "=================================================================\n",
      "dense_12 (Dense)             (None, 15)                11775     \n",
      "_________________________________________________________________\n",
      "dropout_8 (Dropout)          (None, 15)                0         \n",
      "_________________________________________________________________\n",
      "dense_13 (Dense)             (None, 15)                240       \n",
      "_________________________________________________________________\n",
      "dropout_9 (Dropout)          (None, 15)                0         \n",
      "_________________________________________________________________\n",
      "dense_14 (Dense)             (None, 10)                160       \n",
      "=================================================================\n",
      "Total params: 12,175\n",
      "Trainable params: 12,175\n",
      "Non-trainable params: 0\n",
      "_________________________________________________________________\n"
     ]
    },
    {
     "name": "stderr",
     "output_type": "stream",
     "text": [
      "2022-03-09 14:28:48.812960: I tensorflow/core/profiler/lib/profiler_session.cc:136] Profiler session initializing.\n",
      "2022-03-09 14:28:48.812989: I tensorflow/core/profiler/lib/profiler_session.cc:155] Profiler session started.\n",
      "2022-03-09 14:28:48.813056: E tensorflow/core/profiler/internal/gpu/cupti_tracer.cc:1415] function cupti_interface_->Subscribe( &subscriber_, (CUpti_CallbackFunc)ApiCallback, this)failed with error CUPTI_ERROR_NOT_INITIALIZED\n",
      "2022-03-09 14:28:48.813074: I tensorflow/core/profiler/lib/profiler_session.cc:172] Profiler session tear down.\n"
     ]
    },
    {
     "name": "stdout",
     "output_type": "stream",
     "text": [
      "Epoch 1/5\n",
      "   1/1875 [..............................] - ETA: 4:55 - loss: 2.4871 - accuracy: 0.0938WARNING:tensorflow:Callback method `on_train_batch_end` is slow compared to the batch time (batch time: 0.0008s vs `on_train_batch_end` time: 0.0047s). Check your callbacks.\n",
      " 220/1875 [==>...........................] - ETA: 1s - loss: 2.0032 - accuracy: 0.2670"
     ]
    },
    {
     "name": "stderr",
     "output_type": "stream",
     "text": [
      "2022-03-09 14:28:49.168488: I tensorflow/core/profiler/lib/profiler_session.cc:136] Profiler session initializing.\n",
      "2022-03-09 14:28:49.168507: I tensorflow/core/profiler/lib/profiler_session.cc:155] Profiler session started.\n",
      "2022-03-09 14:28:49.168546: E tensorflow/core/profiler/internal/gpu/cupti_tracer.cc:1415] function cupti_interface_->Subscribe( &subscriber_, (CUpti_CallbackFunc)ApiCallback, this)failed with error CUPTI_ERROR_NOT_INITIALIZED\n",
      "2022-03-09 14:28:49.186839: I tensorflow/core/profiler/lib/profiler_session.cc:71] Profiler session collecting data.\n",
      "2022-03-09 14:28:49.187435: I tensorflow/core/profiler/internal/gpu/cupti_collector.cc:228]  GpuTracer has collected 0 callback api events and 0 activity events. \n",
      "2022-03-09 14:28:49.187805: I tensorflow/core/profiler/lib/profiler_session.cc:172] Profiler session tear down.\n",
      "2022-03-09 14:28:49.188409: I tensorflow/core/profiler/rpc/client/save_profile.cc:137] Creating directory: /tmp/tmpc08rch87/train/plugins/profile/2022_03_09_14_28_49\n",
      "2022-03-09 14:28:49.188728: I tensorflow/core/profiler/rpc/client/save_profile.cc:143] Dumped gzipped tool data for trace.json.gz to /tmp/tmpc08rch87/train/plugins/profile/2022_03_09_14_28_49/lps-pc.trace.json.gz\n",
      "2022-03-09 14:28:49.190516: I tensorflow/core/profiler/rpc/client/save_profile.cc:137] Creating directory: /tmp/tmpc08rch87/train/plugins/profile/2022_03_09_14_28_49\n",
      "2022-03-09 14:28:49.191080: I tensorflow/core/profiler/rpc/client/save_profile.cc:143] Dumped gzipped tool data for memory_profile.json.gz to /tmp/tmpc08rch87/train/plugins/profile/2022_03_09_14_28_49/lps-pc.memory_profile.json.gz\n",
      "2022-03-09 14:28:49.191214: I tensorflow/core/profiler/rpc/client/capture_profile.cc:251] Creating directory: /tmp/tmpc08rch87/train/plugins/profile/2022_03_09_14_28_49Dumped tool data for xplane.pb to /tmp/tmpc08rch87/train/plugins/profile/2022_03_09_14_28_49/lps-pc.xplane.pb\n",
      "Dumped tool data for overview_page.pb to /tmp/tmpc08rch87/train/plugins/profile/2022_03_09_14_28_49/lps-pc.overview_page.pb\n",
      "Dumped tool data for input_pipeline.pb to /tmp/tmpc08rch87/train/plugins/profile/2022_03_09_14_28_49/lps-pc.input_pipeline.pb\n",
      "Dumped tool data for tensorflow_stats.pb to /tmp/tmpc08rch87/train/plugins/profile/2022_03_09_14_28_49/lps-pc.tensorflow_stats.pb\n",
      "Dumped tool data for kernel_stats.pb to /tmp/tmpc08rch87/train/plugins/profile/2022_03_09_14_28_49/lps-pc.kernel_stats.pb\n",
      "\n"
     ]
    },
    {
     "name": "stdout",
     "output_type": "stream",
     "text": [
      "1875/1875 [==============================] - 2s 966us/step - loss: 1.2610 - accuracy: 0.5598 - val_loss: 0.3753 - val_accuracy: 0.8996\n",
      "Epoch 2/5\n",
      "1875/1875 [==============================] - 2s 892us/step - loss: 0.6491 - accuracy: 0.7875 - val_loss: 0.3170 - val_accuracy: 0.9124\n",
      "Epoch 3/5\n",
      "1875/1875 [==============================] - 2s 911us/step - loss: 0.5677 - accuracy: 0.8152 - val_loss: 0.2925 - val_accuracy: 0.9161\n",
      "Epoch 4/5\n",
      "1875/1875 [==============================] - 2s 899us/step - loss: 0.5245 - accuracy: 0.8351 - val_loss: 0.2760 - val_accuracy: 0.9238\n",
      "Epoch 5/5\n",
      "1875/1875 [==============================] - 2s 880us/step - loss: 0.5025 - accuracy: 0.8406 - val_loss: 0.2643 - val_accuracy: 0.9290\n",
      "INFO:tensorflow:Assets written to: /tmp/tmpn8k90hbz/model/data/model/assets\n",
      "Modelo:  4b798b2f1d6e43729c2ee76afbcf8891\n",
      "Model: \"sequential_5\"\n",
      "_________________________________________________________________\n",
      "Layer (type)                 Output Shape              Param #   \n",
      "=================================================================\n",
      "dense_15 (Dense)             (None, 15)                11775     \n",
      "_________________________________________________________________\n",
      "dropout_10 (Dropout)         (None, 15)                0         \n",
      "_________________________________________________________________\n",
      "dense_16 (Dense)             (None, 15)                240       \n",
      "_________________________________________________________________\n",
      "dropout_11 (Dropout)         (None, 15)                0         \n",
      "_________________________________________________________________\n",
      "dense_17 (Dense)             (None, 10)                160       \n",
      "=================================================================\n",
      "Total params: 12,175\n",
      "Trainable params: 12,175\n",
      "Non-trainable params: 0\n",
      "_________________________________________________________________\n"
     ]
    },
    {
     "name": "stderr",
     "output_type": "stream",
     "text": [
      "2022-03-09 14:29:00.440792: I tensorflow/core/profiler/lib/profiler_session.cc:136] Profiler session initializing.\n",
      "2022-03-09 14:29:00.440815: I tensorflow/core/profiler/lib/profiler_session.cc:155] Profiler session started.\n",
      "2022-03-09 14:29:00.440877: E tensorflow/core/profiler/internal/gpu/cupti_tracer.cc:1415] function cupti_interface_->Subscribe( &subscriber_, (CUpti_CallbackFunc)ApiCallback, this)failed with error CUPTI_ERROR_NOT_INITIALIZED\n",
      "2022-03-09 14:29:00.440892: I tensorflow/core/profiler/lib/profiler_session.cc:172] Profiler session tear down.\n"
     ]
    },
    {
     "name": "stdout",
     "output_type": "stream",
     "text": [
      "Epoch 1/5\n",
      "   1/1875 [..............................] - ETA: 4:53 - loss: 2.3838 - accuracy: 0.1250WARNING:tensorflow:Callback method `on_train_batch_end` is slow compared to the batch time (batch time: 0.0008s vs `on_train_batch_end` time: 0.0038s). Check your callbacks.\n",
      " 213/1875 [==>...........................] - ETA: 1s - loss: 2.1161 - accuracy: 0.1974"
     ]
    },
    {
     "name": "stderr",
     "output_type": "stream",
     "text": [
      "2022-03-09 14:29:00.786135: I tensorflow/core/profiler/lib/profiler_session.cc:136] Profiler session initializing.\n",
      "2022-03-09 14:29:00.786152: I tensorflow/core/profiler/lib/profiler_session.cc:155] Profiler session started.\n",
      "2022-03-09 14:29:00.786192: E tensorflow/core/profiler/internal/gpu/cupti_tracer.cc:1415] function cupti_interface_->Subscribe( &subscriber_, (CUpti_CallbackFunc)ApiCallback, this)failed with error CUPTI_ERROR_NOT_INITIALIZED\n",
      "2022-03-09 14:29:00.800936: I tensorflow/core/profiler/lib/profiler_session.cc:71] Profiler session collecting data.\n",
      "2022-03-09 14:29:00.801374: I tensorflow/core/profiler/internal/gpu/cupti_collector.cc:228]  GpuTracer has collected 0 callback api events and 0 activity events. \n",
      "2022-03-09 14:29:00.801650: I tensorflow/core/profiler/lib/profiler_session.cc:172] Profiler session tear down.\n",
      "2022-03-09 14:29:00.802055: I tensorflow/core/profiler/rpc/client/save_profile.cc:137] Creating directory: /tmp/tmp59a3iiyc/train/plugins/profile/2022_03_09_14_29_00\n",
      "2022-03-09 14:29:00.802351: I tensorflow/core/profiler/rpc/client/save_profile.cc:143] Dumped gzipped tool data for trace.json.gz to /tmp/tmp59a3iiyc/train/plugins/profile/2022_03_09_14_29_00/lps-pc.trace.json.gz\n",
      "2022-03-09 14:29:00.803610: I tensorflow/core/profiler/rpc/client/save_profile.cc:137] Creating directory: /tmp/tmp59a3iiyc/train/plugins/profile/2022_03_09_14_29_00\n",
      "2022-03-09 14:29:00.803993: I tensorflow/core/profiler/rpc/client/save_profile.cc:143] Dumped gzipped tool data for memory_profile.json.gz to /tmp/tmp59a3iiyc/train/plugins/profile/2022_03_09_14_29_00/lps-pc.memory_profile.json.gz\n",
      "2022-03-09 14:29:00.804072: I tensorflow/core/profiler/rpc/client/capture_profile.cc:251] Creating directory: /tmp/tmp59a3iiyc/train/plugins/profile/2022_03_09_14_29_00Dumped tool data for xplane.pb to /tmp/tmp59a3iiyc/train/plugins/profile/2022_03_09_14_29_00/lps-pc.xplane.pb\n",
      "Dumped tool data for overview_page.pb to /tmp/tmp59a3iiyc/train/plugins/profile/2022_03_09_14_29_00/lps-pc.overview_page.pb\n",
      "Dumped tool data for input_pipeline.pb to /tmp/tmp59a3iiyc/train/plugins/profile/2022_03_09_14_29_00/lps-pc.input_pipeline.pb\n",
      "Dumped tool data for tensorflow_stats.pb to /tmp/tmp59a3iiyc/train/plugins/profile/2022_03_09_14_29_00/lps-pc.tensorflow_stats.pb\n",
      "Dumped tool data for kernel_stats.pb to /tmp/tmp59a3iiyc/train/plugins/profile/2022_03_09_14_29_00/lps-pc.kernel_stats.pb\n",
      "\n"
     ]
    },
    {
     "name": "stdout",
     "output_type": "stream",
     "text": [
      "1875/1875 [==============================] - 2s 1ms/step - loss: 1.4636 - accuracy: 0.4627 - val_loss: 0.4630 - val_accuracy: 0.8871\n",
      "Epoch 2/5\n",
      "1875/1875 [==============================] - 2s 1ms/step - loss: 0.8144 - accuracy: 0.7208 - val_loss: 0.3651 - val_accuracy: 0.9061\n",
      "Epoch 3/5\n",
      "1875/1875 [==============================] - 2s 1ms/step - loss: 0.7388 - accuracy: 0.7544 - val_loss: 0.3203 - val_accuracy: 0.9166\n",
      "Epoch 4/5\n",
      "1875/1875 [==============================] - 2s 995us/step - loss: 0.7084 - accuracy: 0.7698 - val_loss: 0.3054 - val_accuracy: 0.9165\n",
      "Epoch 5/5\n",
      "1875/1875 [==============================] - 2s 989us/step - loss: 0.6825 - accuracy: 0.7803 - val_loss: 0.3030 - val_accuracy: 0.9194\n",
      "INFO:tensorflow:Assets written to: /tmp/tmpnm9glg_w/model/data/model/assets\n",
      "Modelo:  1126994db19d4af788990f7f51f24e61\n",
      "Model: \"sequential_6\"\n",
      "_________________________________________________________________\n",
      "Layer (type)                 Output Shape              Param #   \n",
      "=================================================================\n",
      "dense_18 (Dense)             (None, 15)                11775     \n",
      "_________________________________________________________________\n",
      "dropout_12 (Dropout)         (None, 15)                0         \n",
      "_________________________________________________________________\n",
      "dense_19 (Dense)             (None, 15)                240       \n",
      "_________________________________________________________________\n",
      "dropout_13 (Dropout)         (None, 15)                0         \n",
      "_________________________________________________________________\n",
      "dense_20 (Dense)             (None, 10)                160       \n",
      "=================================================================\n",
      "Total params: 12,175\n",
      "Trainable params: 12,175\n",
      "Non-trainable params: 0\n",
      "_________________________________________________________________\n"
     ]
    },
    {
     "name": "stderr",
     "output_type": "stream",
     "text": [
      "2022-03-09 14:29:13.297816: I tensorflow/core/profiler/lib/profiler_session.cc:136] Profiler session initializing.\n",
      "2022-03-09 14:29:13.297844: I tensorflow/core/profiler/lib/profiler_session.cc:155] Profiler session started.\n",
      "2022-03-09 14:29:13.297941: E tensorflow/core/profiler/internal/gpu/cupti_tracer.cc:1415] function cupti_interface_->Subscribe( &subscriber_, (CUpti_CallbackFunc)ApiCallback, this)failed with error CUPTI_ERROR_NOT_INITIALIZED\n",
      "2022-03-09 14:29:13.297964: I tensorflow/core/profiler/lib/profiler_session.cc:172] Profiler session tear down.\n"
     ]
    },
    {
     "name": "stdout",
     "output_type": "stream",
     "text": [
      "Epoch 1/5\n",
      "   1/1875 [..............................] - ETA: 5:16 - loss: 2.3509 - accuracy: 0.1250WARNING:tensorflow:Callback method `on_train_batch_end` is slow compared to the batch time (batch time: 0.0013s vs `on_train_batch_end` time: 0.0050s). Check your callbacks.\n",
      " 192/1875 [==>...........................] - ETA: 1s - loss: 1.8971 - accuracy: 0.3627"
     ]
    },
    {
     "name": "stderr",
     "output_type": "stream",
     "text": [
      "2022-03-09 14:29:13.650054: I tensorflow/core/profiler/lib/profiler_session.cc:136] Profiler session initializing.\n",
      "2022-03-09 14:29:13.650073: I tensorflow/core/profiler/lib/profiler_session.cc:155] Profiler session started.\n",
      "2022-03-09 14:29:13.650179: E tensorflow/core/profiler/internal/gpu/cupti_tracer.cc:1415] function cupti_interface_->Subscribe( &subscriber_, (CUpti_CallbackFunc)ApiCallback, this)failed with error CUPTI_ERROR_NOT_INITIALIZED\n",
      "2022-03-09 14:29:13.668633: I tensorflow/core/profiler/lib/profiler_session.cc:71] Profiler session collecting data.\n",
      "2022-03-09 14:29:13.669045: I tensorflow/core/profiler/internal/gpu/cupti_collector.cc:228]  GpuTracer has collected 0 callback api events and 0 activity events. \n",
      "2022-03-09 14:29:13.669322: I tensorflow/core/profiler/lib/profiler_session.cc:172] Profiler session tear down.\n",
      "2022-03-09 14:29:13.669729: I tensorflow/core/profiler/rpc/client/save_profile.cc:137] Creating directory: /tmp/tmp_30huakj/train/plugins/profile/2022_03_09_14_29_13\n",
      "2022-03-09 14:29:13.669965: I tensorflow/core/profiler/rpc/client/save_profile.cc:143] Dumped gzipped tool data for trace.json.gz to /tmp/tmp_30huakj/train/plugins/profile/2022_03_09_14_29_13/lps-pc.trace.json.gz\n",
      "2022-03-09 14:29:13.672063: I tensorflow/core/profiler/rpc/client/save_profile.cc:137] Creating directory: /tmp/tmp_30huakj/train/plugins/profile/2022_03_09_14_29_13\n",
      "2022-03-09 14:29:13.672450: I tensorflow/core/profiler/rpc/client/save_profile.cc:143] Dumped gzipped tool data for memory_profile.json.gz to /tmp/tmp_30huakj/train/plugins/profile/2022_03_09_14_29_13/lps-pc.memory_profile.json.gz\n",
      "2022-03-09 14:29:13.672557: I tensorflow/core/profiler/rpc/client/capture_profile.cc:251] Creating directory: /tmp/tmp_30huakj/train/plugins/profile/2022_03_09_14_29_13Dumped tool data for xplane.pb to /tmp/tmp_30huakj/train/plugins/profile/2022_03_09_14_29_13/lps-pc.xplane.pb\n",
      "Dumped tool data for overview_page.pb to /tmp/tmp_30huakj/train/plugins/profile/2022_03_09_14_29_13/lps-pc.overview_page.pb\n",
      "Dumped tool data for input_pipeline.pb to /tmp/tmp_30huakj/train/plugins/profile/2022_03_09_14_29_13/lps-pc.input_pipeline.pb\n",
      "Dumped tool data for tensorflow_stats.pb to /tmp/tmp_30huakj/train/plugins/profile/2022_03_09_14_29_13/lps-pc.tensorflow_stats.pb\n",
      "Dumped tool data for kernel_stats.pb to /tmp/tmp_30huakj/train/plugins/profile/2022_03_09_14_29_13/lps-pc.kernel_stats.pb\n",
      "\n"
     ]
    },
    {
     "name": "stdout",
     "output_type": "stream",
     "text": [
      "1875/1875 [==============================] - 2s 1ms/step - loss: 1.0257 - accuracy: 0.6718 - val_loss: 0.3238 - val_accuracy: 0.9042\n",
      "Epoch 2/5\n",
      "1875/1875 [==============================] - 2s 1ms/step - loss: 0.4600 - accuracy: 0.8591 - val_loss: 0.2743 - val_accuracy: 0.9209\n",
      "Epoch 3/5\n",
      "1875/1875 [==============================] - 2s 1ms/step - loss: 0.4078 - accuracy: 0.8744 - val_loss: 0.2470 - val_accuracy: 0.9267\n",
      "Epoch 4/5\n",
      "1875/1875 [==============================] - 2s 1ms/step - loss: 0.3700 - accuracy: 0.8856 - val_loss: 0.2448 - val_accuracy: 0.9282\n",
      "Epoch 5/5\n",
      "1875/1875 [==============================] - 2s 967us/step - loss: 0.3566 - accuracy: 0.8916 - val_loss: 0.2320 - val_accuracy: 0.9313\n",
      "INFO:tensorflow:Assets written to: /tmp/tmpxe8qkqiu/model/data/model/assets\n",
      "Modelo:  2f9c7246aa994a598e9398f27f15473f\n",
      "Model: \"sequential_7\"\n",
      "_________________________________________________________________\n",
      "Layer (type)                 Output Shape              Param #   \n",
      "=================================================================\n",
      "dense_21 (Dense)             (None, 20)                15700     \n",
      "_________________________________________________________________\n",
      "dropout_14 (Dropout)         (None, 20)                0         \n",
      "_________________________________________________________________\n",
      "dense_22 (Dense)             (None, 20)                420       \n",
      "_________________________________________________________________\n",
      "dropout_15 (Dropout)         (None, 20)                0         \n",
      "_________________________________________________________________\n",
      "dense_23 (Dense)             (None, 10)                210       \n",
      "=================================================================\n",
      "Total params: 16,330\n",
      "Trainable params: 16,330\n",
      "Non-trainable params: 0\n",
      "_________________________________________________________________\n"
     ]
    },
    {
     "name": "stderr",
     "output_type": "stream",
     "text": [
      "2022-03-09 14:29:25.879226: I tensorflow/core/profiler/lib/profiler_session.cc:136] Profiler session initializing.\n",
      "2022-03-09 14:29:25.879256: I tensorflow/core/profiler/lib/profiler_session.cc:155] Profiler session started.\n",
      "2022-03-09 14:29:25.879333: E tensorflow/core/profiler/internal/gpu/cupti_tracer.cc:1415] function cupti_interface_->Subscribe( &subscriber_, (CUpti_CallbackFunc)ApiCallback, this)failed with error CUPTI_ERROR_NOT_INITIALIZED\n",
      "2022-03-09 14:29:25.879351: I tensorflow/core/profiler/lib/profiler_session.cc:172] Profiler session tear down.\n"
     ]
    },
    {
     "name": "stdout",
     "output_type": "stream",
     "text": [
      "Epoch 1/5\n",
      "   1/1875 [..............................] - ETA: 5:09 - loss: 2.3856 - accuracy: 0.0000e+00WARNING:tensorflow:Callback method `on_train_batch_end` is slow compared to the batch time (batch time: 0.0007s vs `on_train_batch_end` time: 0.0031s). Check your callbacks.\n",
      " 213/1875 [==>...........................] - ETA: 1s - loss: 1.9961 - accuracy: 0.2701"
     ]
    },
    {
     "name": "stderr",
     "output_type": "stream",
     "text": [
      "2022-03-09 14:29:26.225100: I tensorflow/core/profiler/lib/profiler_session.cc:136] Profiler session initializing.\n",
      "2022-03-09 14:29:26.225118: I tensorflow/core/profiler/lib/profiler_session.cc:155] Profiler session started.\n",
      "2022-03-09 14:29:26.225157: E tensorflow/core/profiler/internal/gpu/cupti_tracer.cc:1415] function cupti_interface_->Subscribe( &subscriber_, (CUpti_CallbackFunc)ApiCallback, this)failed with error CUPTI_ERROR_NOT_INITIALIZED\n",
      "2022-03-09 14:29:26.235796: I tensorflow/core/profiler/lib/profiler_session.cc:71] Profiler session collecting data.\n",
      "2022-03-09 14:29:26.236173: I tensorflow/core/profiler/internal/gpu/cupti_collector.cc:228]  GpuTracer has collected 0 callback api events and 0 activity events. \n",
      "2022-03-09 14:29:26.236442: I tensorflow/core/profiler/lib/profiler_session.cc:172] Profiler session tear down.\n",
      "2022-03-09 14:29:26.236841: I tensorflow/core/profiler/rpc/client/save_profile.cc:137] Creating directory: /tmp/tmpih9kqd9x/train/plugins/profile/2022_03_09_14_29_26\n",
      "2022-03-09 14:29:26.237066: I tensorflow/core/profiler/rpc/client/save_profile.cc:143] Dumped gzipped tool data for trace.json.gz to /tmp/tmpih9kqd9x/train/plugins/profile/2022_03_09_14_29_26/lps-pc.trace.json.gz\n",
      "2022-03-09 14:29:26.238390: I tensorflow/core/profiler/rpc/client/save_profile.cc:137] Creating directory: /tmp/tmpih9kqd9x/train/plugins/profile/2022_03_09_14_29_26\n",
      "2022-03-09 14:29:26.238680: I tensorflow/core/profiler/rpc/client/save_profile.cc:143] Dumped gzipped tool data for memory_profile.json.gz to /tmp/tmpih9kqd9x/train/plugins/profile/2022_03_09_14_29_26/lps-pc.memory_profile.json.gz\n",
      "2022-03-09 14:29:26.238753: I tensorflow/core/profiler/rpc/client/capture_profile.cc:251] Creating directory: /tmp/tmpih9kqd9x/train/plugins/profile/2022_03_09_14_29_26Dumped tool data for xplane.pb to /tmp/tmpih9kqd9x/train/plugins/profile/2022_03_09_14_29_26/lps-pc.xplane.pb\n",
      "Dumped tool data for overview_page.pb to /tmp/tmpih9kqd9x/train/plugins/profile/2022_03_09_14_29_26/lps-pc.overview_page.pb\n",
      "Dumped tool data for input_pipeline.pb to /tmp/tmpih9kqd9x/train/plugins/profile/2022_03_09_14_29_26/lps-pc.input_pipeline.pb\n",
      "Dumped tool data for tensorflow_stats.pb to /tmp/tmpih9kqd9x/train/plugins/profile/2022_03_09_14_29_26/lps-pc.tensorflow_stats.pb\n",
      "Dumped tool data for kernel_stats.pb to /tmp/tmpih9kqd9x/train/plugins/profile/2022_03_09_14_29_26/lps-pc.kernel_stats.pb\n",
      "\n"
     ]
    },
    {
     "name": "stdout",
     "output_type": "stream",
     "text": [
      "1875/1875 [==============================] - 2s 1ms/step - loss: 1.1388 - accuracy: 0.6109 - val_loss: 0.2884 - val_accuracy: 0.9167\n",
      "Epoch 2/5\n",
      "1875/1875 [==============================] - 2s 961us/step - loss: 0.4900 - accuracy: 0.8503 - val_loss: 0.2336 - val_accuracy: 0.9333\n",
      "Epoch 3/5\n",
      "1875/1875 [==============================] - 2s 963us/step - loss: 0.4315 - accuracy: 0.8703 - val_loss: 0.2307 - val_accuracy: 0.9321\n",
      "Epoch 4/5\n",
      "1875/1875 [==============================] - 2s 958us/step - loss: 0.4086 - accuracy: 0.8779 - val_loss: 0.2076 - val_accuracy: 0.9405\n",
      "Epoch 5/5\n",
      "1875/1875 [==============================] - 2s 943us/step - loss: 0.3840 - accuracy: 0.8853 - val_loss: 0.1892 - val_accuracy: 0.9439\n",
      "INFO:tensorflow:Assets written to: /tmp/tmpg63x3zq5/model/data/model/assets\n",
      "Modelo:  f53b208e34404de98bfff0aee98696f1\n",
      "Model: \"sequential_8\"\n",
      "_________________________________________________________________\n",
      "Layer (type)                 Output Shape              Param #   \n",
      "=================================================================\n",
      "dense_24 (Dense)             (None, 20)                15700     \n",
      "_________________________________________________________________\n",
      "dropout_16 (Dropout)         (None, 20)                0         \n",
      "_________________________________________________________________\n",
      "dense_25 (Dense)             (None, 20)                420       \n",
      "_________________________________________________________________\n",
      "dropout_17 (Dropout)         (None, 20)                0         \n",
      "_________________________________________________________________\n",
      "dense_26 (Dense)             (None, 10)                210       \n",
      "=================================================================\n",
      "Total params: 16,330\n",
      "Trainable params: 16,330\n",
      "Non-trainable params: 0\n",
      "_________________________________________________________________\n"
     ]
    },
    {
     "name": "stderr",
     "output_type": "stream",
     "text": [
      "2022-03-09 14:29:38.062999: I tensorflow/core/profiler/lib/profiler_session.cc:136] Profiler session initializing.\n",
      "2022-03-09 14:29:38.063022: I tensorflow/core/profiler/lib/profiler_session.cc:155] Profiler session started.\n",
      "2022-03-09 14:29:38.063086: E tensorflow/core/profiler/internal/gpu/cupti_tracer.cc:1415] function cupti_interface_->Subscribe( &subscriber_, (CUpti_CallbackFunc)ApiCallback, this)failed with error CUPTI_ERROR_NOT_INITIALIZED\n",
      "2022-03-09 14:29:38.063099: I tensorflow/core/profiler/lib/profiler_session.cc:172] Profiler session tear down.\n"
     ]
    },
    {
     "name": "stdout",
     "output_type": "stream",
     "text": [
      "Epoch 1/5\n",
      "   1/1875 [..............................] - ETA: 5:06 - loss: 2.3617 - accuracy: 0.0938WARNING:tensorflow:Callback method `on_train_batch_end` is slow compared to the batch time (batch time: 0.0008s vs `on_train_batch_end` time: 0.0038s). Check your callbacks.\n",
      " 222/1875 [==>...........................] - ETA: 1s - loss: 1.9857 - accuracy: 0.2924"
     ]
    },
    {
     "name": "stderr",
     "output_type": "stream",
     "text": [
      "2022-03-09 14:29:38.416228: I tensorflow/core/profiler/lib/profiler_session.cc:136] Profiler session initializing.\n",
      "2022-03-09 14:29:38.416249: I tensorflow/core/profiler/lib/profiler_session.cc:155] Profiler session started.\n",
      "2022-03-09 14:29:38.416292: E tensorflow/core/profiler/internal/gpu/cupti_tracer.cc:1415] function cupti_interface_->Subscribe( &subscriber_, (CUpti_CallbackFunc)ApiCallback, this)failed with error CUPTI_ERROR_NOT_INITIALIZED\n",
      "2022-03-09 14:29:38.430775: I tensorflow/core/profiler/lib/profiler_session.cc:71] Profiler session collecting data.\n",
      "2022-03-09 14:29:38.431174: I tensorflow/core/profiler/internal/gpu/cupti_collector.cc:228]  GpuTracer has collected 0 callback api events and 0 activity events. \n",
      "2022-03-09 14:29:38.431451: I tensorflow/core/profiler/lib/profiler_session.cc:172] Profiler session tear down.\n",
      "2022-03-09 14:29:38.431865: I tensorflow/core/profiler/rpc/client/save_profile.cc:137] Creating directory: /tmp/tmpp_sta0w7/train/plugins/profile/2022_03_09_14_29_38\n",
      "2022-03-09 14:29:38.432095: I tensorflow/core/profiler/rpc/client/save_profile.cc:143] Dumped gzipped tool data for trace.json.gz to /tmp/tmpp_sta0w7/train/plugins/profile/2022_03_09_14_29_38/lps-pc.trace.json.gz\n",
      "2022-03-09 14:29:38.433492: I tensorflow/core/profiler/rpc/client/save_profile.cc:137] Creating directory: /tmp/tmpp_sta0w7/train/plugins/profile/2022_03_09_14_29_38\n",
      "2022-03-09 14:29:38.433903: I tensorflow/core/profiler/rpc/client/save_profile.cc:143] Dumped gzipped tool data for memory_profile.json.gz to /tmp/tmpp_sta0w7/train/plugins/profile/2022_03_09_14_29_38/lps-pc.memory_profile.json.gz\n",
      "2022-03-09 14:29:38.433985: I tensorflow/core/profiler/rpc/client/capture_profile.cc:251] Creating directory: /tmp/tmpp_sta0w7/train/plugins/profile/2022_03_09_14_29_38Dumped tool data for xplane.pb to /tmp/tmpp_sta0w7/train/plugins/profile/2022_03_09_14_29_38/lps-pc.xplane.pb\n",
      "Dumped tool data for overview_page.pb to /tmp/tmpp_sta0w7/train/plugins/profile/2022_03_09_14_29_38/lps-pc.overview_page.pb\n",
      "Dumped tool data for input_pipeline.pb to /tmp/tmpp_sta0w7/train/plugins/profile/2022_03_09_14_29_38/lps-pc.input_pipeline.pb\n",
      "Dumped tool data for tensorflow_stats.pb to /tmp/tmpp_sta0w7/train/plugins/profile/2022_03_09_14_29_38/lps-pc.tensorflow_stats.pb\n",
      "Dumped tool data for kernel_stats.pb to /tmp/tmpp_sta0w7/train/plugins/profile/2022_03_09_14_29_38/lps-pc.kernel_stats.pb\n",
      "\n"
     ]
    },
    {
     "name": "stdout",
     "output_type": "stream",
     "text": [
      "1875/1875 [==============================] - 2s 1ms/step - loss: 1.2851 - accuracy: 0.5607 - val_loss: 0.3629 - val_accuracy: 0.9067\n",
      "Epoch 2/5\n",
      "1875/1875 [==============================] - 2s 967us/step - loss: 0.6695 - accuracy: 0.7881 - val_loss: 0.2951 - val_accuracy: 0.9213\n",
      "Epoch 3/5\n",
      "1875/1875 [==============================] - 2s 1ms/step - loss: 0.5919 - accuracy: 0.8156 - val_loss: 0.2801 - val_accuracy: 0.9254\n",
      "Epoch 4/5\n",
      "1875/1875 [==============================] - 2s 996us/step - loss: 0.5477 - accuracy: 0.8296 - val_loss: 0.2685 - val_accuracy: 0.9240\n",
      "Epoch 5/5\n",
      "1875/1875 [==============================] - 2s 980us/step - loss: 0.5315 - accuracy: 0.8369 - val_loss: 0.2633 - val_accuracy: 0.9280\n",
      "INFO:tensorflow:Assets written to: /tmp/tmp28m_2wep/model/data/model/assets\n",
      "Modelo:  31a5f63d57d547728041176314aacc2f\n",
      "Model: \"sequential_9\"\n",
      "_________________________________________________________________\n",
      "Layer (type)                 Output Shape              Param #   \n",
      "=================================================================\n",
      "dense_27 (Dense)             (None, 20)                15700     \n",
      "_________________________________________________________________\n",
      "dropout_18 (Dropout)         (None, 20)                0         \n",
      "_________________________________________________________________\n",
      "dense_28 (Dense)             (None, 20)                420       \n",
      "_________________________________________________________________\n",
      "dropout_19 (Dropout)         (None, 20)                0         \n",
      "_________________________________________________________________\n",
      "dense_29 (Dense)             (None, 10)                210       \n",
      "=================================================================\n",
      "Total params: 16,330\n",
      "Trainable params: 16,330\n",
      "Non-trainable params: 0\n",
      "_________________________________________________________________\n"
     ]
    },
    {
     "name": "stderr",
     "output_type": "stream",
     "text": [
      "2022-03-09 14:29:50.512561: I tensorflow/core/profiler/lib/profiler_session.cc:136] Profiler session initializing.\n",
      "2022-03-09 14:29:50.512599: I tensorflow/core/profiler/lib/profiler_session.cc:155] Profiler session started.\n",
      "2022-03-09 14:29:50.512707: E tensorflow/core/profiler/internal/gpu/cupti_tracer.cc:1415] function cupti_interface_->Subscribe( &subscriber_, (CUpti_CallbackFunc)ApiCallback, this)failed with error CUPTI_ERROR_NOT_INITIALIZED\n",
      "2022-03-09 14:29:50.512729: I tensorflow/core/profiler/lib/profiler_session.cc:172] Profiler session tear down.\n"
     ]
    },
    {
     "name": "stdout",
     "output_type": "stream",
     "text": [
      "Epoch 1/5\n",
      "   1/1875 [..............................] - ETA: 5:07 - loss: 2.4868 - accuracy: 0.0312WARNING:tensorflow:Callback method `on_train_batch_end` is slow compared to the batch time (batch time: 0.0007s vs `on_train_batch_end` time: 0.0034s). Check your callbacks.\n",
      " 224/1875 [==>...........................] - ETA: 1s - loss: 1.8477 - accuracy: 0.3327"
     ]
    },
    {
     "name": "stderr",
     "output_type": "stream",
     "text": [
      "2022-03-09 14:29:50.877084: I tensorflow/core/profiler/lib/profiler_session.cc:136] Profiler session initializing.\n",
      "2022-03-09 14:29:50.877105: I tensorflow/core/profiler/lib/profiler_session.cc:155] Profiler session started.\n",
      "2022-03-09 14:29:50.877148: E tensorflow/core/profiler/internal/gpu/cupti_tracer.cc:1415] function cupti_interface_->Subscribe( &subscriber_, (CUpti_CallbackFunc)ApiCallback, this)failed with error CUPTI_ERROR_NOT_INITIALIZED\n",
      "2022-03-09 14:29:50.887742: I tensorflow/core/profiler/lib/profiler_session.cc:71] Profiler session collecting data.\n",
      "2022-03-09 14:29:50.888140: I tensorflow/core/profiler/internal/gpu/cupti_collector.cc:228]  GpuTracer has collected 0 callback api events and 0 activity events. \n",
      "2022-03-09 14:29:50.888503: I tensorflow/core/profiler/lib/profiler_session.cc:172] Profiler session tear down.\n",
      "2022-03-09 14:29:50.888908: I tensorflow/core/profiler/rpc/client/save_profile.cc:137] Creating directory: /tmp/tmpv0uh8dzr/train/plugins/profile/2022_03_09_14_29_50\n",
      "2022-03-09 14:29:50.889137: I tensorflow/core/profiler/rpc/client/save_profile.cc:143] Dumped gzipped tool data for trace.json.gz to /tmp/tmpv0uh8dzr/train/plugins/profile/2022_03_09_14_29_50/lps-pc.trace.json.gz\n",
      "2022-03-09 14:29:50.890449: I tensorflow/core/profiler/rpc/client/save_profile.cc:137] Creating directory: /tmp/tmpv0uh8dzr/train/plugins/profile/2022_03_09_14_29_50\n",
      "2022-03-09 14:29:50.890739: I tensorflow/core/profiler/rpc/client/save_profile.cc:143] Dumped gzipped tool data for memory_profile.json.gz to /tmp/tmpv0uh8dzr/train/plugins/profile/2022_03_09_14_29_50/lps-pc.memory_profile.json.gz\n",
      "2022-03-09 14:29:50.890852: I tensorflow/core/profiler/rpc/client/capture_profile.cc:251] Creating directory: /tmp/tmpv0uh8dzr/train/plugins/profile/2022_03_09_14_29_50Dumped tool data for xplane.pb to /tmp/tmpv0uh8dzr/train/plugins/profile/2022_03_09_14_29_50/lps-pc.xplane.pb\n",
      "Dumped tool data for overview_page.pb to /tmp/tmpv0uh8dzr/train/plugins/profile/2022_03_09_14_29_50/lps-pc.overview_page.pb\n",
      "Dumped tool data for input_pipeline.pb to /tmp/tmpv0uh8dzr/train/plugins/profile/2022_03_09_14_29_50/lps-pc.input_pipeline.pb\n",
      "Dumped tool data for tensorflow_stats.pb to /tmp/tmpv0uh8dzr/train/plugins/profile/2022_03_09_14_29_50/lps-pc.tensorflow_stats.pb\n",
      "Dumped tool data for kernel_stats.pb to /tmp/tmpv0uh8dzr/train/plugins/profile/2022_03_09_14_29_50/lps-pc.kernel_stats.pb\n",
      "\n"
     ]
    },
    {
     "name": "stdout",
     "output_type": "stream",
     "text": [
      "1875/1875 [==============================] - 2s 1ms/step - loss: 0.9350 - accuracy: 0.6860 - val_loss: 0.2531 - val_accuracy: 0.9229\n",
      "Epoch 2/5\n",
      "1875/1875 [==============================] - 2s 968us/step - loss: 0.3506 - accuracy: 0.8933 - val_loss: 0.2171 - val_accuracy: 0.9364\n",
      "Epoch 3/5\n",
      "1875/1875 [==============================] - 2s 1ms/step - loss: 0.3133 - accuracy: 0.9044 - val_loss: 0.1972 - val_accuracy: 0.9400\n",
      "Epoch 4/5\n",
      "1875/1875 [==============================] - 2s 1ms/step - loss: 0.2765 - accuracy: 0.9157 - val_loss: 0.1853 - val_accuracy: 0.9438\n",
      "Epoch 5/5\n",
      "1875/1875 [==============================] - 2s 993us/step - loss: 0.2653 - accuracy: 0.9196 - val_loss: 0.1827 - val_accuracy: 0.9456\n",
      "INFO:tensorflow:Assets written to: /tmp/tmpli2re4s5/model/data/model/assets\n",
      "Modelo:  d784bd45417b41529a0e4b03021a53f7\n",
      "Model: \"sequential_10\"\n",
      "_________________________________________________________________\n",
      "Layer (type)                 Output Shape              Param #   \n",
      "=================================================================\n",
      "dense_30 (Dense)             (None, 30)                23550     \n",
      "_________________________________________________________________\n",
      "dropout_20 (Dropout)         (None, 30)                0         \n",
      "_________________________________________________________________\n",
      "dense_31 (Dense)             (None, 30)                930       \n",
      "_________________________________________________________________\n",
      "dropout_21 (Dropout)         (None, 30)                0         \n",
      "_________________________________________________________________\n",
      "dense_32 (Dense)             (None, 10)                310       \n",
      "=================================================================\n",
      "Total params: 24,790\n",
      "Trainable params: 24,790\n",
      "Non-trainable params: 0\n",
      "_________________________________________________________________\n"
     ]
    },
    {
     "name": "stderr",
     "output_type": "stream",
     "text": [
      "2022-03-09 14:30:03.397511: I tensorflow/core/profiler/lib/profiler_session.cc:136] Profiler session initializing.\n",
      "2022-03-09 14:30:03.397542: I tensorflow/core/profiler/lib/profiler_session.cc:155] Profiler session started.\n",
      "2022-03-09 14:30:03.397630: E tensorflow/core/profiler/internal/gpu/cupti_tracer.cc:1415] function cupti_interface_->Subscribe( &subscriber_, (CUpti_CallbackFunc)ApiCallback, this)failed with error CUPTI_ERROR_NOT_INITIALIZED\n",
      "2022-03-09 14:30:03.397653: I tensorflow/core/profiler/lib/profiler_session.cc:172] Profiler session tear down.\n"
     ]
    },
    {
     "name": "stdout",
     "output_type": "stream",
     "text": [
      "Epoch 1/5\n",
      "   1/1875 [..............................] - ETA: 5:04 - loss: 2.3769 - accuracy: 0.1250WARNING:tensorflow:Callback method `on_train_batch_end` is slow compared to the batch time (batch time: 0.0007s vs `on_train_batch_end` time: 0.0040s). Check your callbacks.\n",
      " 210/1875 [==>...........................] - ETA: 1s - loss: 1.7938 - accuracy: 0.3718"
     ]
    },
    {
     "name": "stderr",
     "output_type": "stream",
     "text": [
      "2022-03-09 14:30:03.744368: I tensorflow/core/profiler/lib/profiler_session.cc:136] Profiler session initializing.\n",
      "2022-03-09 14:30:03.744385: I tensorflow/core/profiler/lib/profiler_session.cc:155] Profiler session started.\n",
      "2022-03-09 14:30:03.744430: E tensorflow/core/profiler/internal/gpu/cupti_tracer.cc:1415] function cupti_interface_->Subscribe( &subscriber_, (CUpti_CallbackFunc)ApiCallback, this)failed with error CUPTI_ERROR_NOT_INITIALIZED\n",
      "2022-03-09 14:30:03.759479: I tensorflow/core/profiler/lib/profiler_session.cc:71] Profiler session collecting data.\n",
      "2022-03-09 14:30:03.759913: I tensorflow/core/profiler/internal/gpu/cupti_collector.cc:228]  GpuTracer has collected 0 callback api events and 0 activity events. \n",
      "2022-03-09 14:30:03.760220: I tensorflow/core/profiler/lib/profiler_session.cc:172] Profiler session tear down.\n",
      "2022-03-09 14:30:03.760689: I tensorflow/core/profiler/rpc/client/save_profile.cc:137] Creating directory: /tmp/tmpdcmp11mq/train/plugins/profile/2022_03_09_14_30_03\n",
      "2022-03-09 14:30:03.760977: I tensorflow/core/profiler/rpc/client/save_profile.cc:143] Dumped gzipped tool data for trace.json.gz to /tmp/tmpdcmp11mq/train/plugins/profile/2022_03_09_14_30_03/lps-pc.trace.json.gz\n",
      "2022-03-09 14:30:03.762357: I tensorflow/core/profiler/rpc/client/save_profile.cc:137] Creating directory: /tmp/tmpdcmp11mq/train/plugins/profile/2022_03_09_14_30_03\n",
      "2022-03-09 14:30:03.762748: I tensorflow/core/profiler/rpc/client/save_profile.cc:143] Dumped gzipped tool data for memory_profile.json.gz to /tmp/tmpdcmp11mq/train/plugins/profile/2022_03_09_14_30_03/lps-pc.memory_profile.json.gz\n",
      "2022-03-09 14:30:03.762824: I tensorflow/core/profiler/rpc/client/capture_profile.cc:251] Creating directory: /tmp/tmpdcmp11mq/train/plugins/profile/2022_03_09_14_30_03Dumped tool data for xplane.pb to /tmp/tmpdcmp11mq/train/plugins/profile/2022_03_09_14_30_03/lps-pc.xplane.pb\n",
      "Dumped tool data for overview_page.pb to /tmp/tmpdcmp11mq/train/plugins/profile/2022_03_09_14_30_03/lps-pc.overview_page.pb\n",
      "Dumped tool data for input_pipeline.pb to /tmp/tmpdcmp11mq/train/plugins/profile/2022_03_09_14_30_03/lps-pc.input_pipeline.pb\n",
      "Dumped tool data for tensorflow_stats.pb to /tmp/tmpdcmp11mq/train/plugins/profile/2022_03_09_14_30_03/lps-pc.tensorflow_stats.pb\n",
      "Dumped tool data for kernel_stats.pb to /tmp/tmpdcmp11mq/train/plugins/profile/2022_03_09_14_30_03/lps-pc.kernel_stats.pb\n",
      "\n"
     ]
    },
    {
     "name": "stdout",
     "output_type": "stream",
     "text": [
      "1875/1875 [==============================] - 2s 1000us/step - loss: 0.9077 - accuracy: 0.7019 - val_loss: 0.2300 - val_accuracy: 0.9317\n",
      "Epoch 2/5\n",
      "1875/1875 [==============================] - 2s 936us/step - loss: 0.3575 - accuracy: 0.8929 - val_loss: 0.1906 - val_accuracy: 0.9426\n",
      "Epoch 3/5\n",
      "1875/1875 [==============================] - 2s 921us/step - loss: 0.3040 - accuracy: 0.9093 - val_loss: 0.1725 - val_accuracy: 0.9469\n",
      "Epoch 4/5\n",
      "1875/1875 [==============================] - 2s 956us/step - loss: 0.2712 - accuracy: 0.9188 - val_loss: 0.1519 - val_accuracy: 0.9543\n",
      "Epoch 5/5\n",
      "1875/1875 [==============================] - 2s 960us/step - loss: 0.2517 - accuracy: 0.9251 - val_loss: 0.1468 - val_accuracy: 0.9575\n",
      "INFO:tensorflow:Assets written to: /tmp/tmpcooj0cii/model/data/model/assets\n",
      "Modelo:  6995a9741c37427599833951c41887d4\n",
      "Model: \"sequential_11\"\n",
      "_________________________________________________________________\n",
      "Layer (type)                 Output Shape              Param #   \n",
      "=================================================================\n",
      "dense_33 (Dense)             (None, 30)                23550     \n",
      "_________________________________________________________________\n",
      "dropout_22 (Dropout)         (None, 30)                0         \n",
      "_________________________________________________________________\n",
      "dense_34 (Dense)             (None, 30)                930       \n",
      "_________________________________________________________________\n",
      "dropout_23 (Dropout)         (None, 30)                0         \n",
      "_________________________________________________________________\n",
      "dense_35 (Dense)             (None, 10)                310       \n",
      "=================================================================\n",
      "Total params: 24,790\n",
      "Trainable params: 24,790\n",
      "Non-trainable params: 0\n",
      "_________________________________________________________________\n"
     ]
    },
    {
     "name": "stderr",
     "output_type": "stream",
     "text": [
      "2022-03-09 14:30:15.457667: I tensorflow/core/profiler/lib/profiler_session.cc:136] Profiler session initializing.\n",
      "2022-03-09 14:30:15.457692: I tensorflow/core/profiler/lib/profiler_session.cc:155] Profiler session started.\n",
      "2022-03-09 14:30:15.457768: E tensorflow/core/profiler/internal/gpu/cupti_tracer.cc:1415] function cupti_interface_->Subscribe( &subscriber_, (CUpti_CallbackFunc)ApiCallback, this)failed with error CUPTI_ERROR_NOT_INITIALIZED\n",
      "2022-03-09 14:30:15.457786: I tensorflow/core/profiler/lib/profiler_session.cc:172] Profiler session tear down.\n"
     ]
    },
    {
     "name": "stdout",
     "output_type": "stream",
     "text": [
      "Epoch 1/5\n",
      "   1/1875 [..............................] - ETA: 5:09 - loss: 2.6095 - accuracy: 0.0625WARNING:tensorflow:Callback method `on_train_batch_end` is slow compared to the batch time (batch time: 0.0009s vs `on_train_batch_end` time: 0.0034s). Check your callbacks.\n",
      " 203/1875 [==>...........................] - ETA: 1s - loss: 1.9498 - accuracy: 0.3005"
     ]
    },
    {
     "name": "stderr",
     "output_type": "stream",
     "text": [
      "2022-03-09 14:30:15.819597: I tensorflow/core/profiler/lib/profiler_session.cc:136] Profiler session initializing.\n",
      "2022-03-09 14:30:15.819617: I tensorflow/core/profiler/lib/profiler_session.cc:155] Profiler session started.\n",
      "2022-03-09 14:30:15.819665: E tensorflow/core/profiler/internal/gpu/cupti_tracer.cc:1415] function cupti_interface_->Subscribe( &subscriber_, (CUpti_CallbackFunc)ApiCallback, this)failed with error CUPTI_ERROR_NOT_INITIALIZED\n",
      "2022-03-09 14:30:15.831598: I tensorflow/core/profiler/lib/profiler_session.cc:71] Profiler session collecting data.\n",
      "2022-03-09 14:30:15.832009: I tensorflow/core/profiler/internal/gpu/cupti_collector.cc:228]  GpuTracer has collected 0 callback api events and 0 activity events. \n",
      "2022-03-09 14:30:15.832335: I tensorflow/core/profiler/lib/profiler_session.cc:172] Profiler session tear down.\n",
      "2022-03-09 14:30:15.832765: I tensorflow/core/profiler/rpc/client/save_profile.cc:137] Creating directory: /tmp/tmpa0dqj1rs/train/plugins/profile/2022_03_09_14_30_15\n",
      "2022-03-09 14:30:15.833018: I tensorflow/core/profiler/rpc/client/save_profile.cc:143] Dumped gzipped tool data for trace.json.gz to /tmp/tmpa0dqj1rs/train/plugins/profile/2022_03_09_14_30_15/lps-pc.trace.json.gz\n",
      "2022-03-09 14:30:15.834469: I tensorflow/core/profiler/rpc/client/save_profile.cc:137] Creating directory: /tmp/tmpa0dqj1rs/train/plugins/profile/2022_03_09_14_30_15\n",
      "2022-03-09 14:30:15.834922: I tensorflow/core/profiler/rpc/client/save_profile.cc:143] Dumped gzipped tool data for memory_profile.json.gz to /tmp/tmpa0dqj1rs/train/plugins/profile/2022_03_09_14_30_15/lps-pc.memory_profile.json.gz\n",
      "2022-03-09 14:30:15.835093: I tensorflow/core/profiler/rpc/client/capture_profile.cc:251] Creating directory: /tmp/tmpa0dqj1rs/train/plugins/profile/2022_03_09_14_30_15Dumped tool data for xplane.pb to /tmp/tmpa0dqj1rs/train/plugins/profile/2022_03_09_14_30_15/lps-pc.xplane.pb\n",
      "Dumped tool data for overview_page.pb to /tmp/tmpa0dqj1rs/train/plugins/profile/2022_03_09_14_30_15/lps-pc.overview_page.pb\n",
      "Dumped tool data for input_pipeline.pb to /tmp/tmpa0dqj1rs/train/plugins/profile/2022_03_09_14_30_15/lps-pc.input_pipeline.pb\n",
      "Dumped tool data for tensorflow_stats.pb to /tmp/tmpa0dqj1rs/train/plugins/profile/2022_03_09_14_30_15/lps-pc.tensorflow_stats.pb\n",
      "Dumped tool data for kernel_stats.pb to /tmp/tmpa0dqj1rs/train/plugins/profile/2022_03_09_14_30_15/lps-pc.kernel_stats.pb\n",
      "\n"
     ]
    },
    {
     "name": "stdout",
     "output_type": "stream",
     "text": [
      "1875/1875 [==============================] - 2s 1ms/step - loss: 1.0910 - accuracy: 0.6305 - val_loss: 0.2778 - val_accuracy: 0.9207\n",
      "Epoch 2/5\n",
      "1875/1875 [==============================] - 2s 977us/step - loss: 0.4760 - accuracy: 0.8572 - val_loss: 0.2173 - val_accuracy: 0.9364\n",
      "Epoch 3/5\n",
      "1875/1875 [==============================] - 2s 1ms/step - loss: 0.4077 - accuracy: 0.8791 - val_loss: 0.2070 - val_accuracy: 0.9395\n",
      "Epoch 4/5\n",
      "1875/1875 [==============================] - 2s 1ms/step - loss: 0.3678 - accuracy: 0.8887 - val_loss: 0.1959 - val_accuracy: 0.9409\n",
      "Epoch 5/5\n",
      "1875/1875 [==============================] - 2s 979us/step - loss: 0.3526 - accuracy: 0.8950 - val_loss: 0.1856 - val_accuracy: 0.9458\n",
      "INFO:tensorflow:Assets written to: /tmp/tmpi2zemkba/model/data/model/assets\n",
      "Modelo:  3aff014d84b747dda25d2eb50dd8af2d\n",
      "Model: \"sequential_12\"\n",
      "_________________________________________________________________\n",
      "Layer (type)                 Output Shape              Param #   \n",
      "=================================================================\n",
      "dense_36 (Dense)             (None, 30)                23550     \n",
      "_________________________________________________________________\n",
      "dropout_24 (Dropout)         (None, 30)                0         \n",
      "_________________________________________________________________\n",
      "dense_37 (Dense)             (None, 30)                930       \n",
      "_________________________________________________________________\n",
      "dropout_25 (Dropout)         (None, 30)                0         \n",
      "_________________________________________________________________\n",
      "dense_38 (Dense)             (None, 10)                310       \n",
      "=================================================================\n",
      "Total params: 24,790\n",
      "Trainable params: 24,790\n",
      "Non-trainable params: 0\n",
      "_________________________________________________________________\n"
     ]
    },
    {
     "name": "stderr",
     "output_type": "stream",
     "text": [
      "2022-03-09 14:30:27.889435: I tensorflow/core/profiler/lib/profiler_session.cc:136] Profiler session initializing.\n",
      "2022-03-09 14:30:27.889466: I tensorflow/core/profiler/lib/profiler_session.cc:155] Profiler session started.\n",
      "2022-03-09 14:30:27.889547: E tensorflow/core/profiler/internal/gpu/cupti_tracer.cc:1415] function cupti_interface_->Subscribe( &subscriber_, (CUpti_CallbackFunc)ApiCallback, this)failed with error CUPTI_ERROR_NOT_INITIALIZED\n",
      "2022-03-09 14:30:27.889572: I tensorflow/core/profiler/lib/profiler_session.cc:172] Profiler session tear down.\n"
     ]
    },
    {
     "name": "stdout",
     "output_type": "stream",
     "text": [
      "Epoch 1/5\n",
      "   1/1875 [..............................] - ETA: 5:07 - loss: 2.3150 - accuracy: 0.1250WARNING:tensorflow:Callback method `on_train_batch_end` is slow compared to the batch time (batch time: 0.0012s vs `on_train_batch_end` time: 0.0034s). Check your callbacks.\n",
      " 204/1875 [==>...........................] - ETA: 1s - loss: 1.6339 - accuracy: 0.4469"
     ]
    },
    {
     "name": "stderr",
     "output_type": "stream",
     "text": [
      "2022-03-09 14:30:28.240198: I tensorflow/core/profiler/lib/profiler_session.cc:136] Profiler session initializing.\n",
      "2022-03-09 14:30:28.240218: I tensorflow/core/profiler/lib/profiler_session.cc:155] Profiler session started.\n",
      "2022-03-09 14:30:28.240272: E tensorflow/core/profiler/internal/gpu/cupti_tracer.cc:1415] function cupti_interface_->Subscribe( &subscriber_, (CUpti_CallbackFunc)ApiCallback, this)failed with error CUPTI_ERROR_NOT_INITIALIZED\n",
      "2022-03-09 14:30:28.252313: I tensorflow/core/profiler/lib/profiler_session.cc:71] Profiler session collecting data.\n",
      "2022-03-09 14:30:28.252719: I tensorflow/core/profiler/internal/gpu/cupti_collector.cc:228]  GpuTracer has collected 0 callback api events and 0 activity events. \n",
      "2022-03-09 14:30:28.253028: I tensorflow/core/profiler/lib/profiler_session.cc:172] Profiler session tear down.\n",
      "2022-03-09 14:30:28.253467: I tensorflow/core/profiler/rpc/client/save_profile.cc:137] Creating directory: /tmp/tmpylssd36a/train/plugins/profile/2022_03_09_14_30_28\n",
      "2022-03-09 14:30:28.253717: I tensorflow/core/profiler/rpc/client/save_profile.cc:143] Dumped gzipped tool data for trace.json.gz to /tmp/tmpylssd36a/train/plugins/profile/2022_03_09_14_30_28/lps-pc.trace.json.gz\n",
      "2022-03-09 14:30:28.255163: I tensorflow/core/profiler/rpc/client/save_profile.cc:137] Creating directory: /tmp/tmpylssd36a/train/plugins/profile/2022_03_09_14_30_28\n",
      "2022-03-09 14:30:28.255555: I tensorflow/core/profiler/rpc/client/save_profile.cc:143] Dumped gzipped tool data for memory_profile.json.gz to /tmp/tmpylssd36a/train/plugins/profile/2022_03_09_14_30_28/lps-pc.memory_profile.json.gz\n",
      "2022-03-09 14:30:28.255631: I tensorflow/core/profiler/rpc/client/capture_profile.cc:251] Creating directory: /tmp/tmpylssd36a/train/plugins/profile/2022_03_09_14_30_28Dumped tool data for xplane.pb to /tmp/tmpylssd36a/train/plugins/profile/2022_03_09_14_30_28/lps-pc.xplane.pb\n",
      "Dumped tool data for overview_page.pb to /tmp/tmpylssd36a/train/plugins/profile/2022_03_09_14_30_28/lps-pc.overview_page.pb\n",
      "Dumped tool data for input_pipeline.pb to /tmp/tmpylssd36a/train/plugins/profile/2022_03_09_14_30_28/lps-pc.input_pipeline.pb\n",
      "Dumped tool data for tensorflow_stats.pb to /tmp/tmpylssd36a/train/plugins/profile/2022_03_09_14_30_28/lps-pc.tensorflow_stats.pb\n",
      "Dumped tool data for kernel_stats.pb to /tmp/tmpylssd36a/train/plugins/profile/2022_03_09_14_30_28/lps-pc.kernel_stats.pb\n",
      "\n"
     ]
    },
    {
     "name": "stdout",
     "output_type": "stream",
     "text": [
      "1875/1875 [==============================] - 2s 1ms/step - loss: 0.7488 - accuracy: 0.7631 - val_loss: 0.1973 - val_accuracy: 0.9408\n",
      "Epoch 2/5\n",
      "1875/1875 [==============================] - 2s 1ms/step - loss: 0.2634 - accuracy: 0.9206 - val_loss: 0.1577 - val_accuracy: 0.9541\n",
      "Epoch 3/5\n",
      "1875/1875 [==============================] - 2s 979us/step - loss: 0.2117 - accuracy: 0.9386 - val_loss: 0.1366 - val_accuracy: 0.9579\n",
      "Epoch 4/5\n",
      "1875/1875 [==============================] - 2s 947us/step - loss: 0.1856 - accuracy: 0.9435 - val_loss: 0.1383 - val_accuracy: 0.9591\n",
      "Epoch 5/5\n",
      "1875/1875 [==============================] - 2s 955us/step - loss: 0.1733 - accuracy: 0.9475 - val_loss: 0.1216 - val_accuracy: 0.9651\n",
      "INFO:tensorflow:Assets written to: /tmp/tmpozj5g40r/model/data/model/assets\n",
      "Modelo:  c89f0dee6e144f8b93da5adee1f231b1\n",
      "Model: \"sequential_13\"\n",
      "_________________________________________________________________\n",
      "Layer (type)                 Output Shape              Param #   \n",
      "=================================================================\n",
      "dense_39 (Dense)             (None, 15)                11775     \n",
      "_________________________________________________________________\n",
      "dropout_26 (Dropout)         (None, 15)                0         \n",
      "_________________________________________________________________\n",
      "dense_40 (Dense)             (None, 15)                240       \n",
      "_________________________________________________________________\n",
      "dropout_27 (Dropout)         (None, 15)                0         \n",
      "_________________________________________________________________\n",
      "dense_41 (Dense)             (None, 15)                240       \n",
      "_________________________________________________________________\n",
      "dropout_28 (Dropout)         (None, 15)                0         \n",
      "_________________________________________________________________\n",
      "dense_42 (Dense)             (None, 15)                240       \n",
      "_________________________________________________________________\n",
      "dropout_29 (Dropout)         (None, 15)                0         \n",
      "_________________________________________________________________\n",
      "dense_43 (Dense)             (None, 15)                240       \n",
      "_________________________________________________________________\n",
      "dropout_30 (Dropout)         (None, 15)                0         \n",
      "_________________________________________________________________\n",
      "dense_44 (Dense)             (None, 10)                160       \n",
      "=================================================================\n",
      "Total params: 12,895\n",
      "Trainable params: 12,895\n",
      "Non-trainable params: 0\n",
      "_________________________________________________________________\n"
     ]
    },
    {
     "name": "stderr",
     "output_type": "stream",
     "text": [
      "2022-03-09 14:30:40.345060: I tensorflow/core/profiler/lib/profiler_session.cc:136] Profiler session initializing.\n",
      "2022-03-09 14:30:40.345088: I tensorflow/core/profiler/lib/profiler_session.cc:155] Profiler session started.\n",
      "2022-03-09 14:30:40.345160: E tensorflow/core/profiler/internal/gpu/cupti_tracer.cc:1415] function cupti_interface_->Subscribe( &subscriber_, (CUpti_CallbackFunc)ApiCallback, this)failed with error CUPTI_ERROR_NOT_INITIALIZED\n",
      "2022-03-09 14:30:40.345178: I tensorflow/core/profiler/lib/profiler_session.cc:172] Profiler session tear down.\n"
     ]
    },
    {
     "name": "stdout",
     "output_type": "stream",
     "text": [
      "Epoch 1/5\n",
      "   1/1875 [..............................] - ETA: 6:44 - loss: 2.3311 - accuracy: 0.0938WARNING:tensorflow:Callback method `on_train_batch_end` is slow compared to the batch time (batch time: 0.0010s vs `on_train_batch_end` time: 0.0043s). Check your callbacks.\n",
      " 178/1875 [=>............................] - ETA: 1s - loss: 2.2296 - accuracy: 0.1570"
     ]
    },
    {
     "name": "stderr",
     "output_type": "stream",
     "text": [
      "2022-03-09 14:30:40.757226: I tensorflow/core/profiler/lib/profiler_session.cc:136] Profiler session initializing.\n",
      "2022-03-09 14:30:40.757247: I tensorflow/core/profiler/lib/profiler_session.cc:155] Profiler session started.\n",
      "2022-03-09 14:30:40.757292: E tensorflow/core/profiler/internal/gpu/cupti_tracer.cc:1415] function cupti_interface_->Subscribe( &subscriber_, (CUpti_CallbackFunc)ApiCallback, this)failed with error CUPTI_ERROR_NOT_INITIALIZED\n",
      "2022-03-09 14:30:40.773238: I tensorflow/core/profiler/lib/profiler_session.cc:71] Profiler session collecting data.\n",
      "2022-03-09 14:30:40.773753: I tensorflow/core/profiler/internal/gpu/cupti_collector.cc:228]  GpuTracer has collected 0 callback api events and 0 activity events. \n",
      "2022-03-09 14:30:40.774079: I tensorflow/core/profiler/lib/profiler_session.cc:172] Profiler session tear down.\n",
      "2022-03-09 14:30:40.774516: I tensorflow/core/profiler/rpc/client/save_profile.cc:137] Creating directory: /tmp/tmp5qq59b5r/train/plugins/profile/2022_03_09_14_30_40\n",
      "2022-03-09 14:30:40.774785: I tensorflow/core/profiler/rpc/client/save_profile.cc:143] Dumped gzipped tool data for trace.json.gz to /tmp/tmp5qq59b5r/train/plugins/profile/2022_03_09_14_30_40/lps-pc.trace.json.gz\n",
      "2022-03-09 14:30:40.776572: I tensorflow/core/profiler/rpc/client/save_profile.cc:137] Creating directory: /tmp/tmp5qq59b5r/train/plugins/profile/2022_03_09_14_30_40\n",
      "2022-03-09 14:30:40.777137: I tensorflow/core/profiler/rpc/client/save_profile.cc:143] Dumped gzipped tool data for memory_profile.json.gz to /tmp/tmp5qq59b5r/train/plugins/profile/2022_03_09_14_30_40/lps-pc.memory_profile.json.gz\n",
      "2022-03-09 14:30:40.777210: I tensorflow/core/profiler/rpc/client/capture_profile.cc:251] Creating directory: /tmp/tmp5qq59b5r/train/plugins/profile/2022_03_09_14_30_40Dumped tool data for xplane.pb to /tmp/tmp5qq59b5r/train/plugins/profile/2022_03_09_14_30_40/lps-pc.xplane.pb\n",
      "Dumped tool data for overview_page.pb to /tmp/tmp5qq59b5r/train/plugins/profile/2022_03_09_14_30_40/lps-pc.overview_page.pb\n",
      "Dumped tool data for input_pipeline.pb to /tmp/tmp5qq59b5r/train/plugins/profile/2022_03_09_14_30_40/lps-pc.input_pipeline.pb\n",
      "Dumped tool data for tensorflow_stats.pb to /tmp/tmp5qq59b5r/train/plugins/profile/2022_03_09_14_30_40/lps-pc.tensorflow_stats.pb\n",
      "Dumped tool data for kernel_stats.pb to /tmp/tmp5qq59b5r/train/plugins/profile/2022_03_09_14_30_40/lps-pc.kernel_stats.pb\n",
      "\n"
     ]
    },
    {
     "name": "stdout",
     "output_type": "stream",
     "text": [
      "1875/1875 [==============================] - 3s 1ms/step - loss: 1.7744 - accuracy: 0.3652 - val_loss: 0.8142 - val_accuracy: 0.7629\n",
      "Epoch 2/5\n",
      "1875/1875 [==============================] - 2s 1ms/step - loss: 1.0978 - accuracy: 0.6186 - val_loss: 0.6438 - val_accuracy: 0.8386\n",
      "Epoch 3/5\n",
      "1875/1875 [==============================] - 2s 1ms/step - loss: 0.9612 - accuracy: 0.6972 - val_loss: 0.5832 - val_accuracy: 0.8557\n",
      "Epoch 4/5\n",
      "1875/1875 [==============================] - 2s 1ms/step - loss: 0.9168 - accuracy: 0.7147 - val_loss: 0.5424 - val_accuracy: 0.8708\n",
      "Epoch 5/5\n",
      "1875/1875 [==============================] - 2s 1ms/step - loss: 0.8824 - accuracy: 0.7287 - val_loss: 0.5137 - val_accuracy: 0.8784\n",
      "INFO:tensorflow:Assets written to: /tmp/tmp829i9vq7/model/data/model/assets\n",
      "Modelo:  864eab5755174727850972a6ee51a6ca\n",
      "Model: \"sequential_14\"\n",
      "_________________________________________________________________\n",
      "Layer (type)                 Output Shape              Param #   \n",
      "=================================================================\n",
      "dense_45 (Dense)             (None, 15)                11775     \n",
      "_________________________________________________________________\n",
      "dropout_31 (Dropout)         (None, 15)                0         \n",
      "_________________________________________________________________\n",
      "dense_46 (Dense)             (None, 15)                240       \n",
      "_________________________________________________________________\n",
      "dropout_32 (Dropout)         (None, 15)                0         \n",
      "_________________________________________________________________\n",
      "dense_47 (Dense)             (None, 15)                240       \n",
      "_________________________________________________________________\n",
      "dropout_33 (Dropout)         (None, 15)                0         \n",
      "_________________________________________________________________\n",
      "dense_48 (Dense)             (None, 15)                240       \n",
      "_________________________________________________________________\n",
      "dropout_34 (Dropout)         (None, 15)                0         \n",
      "_________________________________________________________________\n",
      "dense_49 (Dense)             (None, 15)                240       \n",
      "_________________________________________________________________\n",
      "dropout_35 (Dropout)         (None, 15)                0         \n",
      "_________________________________________________________________\n",
      "dense_50 (Dense)             (None, 10)                160       \n",
      "=================================================================\n",
      "Total params: 12,895\n",
      "Trainable params: 12,895\n",
      "Non-trainable params: 0\n",
      "_________________________________________________________________\n"
     ]
    },
    {
     "name": "stderr",
     "output_type": "stream",
     "text": [
      "2022-03-09 14:30:55.435036: I tensorflow/core/profiler/lib/profiler_session.cc:136] Profiler session initializing.\n",
      "2022-03-09 14:30:55.435065: I tensorflow/core/profiler/lib/profiler_session.cc:155] Profiler session started.\n",
      "2022-03-09 14:30:55.435146: E tensorflow/core/profiler/internal/gpu/cupti_tracer.cc:1415] function cupti_interface_->Subscribe( &subscriber_, (CUpti_CallbackFunc)ApiCallback, this)failed with error CUPTI_ERROR_NOT_INITIALIZED\n",
      "2022-03-09 14:30:55.435167: I tensorflow/core/profiler/lib/profiler_session.cc:172] Profiler session tear down.\n"
     ]
    },
    {
     "name": "stdout",
     "output_type": "stream",
     "text": [
      "Epoch 1/5\n",
      "   1/1875 [..............................] - ETA: 6:49 - loss: 2.2996 - accuracy: 0.0938WARNING:tensorflow:Callback method `on_train_batch_end` is slow compared to the batch time (batch time: 0.0010s vs `on_train_batch_end` time: 0.0044s). Check your callbacks.\n",
      " 170/1875 [=>............................] - ETA: 2s - loss: 2.2868 - accuracy: 0.1212"
     ]
    },
    {
     "name": "stderr",
     "output_type": "stream",
     "text": [
      "2022-03-09 14:30:55.926050: I tensorflow/core/profiler/lib/profiler_session.cc:136] Profiler session initializing.\n",
      "2022-03-09 14:30:55.926077: I tensorflow/core/profiler/lib/profiler_session.cc:155] Profiler session started.\n",
      "2022-03-09 14:30:55.926153: E tensorflow/core/profiler/internal/gpu/cupti_tracer.cc:1415] function cupti_interface_->Subscribe( &subscriber_, (CUpti_CallbackFunc)ApiCallback, this)failed with error CUPTI_ERROR_NOT_INITIALIZED\n",
      "2022-03-09 14:30:55.942396: I tensorflow/core/profiler/lib/profiler_session.cc:71] Profiler session collecting data.\n",
      "2022-03-09 14:30:55.942920: I tensorflow/core/profiler/internal/gpu/cupti_collector.cc:228]  GpuTracer has collected 0 callback api events and 0 activity events. \n",
      "2022-03-09 14:30:55.943227: I tensorflow/core/profiler/lib/profiler_session.cc:172] Profiler session tear down.\n",
      "2022-03-09 14:30:55.943661: I tensorflow/core/profiler/rpc/client/save_profile.cc:137] Creating directory: /tmp/tmprax7aren/train/plugins/profile/2022_03_09_14_30_55\n",
      "2022-03-09 14:30:55.943922: I tensorflow/core/profiler/rpc/client/save_profile.cc:143] Dumped gzipped tool data for trace.json.gz to /tmp/tmprax7aren/train/plugins/profile/2022_03_09_14_30_55/lps-pc.trace.json.gz\n",
      "2022-03-09 14:30:55.945734: I tensorflow/core/profiler/rpc/client/save_profile.cc:137] Creating directory: /tmp/tmprax7aren/train/plugins/profile/2022_03_09_14_30_55\n",
      "2022-03-09 14:30:55.946165: I tensorflow/core/profiler/rpc/client/save_profile.cc:143] Dumped gzipped tool data for memory_profile.json.gz to /tmp/tmprax7aren/train/plugins/profile/2022_03_09_14_30_55/lps-pc.memory_profile.json.gz\n",
      "2022-03-09 14:30:55.946241: I tensorflow/core/profiler/rpc/client/capture_profile.cc:251] Creating directory: /tmp/tmprax7aren/train/plugins/profile/2022_03_09_14_30_55Dumped tool data for xplane.pb to /tmp/tmprax7aren/train/plugins/profile/2022_03_09_14_30_55/lps-pc.xplane.pb\n",
      "Dumped tool data for overview_page.pb to /tmp/tmprax7aren/train/plugins/profile/2022_03_09_14_30_55/lps-pc.overview_page.pb\n",
      "Dumped tool data for input_pipeline.pb to /tmp/tmprax7aren/train/plugins/profile/2022_03_09_14_30_55/lps-pc.input_pipeline.pb\n",
      "Dumped tool data for tensorflow_stats.pb to /tmp/tmprax7aren/train/plugins/profile/2022_03_09_14_30_55/lps-pc.tensorflow_stats.pb\n",
      "Dumped tool data for kernel_stats.pb to /tmp/tmprax7aren/train/plugins/profile/2022_03_09_14_30_55/lps-pc.kernel_stats.pb\n",
      "\n"
     ]
    },
    {
     "name": "stdout",
     "output_type": "stream",
     "text": [
      "1875/1875 [==============================] - 3s 1ms/step - loss: 1.9158 - accuracy: 0.2599 - val_loss: 1.2404 - val_accuracy: 0.4860\n",
      "Epoch 2/5\n",
      "1875/1875 [==============================] - 2s 1ms/step - loss: 1.4028 - accuracy: 0.4361 - val_loss: 1.0847 - val_accuracy: 0.5961\n",
      "Epoch 3/5\n",
      "1875/1875 [==============================] - 2s 1ms/step - loss: 1.3196 - accuracy: 0.4780 - val_loss: 1.0551 - val_accuracy: 0.6137\n",
      "Epoch 4/5\n",
      "1875/1875 [==============================] - 2s 1ms/step - loss: 1.2395 - accuracy: 0.5132 - val_loss: 0.9871 - val_accuracy: 0.6459\n",
      "Epoch 5/5\n",
      "1875/1875 [==============================] - 2s 1ms/step - loss: 1.2121 - accuracy: 0.5306 - val_loss: 0.9535 - val_accuracy: 0.6410\n",
      "INFO:tensorflow:Assets written to: /tmp/tmpvjjutl1h/model/data/model/assets\n",
      "Modelo:  5cb8bd9671a14910a4a9405289aefc0b\n",
      "Model: \"sequential_15\"\n",
      "_________________________________________________________________\n",
      "Layer (type)                 Output Shape              Param #   \n",
      "=================================================================\n",
      "dense_51 (Dense)             (None, 15)                11775     \n",
      "_________________________________________________________________\n",
      "dropout_36 (Dropout)         (None, 15)                0         \n",
      "_________________________________________________________________\n",
      "dense_52 (Dense)             (None, 15)                240       \n",
      "_________________________________________________________________\n",
      "dropout_37 (Dropout)         (None, 15)                0         \n",
      "_________________________________________________________________\n",
      "dense_53 (Dense)             (None, 15)                240       \n",
      "_________________________________________________________________\n",
      "dropout_38 (Dropout)         (None, 15)                0         \n",
      "_________________________________________________________________\n",
      "dense_54 (Dense)             (None, 15)                240       \n",
      "_________________________________________________________________\n",
      "dropout_39 (Dropout)         (None, 15)                0         \n",
      "_________________________________________________________________\n",
      "dense_55 (Dense)             (None, 15)                240       \n",
      "_________________________________________________________________\n",
      "dropout_40 (Dropout)         (None, 15)                0         \n",
      "_________________________________________________________________\n",
      "dense_56 (Dense)             (None, 10)                160       \n",
      "=================================================================\n",
      "Total params: 12,895\n",
      "Trainable params: 12,895\n",
      "Non-trainable params: 0\n",
      "_________________________________________________________________\n"
     ]
    },
    {
     "name": "stderr",
     "output_type": "stream",
     "text": [
      "2022-03-09 14:31:10.488049: I tensorflow/core/profiler/lib/profiler_session.cc:136] Profiler session initializing.\n",
      "2022-03-09 14:31:10.488086: I tensorflow/core/profiler/lib/profiler_session.cc:155] Profiler session started.\n",
      "2022-03-09 14:31:10.488189: E tensorflow/core/profiler/internal/gpu/cupti_tracer.cc:1415] function cupti_interface_->Subscribe( &subscriber_, (CUpti_CallbackFunc)ApiCallback, this)failed with error CUPTI_ERROR_NOT_INITIALIZED\n",
      "2022-03-09 14:31:10.488221: I tensorflow/core/profiler/lib/profiler_session.cc:172] Profiler session tear down.\n"
     ]
    },
    {
     "name": "stdout",
     "output_type": "stream",
     "text": [
      "Epoch 1/5\n",
      "   1/1875 [..............................] - ETA: 7:05 - loss: 2.3157 - accuracy: 0.0938WARNING:tensorflow:Callback method `on_train_batch_end` is slow compared to the batch time (batch time: 0.0009s vs `on_train_batch_end` time: 0.0045s). Check your callbacks.\n",
      " 182/1875 [=>............................] - ETA: 1s - loss: 2.1901 - accuracy: 0.1567"
     ]
    },
    {
     "name": "stderr",
     "output_type": "stream",
     "text": [
      "2022-03-09 14:31:10.908601: I tensorflow/core/profiler/lib/profiler_session.cc:136] Profiler session initializing.\n",
      "2022-03-09 14:31:10.908625: I tensorflow/core/profiler/lib/profiler_session.cc:155] Profiler session started.\n",
      "2022-03-09 14:31:10.908675: E tensorflow/core/profiler/internal/gpu/cupti_tracer.cc:1415] function cupti_interface_->Subscribe( &subscriber_, (CUpti_CallbackFunc)ApiCallback, this)failed with error CUPTI_ERROR_NOT_INITIALIZED\n",
      "2022-03-09 14:31:10.924018: I tensorflow/core/profiler/lib/profiler_session.cc:71] Profiler session collecting data.\n",
      "2022-03-09 14:31:10.924521: I tensorflow/core/profiler/internal/gpu/cupti_collector.cc:228]  GpuTracer has collected 0 callback api events and 0 activity events. \n",
      "2022-03-09 14:31:10.924821: I tensorflow/core/profiler/lib/profiler_session.cc:172] Profiler session tear down.\n",
      "2022-03-09 14:31:10.925237: I tensorflow/core/profiler/rpc/client/save_profile.cc:137] Creating directory: /tmp/tmpvree9xgx/train/plugins/profile/2022_03_09_14_31_10\n",
      "2022-03-09 14:31:10.925486: I tensorflow/core/profiler/rpc/client/save_profile.cc:143] Dumped gzipped tool data for trace.json.gz to /tmp/tmpvree9xgx/train/plugins/profile/2022_03_09_14_31_10/lps-pc.trace.json.gz\n",
      "2022-03-09 14:31:10.927298: I tensorflow/core/profiler/rpc/client/save_profile.cc:137] Creating directory: /tmp/tmpvree9xgx/train/plugins/profile/2022_03_09_14_31_10\n",
      "2022-03-09 14:31:10.927773: I tensorflow/core/profiler/rpc/client/save_profile.cc:143] Dumped gzipped tool data for memory_profile.json.gz to /tmp/tmpvree9xgx/train/plugins/profile/2022_03_09_14_31_10/lps-pc.memory_profile.json.gz\n",
      "2022-03-09 14:31:10.927864: I tensorflow/core/profiler/rpc/client/capture_profile.cc:251] Creating directory: /tmp/tmpvree9xgx/train/plugins/profile/2022_03_09_14_31_10Dumped tool data for xplane.pb to /tmp/tmpvree9xgx/train/plugins/profile/2022_03_09_14_31_10/lps-pc.xplane.pb\n",
      "Dumped tool data for overview_page.pb to /tmp/tmpvree9xgx/train/plugins/profile/2022_03_09_14_31_10/lps-pc.overview_page.pb\n",
      "Dumped tool data for input_pipeline.pb to /tmp/tmpvree9xgx/train/plugins/profile/2022_03_09_14_31_10/lps-pc.input_pipeline.pb\n",
      "Dumped tool data for tensorflow_stats.pb to /tmp/tmpvree9xgx/train/plugins/profile/2022_03_09_14_31_10/lps-pc.tensorflow_stats.pb\n",
      "Dumped tool data for kernel_stats.pb to /tmp/tmpvree9xgx/train/plugins/profile/2022_03_09_14_31_10/lps-pc.kernel_stats.pb\n",
      "\n"
     ]
    },
    {
     "name": "stdout",
     "output_type": "stream",
     "text": [
      "1875/1875 [==============================] - 3s 1ms/step - loss: 1.4521 - accuracy: 0.4690 - val_loss: 0.4472 - val_accuracy: 0.8764\n",
      "Epoch 2/5\n",
      "1875/1875 [==============================] - 2s 1ms/step - loss: 0.6503 - accuracy: 0.8053 - val_loss: 0.3468 - val_accuracy: 0.9085\n",
      "Epoch 3/5\n",
      "1875/1875 [==============================] - 2s 1ms/step - loss: 0.5505 - accuracy: 0.8391 - val_loss: 0.3345 - val_accuracy: 0.9132\n",
      "Epoch 4/5\n",
      "1875/1875 [==============================] - 2s 1ms/step - loss: 0.5253 - accuracy: 0.8493 - val_loss: 0.3253 - val_accuracy: 0.9148\n",
      "Epoch 5/5\n",
      "1875/1875 [==============================] - 2s 1ms/step - loss: 0.4973 - accuracy: 0.8562 - val_loss: 0.2990 - val_accuracy: 0.9226\n",
      "INFO:tensorflow:Assets written to: /tmp/tmpeaeg3vpq/model/data/model/assets\n",
      "Modelo:  a7234a462c7c459b9d1bdf0c06bcc239\n",
      "Model: \"sequential_16\"\n",
      "_________________________________________________________________\n",
      "Layer (type)                 Output Shape              Param #   \n",
      "=================================================================\n",
      "dense_57 (Dense)             (None, 20)                15700     \n",
      "_________________________________________________________________\n",
      "dropout_41 (Dropout)         (None, 20)                0         \n",
      "_________________________________________________________________\n",
      "dense_58 (Dense)             (None, 20)                420       \n",
      "_________________________________________________________________\n",
      "dropout_42 (Dropout)         (None, 20)                0         \n",
      "_________________________________________________________________\n",
      "dense_59 (Dense)             (None, 20)                420       \n",
      "_________________________________________________________________\n",
      "dropout_43 (Dropout)         (None, 20)                0         \n",
      "_________________________________________________________________\n",
      "dense_60 (Dense)             (None, 20)                420       \n",
      "_________________________________________________________________\n",
      "dropout_44 (Dropout)         (None, 20)                0         \n",
      "_________________________________________________________________\n",
      "dense_61 (Dense)             (None, 20)                420       \n",
      "_________________________________________________________________\n",
      "dropout_45 (Dropout)         (None, 20)                0         \n",
      "_________________________________________________________________\n",
      "dense_62 (Dense)             (None, 10)                210       \n",
      "=================================================================\n",
      "Total params: 17,590\n",
      "Trainable params: 17,590\n",
      "Non-trainable params: 0\n",
      "_________________________________________________________________\n"
     ]
    },
    {
     "name": "stderr",
     "output_type": "stream",
     "text": [
      "2022-03-09 14:31:25.762021: I tensorflow/core/profiler/lib/profiler_session.cc:136] Profiler session initializing.\n",
      "2022-03-09 14:31:25.762048: I tensorflow/core/profiler/lib/profiler_session.cc:155] Profiler session started.\n",
      "2022-03-09 14:31:25.762126: E tensorflow/core/profiler/internal/gpu/cupti_tracer.cc:1415] function cupti_interface_->Subscribe( &subscriber_, (CUpti_CallbackFunc)ApiCallback, this)failed with error CUPTI_ERROR_NOT_INITIALIZED\n",
      "2022-03-09 14:31:25.762144: I tensorflow/core/profiler/lib/profiler_session.cc:172] Profiler session tear down.\n"
     ]
    },
    {
     "name": "stdout",
     "output_type": "stream",
     "text": [
      "Epoch 1/5\n",
      "   1/1875 [..............................] - ETA: 6:49 - loss: 2.3564 - accuracy: 0.0312WARNING:tensorflow:Callback method `on_train_batch_end` is slow compared to the batch time (batch time: 0.0010s vs `on_train_batch_end` time: 0.0050s). Check your callbacks.\n",
      " 152/1875 [=>............................] - ETA: 2s - loss: 2.2592 - accuracy: 0.1348"
     ]
    },
    {
     "name": "stderr",
     "output_type": "stream",
     "text": [
      "2022-03-09 14:31:26.231232: I tensorflow/core/profiler/lib/profiler_session.cc:136] Profiler session initializing.\n",
      "2022-03-09 14:31:26.231252: I tensorflow/core/profiler/lib/profiler_session.cc:155] Profiler session started.\n",
      "2022-03-09 14:31:26.231297: E tensorflow/core/profiler/internal/gpu/cupti_tracer.cc:1415] function cupti_interface_->Subscribe( &subscriber_, (CUpti_CallbackFunc)ApiCallback, this)failed with error CUPTI_ERROR_NOT_INITIALIZED\n",
      "2022-03-09 14:31:26.250145: I tensorflow/core/profiler/lib/profiler_session.cc:71] Profiler session collecting data.\n",
      "2022-03-09 14:31:26.250672: I tensorflow/core/profiler/internal/gpu/cupti_collector.cc:228]  GpuTracer has collected 0 callback api events and 0 activity events. \n",
      "2022-03-09 14:31:26.251012: I tensorflow/core/profiler/lib/profiler_session.cc:172] Profiler session tear down.\n",
      "2022-03-09 14:31:26.251479: I tensorflow/core/profiler/rpc/client/save_profile.cc:137] Creating directory: /tmp/tmp5vacbkl3/train/plugins/profile/2022_03_09_14_31_26\n",
      "2022-03-09 14:31:26.251750: I tensorflow/core/profiler/rpc/client/save_profile.cc:143] Dumped gzipped tool data for trace.json.gz to /tmp/tmp5vacbkl3/train/plugins/profile/2022_03_09_14_31_26/lps-pc.trace.json.gz\n",
      "2022-03-09 14:31:26.253670: I tensorflow/core/profiler/rpc/client/save_profile.cc:137] Creating directory: /tmp/tmp5vacbkl3/train/plugins/profile/2022_03_09_14_31_26\n",
      "2022-03-09 14:31:26.254266: I tensorflow/core/profiler/rpc/client/save_profile.cc:143] Dumped gzipped tool data for memory_profile.json.gz to /tmp/tmp5vacbkl3/train/plugins/profile/2022_03_09_14_31_26/lps-pc.memory_profile.json.gz\n",
      "2022-03-09 14:31:26.254364: I tensorflow/core/profiler/rpc/client/capture_profile.cc:251] Creating directory: /tmp/tmp5vacbkl3/train/plugins/profile/2022_03_09_14_31_26Dumped tool data for xplane.pb to /tmp/tmp5vacbkl3/train/plugins/profile/2022_03_09_14_31_26/lps-pc.xplane.pb\n",
      "Dumped tool data for overview_page.pb to /tmp/tmp5vacbkl3/train/plugins/profile/2022_03_09_14_31_26/lps-pc.overview_page.pb\n",
      "Dumped tool data for input_pipeline.pb to /tmp/tmp5vacbkl3/train/plugins/profile/2022_03_09_14_31_26/lps-pc.input_pipeline.pb\n",
      "Dumped tool data for tensorflow_stats.pb to /tmp/tmp5vacbkl3/train/plugins/profile/2022_03_09_14_31_26/lps-pc.tensorflow_stats.pb\n",
      "Dumped tool data for kernel_stats.pb to /tmp/tmp5vacbkl3/train/plugins/profile/2022_03_09_14_31_26/lps-pc.kernel_stats.pb\n",
      "\n"
     ]
    },
    {
     "name": "stdout",
     "output_type": "stream",
     "text": [
      "1875/1875 [==============================] - 3s 1ms/step - loss: 1.5478 - accuracy: 0.4357 - val_loss: 0.5140 - val_accuracy: 0.8751\n",
      "Epoch 2/5\n",
      "1875/1875 [==============================] - 2s 1ms/step - loss: 0.7902 - accuracy: 0.7465 - val_loss: 0.3908 - val_accuracy: 0.9033\n",
      "Epoch 3/5\n",
      "1875/1875 [==============================] - 2s 1ms/step - loss: 0.6829 - accuracy: 0.7924 - val_loss: 0.3578 - val_accuracy: 0.9091\n",
      "Epoch 4/5\n",
      "1875/1875 [==============================] - 2s 1ms/step - loss: 0.6123 - accuracy: 0.8228 - val_loss: 0.3249 - val_accuracy: 0.9184\n",
      "Epoch 5/5\n",
      "1875/1875 [==============================] - 2s 1ms/step - loss: 0.6015 - accuracy: 0.8319 - val_loss: 0.3364 - val_accuracy: 0.9133\n",
      "INFO:tensorflow:Assets written to: /tmp/tmp2ro9n69l/model/data/model/assets\n",
      "Modelo:  768c3117e0834f2eacd33a7b8e61aed4\n",
      "Model: \"sequential_17\"\n",
      "_________________________________________________________________\n",
      "Layer (type)                 Output Shape              Param #   \n",
      "=================================================================\n",
      "dense_63 (Dense)             (None, 20)                15700     \n",
      "_________________________________________________________________\n",
      "dropout_46 (Dropout)         (None, 20)                0         \n",
      "_________________________________________________________________\n",
      "dense_64 (Dense)             (None, 20)                420       \n",
      "_________________________________________________________________\n",
      "dropout_47 (Dropout)         (None, 20)                0         \n",
      "_________________________________________________________________\n",
      "dense_65 (Dense)             (None, 20)                420       \n",
      "_________________________________________________________________\n",
      "dropout_48 (Dropout)         (None, 20)                0         \n",
      "_________________________________________________________________\n",
      "dense_66 (Dense)             (None, 20)                420       \n",
      "_________________________________________________________________\n",
      "dropout_49 (Dropout)         (None, 20)                0         \n",
      "_________________________________________________________________\n",
      "dense_67 (Dense)             (None, 20)                420       \n",
      "_________________________________________________________________\n",
      "dropout_50 (Dropout)         (None, 20)                0         \n",
      "_________________________________________________________________\n",
      "dense_68 (Dense)             (None, 10)                210       \n",
      "=================================================================\n",
      "Total params: 17,590\n",
      "Trainable params: 17,590\n",
      "Non-trainable params: 0\n",
      "_________________________________________________________________\n"
     ]
    },
    {
     "name": "stderr",
     "output_type": "stream",
     "text": [
      "2022-03-09 14:31:40.825438: I tensorflow/core/profiler/lib/profiler_session.cc:136] Profiler session initializing.\n",
      "2022-03-09 14:31:40.825465: I tensorflow/core/profiler/lib/profiler_session.cc:155] Profiler session started.\n",
      "2022-03-09 14:31:40.825548: E tensorflow/core/profiler/internal/gpu/cupti_tracer.cc:1415] function cupti_interface_->Subscribe( &subscriber_, (CUpti_CallbackFunc)ApiCallback, this)failed with error CUPTI_ERROR_NOT_INITIALIZED\n",
      "2022-03-09 14:31:40.825573: I tensorflow/core/profiler/lib/profiler_session.cc:172] Profiler session tear down.\n"
     ]
    },
    {
     "name": "stdout",
     "output_type": "stream",
     "text": [
      "Epoch 1/5\n",
      "   1/1875 [..............................] - ETA: 6:55 - loss: 2.3820 - accuracy: 0.1562WARNING:tensorflow:Callback method `on_train_batch_end` is slow compared to the batch time (batch time: 0.0010s vs `on_train_batch_end` time: 0.0051s). Check your callbacks.\n",
      " 163/1875 [=>............................] - ETA: 2s - loss: 2.2859 - accuracy: 0.1328"
     ]
    },
    {
     "name": "stderr",
     "output_type": "stream",
     "text": [
      "2022-03-09 14:31:41.242844: I tensorflow/core/profiler/lib/profiler_session.cc:136] Profiler session initializing.\n",
      "2022-03-09 14:31:41.242866: I tensorflow/core/profiler/lib/profiler_session.cc:155] Profiler session started.\n",
      "2022-03-09 14:31:41.242912: E tensorflow/core/profiler/internal/gpu/cupti_tracer.cc:1415] function cupti_interface_->Subscribe( &subscriber_, (CUpti_CallbackFunc)ApiCallback, this)failed with error CUPTI_ERROR_NOT_INITIALIZED\n",
      "2022-03-09 14:31:41.262182: I tensorflow/core/profiler/lib/profiler_session.cc:71] Profiler session collecting data.\n",
      "2022-03-09 14:31:41.262693: I tensorflow/core/profiler/internal/gpu/cupti_collector.cc:228]  GpuTracer has collected 0 callback api events and 0 activity events. \n",
      "2022-03-09 14:31:41.263012: I tensorflow/core/profiler/lib/profiler_session.cc:172] Profiler session tear down.\n",
      "2022-03-09 14:31:41.263449: I tensorflow/core/profiler/rpc/client/save_profile.cc:137] Creating directory: /tmp/tmpx0kwvqfu/train/plugins/profile/2022_03_09_14_31_41\n",
      "2022-03-09 14:31:41.263710: I tensorflow/core/profiler/rpc/client/save_profile.cc:143] Dumped gzipped tool data for trace.json.gz to /tmp/tmpx0kwvqfu/train/plugins/profile/2022_03_09_14_31_41/lps-pc.trace.json.gz\n",
      "2022-03-09 14:31:41.265492: I tensorflow/core/profiler/rpc/client/save_profile.cc:137] Creating directory: /tmp/tmpx0kwvqfu/train/plugins/profile/2022_03_09_14_31_41\n",
      "2022-03-09 14:31:41.266037: I tensorflow/core/profiler/rpc/client/save_profile.cc:143] Dumped gzipped tool data for memory_profile.json.gz to /tmp/tmpx0kwvqfu/train/plugins/profile/2022_03_09_14_31_41/lps-pc.memory_profile.json.gz\n",
      "2022-03-09 14:31:41.266117: I tensorflow/core/profiler/rpc/client/capture_profile.cc:251] Creating directory: /tmp/tmpx0kwvqfu/train/plugins/profile/2022_03_09_14_31_41Dumped tool data for xplane.pb to /tmp/tmpx0kwvqfu/train/plugins/profile/2022_03_09_14_31_41/lps-pc.xplane.pb\n",
      "Dumped tool data for overview_page.pb to /tmp/tmpx0kwvqfu/train/plugins/profile/2022_03_09_14_31_41/lps-pc.overview_page.pb\n",
      "Dumped tool data for input_pipeline.pb to /tmp/tmpx0kwvqfu/train/plugins/profile/2022_03_09_14_31_41/lps-pc.input_pipeline.pb\n",
      "Dumped tool data for tensorflow_stats.pb to /tmp/tmpx0kwvqfu/train/plugins/profile/2022_03_09_14_31_41/lps-pc.tensorflow_stats.pb\n",
      "Dumped tool data for kernel_stats.pb to /tmp/tmpx0kwvqfu/train/plugins/profile/2022_03_09_14_31_41/lps-pc.kernel_stats.pb\n",
      "\n"
     ]
    },
    {
     "name": "stdout",
     "output_type": "stream",
     "text": [
      "1875/1875 [==============================] - 3s 1ms/step - loss: 1.8073 - accuracy: 0.3308 - val_loss: 0.8345 - val_accuracy: 0.7379\n",
      "Epoch 2/5\n",
      "1875/1875 [==============================] - 2s 1ms/step - loss: 1.1694 - accuracy: 0.5750 - val_loss: 0.7224 - val_accuracy: 0.7726\n",
      "Epoch 3/5\n",
      "1875/1875 [==============================] - 2s 1ms/step - loss: 1.0468 - accuracy: 0.6238 - val_loss: 0.6806 - val_accuracy: 0.7863\n",
      "Epoch 4/5\n",
      "1875/1875 [==============================] - 2s 1ms/step - loss: 0.9933 - accuracy: 0.6541 - val_loss: 0.6259 - val_accuracy: 0.8007\n",
      "Epoch 5/5\n",
      "1875/1875 [==============================] - 2s 1ms/step - loss: 0.9377 - accuracy: 0.6730 - val_loss: 0.6062 - val_accuracy: 0.7956\n",
      "INFO:tensorflow:Assets written to: /tmp/tmpg418letb/model/data/model/assets\n",
      "Modelo:  9cea36be206340fc924dc072c7d53345\n",
      "Model: \"sequential_18\"\n",
      "_________________________________________________________________\n",
      "Layer (type)                 Output Shape              Param #   \n",
      "=================================================================\n",
      "dense_69 (Dense)             (None, 20)                15700     \n",
      "_________________________________________________________________\n",
      "dropout_51 (Dropout)         (None, 20)                0         \n",
      "_________________________________________________________________\n",
      "dense_70 (Dense)             (None, 20)                420       \n",
      "_________________________________________________________________\n",
      "dropout_52 (Dropout)         (None, 20)                0         \n",
      "_________________________________________________________________\n",
      "dense_71 (Dense)             (None, 20)                420       \n",
      "_________________________________________________________________\n",
      "dropout_53 (Dropout)         (None, 20)                0         \n",
      "_________________________________________________________________\n",
      "dense_72 (Dense)             (None, 20)                420       \n",
      "_________________________________________________________________\n",
      "dropout_54 (Dropout)         (None, 20)                0         \n",
      "_________________________________________________________________\n",
      "dense_73 (Dense)             (None, 20)                420       \n",
      "_________________________________________________________________\n",
      "dropout_55 (Dropout)         (None, 20)                0         \n",
      "_________________________________________________________________\n",
      "dense_74 (Dense)             (None, 10)                210       \n",
      "=================================================================\n",
      "Total params: 17,590\n",
      "Trainable params: 17,590\n",
      "Non-trainable params: 0\n",
      "_________________________________________________________________\n"
     ]
    },
    {
     "name": "stderr",
     "output_type": "stream",
     "text": [
      "2022-03-09 14:31:55.804818: I tensorflow/core/profiler/lib/profiler_session.cc:136] Profiler session initializing.\n",
      "2022-03-09 14:31:55.804847: I tensorflow/core/profiler/lib/profiler_session.cc:155] Profiler session started.\n",
      "2022-03-09 14:31:55.804927: E tensorflow/core/profiler/internal/gpu/cupti_tracer.cc:1415] function cupti_interface_->Subscribe( &subscriber_, (CUpti_CallbackFunc)ApiCallback, this)failed with error CUPTI_ERROR_NOT_INITIALIZED\n",
      "2022-03-09 14:31:55.804947: I tensorflow/core/profiler/lib/profiler_session.cc:172] Profiler session tear down.\n"
     ]
    },
    {
     "name": "stdout",
     "output_type": "stream",
     "text": [
      "Epoch 1/5\n",
      "   1/1875 [..............................] - ETA: 6:43 - loss: 2.2875 - accuracy: 0.0938WARNING:tensorflow:Callback method `on_train_batch_end` is slow compared to the batch time (batch time: 0.0010s vs `on_train_batch_end` time: 0.0052s). Check your callbacks.\n",
      " 157/1875 [=>............................] - ETA: 2s - loss: 2.1336 - accuracy: 0.1615"
     ]
    },
    {
     "name": "stderr",
     "output_type": "stream",
     "text": [
      "2022-03-09 14:31:56.216203: I tensorflow/core/profiler/lib/profiler_session.cc:136] Profiler session initializing.\n",
      "2022-03-09 14:31:56.216229: I tensorflow/core/profiler/lib/profiler_session.cc:155] Profiler session started.\n",
      "2022-03-09 14:31:56.216288: E tensorflow/core/profiler/internal/gpu/cupti_tracer.cc:1415] function cupti_interface_->Subscribe( &subscriber_, (CUpti_CallbackFunc)ApiCallback, this)failed with error CUPTI_ERROR_NOT_INITIALIZED\n",
      "2022-03-09 14:31:56.236295: I tensorflow/core/profiler/lib/profiler_session.cc:71] Profiler session collecting data.\n",
      "2022-03-09 14:31:56.236865: I tensorflow/core/profiler/internal/gpu/cupti_collector.cc:228]  GpuTracer has collected 0 callback api events and 0 activity events. \n",
      "2022-03-09 14:31:56.237195: I tensorflow/core/profiler/lib/profiler_session.cc:172] Profiler session tear down.\n",
      "2022-03-09 14:31:56.238223: I tensorflow/core/profiler/rpc/client/save_profile.cc:137] Creating directory: /tmp/tmp2xtxv8bh/train/plugins/profile/2022_03_09_14_31_56\n",
      "2022-03-09 14:31:56.238490: I tensorflow/core/profiler/rpc/client/save_profile.cc:143] Dumped gzipped tool data for trace.json.gz to /tmp/tmp2xtxv8bh/train/plugins/profile/2022_03_09_14_31_56/lps-pc.trace.json.gz\n",
      "2022-03-09 14:31:56.240315: I tensorflow/core/profiler/rpc/client/save_profile.cc:137] Creating directory: /tmp/tmp2xtxv8bh/train/plugins/profile/2022_03_09_14_31_56\n",
      "2022-03-09 14:31:56.240885: I tensorflow/core/profiler/rpc/client/save_profile.cc:143] Dumped gzipped tool data for memory_profile.json.gz to /tmp/tmp2xtxv8bh/train/plugins/profile/2022_03_09_14_31_56/lps-pc.memory_profile.json.gz\n",
      "2022-03-09 14:31:56.241005: I tensorflow/core/profiler/rpc/client/capture_profile.cc:251] Creating directory: /tmp/tmp2xtxv8bh/train/plugins/profile/2022_03_09_14_31_56Dumped tool data for xplane.pb to /tmp/tmp2xtxv8bh/train/plugins/profile/2022_03_09_14_31_56/lps-pc.xplane.pb\n",
      "Dumped tool data for overview_page.pb to /tmp/tmp2xtxv8bh/train/plugins/profile/2022_03_09_14_31_56/lps-pc.overview_page.pb\n",
      "Dumped tool data for input_pipeline.pb to /tmp/tmp2xtxv8bh/train/plugins/profile/2022_03_09_14_31_56/lps-pc.input_pipeline.pb\n",
      "Dumped tool data for tensorflow_stats.pb to /tmp/tmp2xtxv8bh/train/plugins/profile/2022_03_09_14_31_56/lps-pc.tensorflow_stats.pb\n",
      "Dumped tool data for kernel_stats.pb to /tmp/tmp2xtxv8bh/train/plugins/profile/2022_03_09_14_31_56/lps-pc.kernel_stats.pb\n",
      "\n"
     ]
    },
    {
     "name": "stdout",
     "output_type": "stream",
     "text": [
      "1875/1875 [==============================] - 3s 1ms/step - loss: 1.2525 - accuracy: 0.5416 - val_loss: 0.3111 - val_accuracy: 0.9165\n",
      "Epoch 2/5\n",
      "1875/1875 [==============================] - 2s 1ms/step - loss: 0.5018 - accuracy: 0.8584 - val_loss: 0.2835 - val_accuracy: 0.9194\n",
      "Epoch 3/5\n",
      "1875/1875 [==============================] - 2s 1ms/step - loss: 0.4229 - accuracy: 0.8818 - val_loss: 0.2428 - val_accuracy: 0.9328\n",
      "Epoch 4/5\n",
      "1875/1875 [==============================] - 2s 1ms/step - loss: 0.3824 - accuracy: 0.8954 - val_loss: 0.2378 - val_accuracy: 0.9367\n",
      "Epoch 5/5\n",
      "1875/1875 [==============================] - 2s 1ms/step - loss: 0.3577 - accuracy: 0.9039 - val_loss: 0.2204 - val_accuracy: 0.9420\n",
      "INFO:tensorflow:Assets written to: /tmp/tmpnagh044b/model/data/model/assets\n",
      "Modelo:  3f5df94f8ff644a598c614f9d0367530\n",
      "Model: \"sequential_19\"\n",
      "_________________________________________________________________\n",
      "Layer (type)                 Output Shape              Param #   \n",
      "=================================================================\n",
      "dense_75 (Dense)             (None, 30)                23550     \n",
      "_________________________________________________________________\n",
      "dropout_56 (Dropout)         (None, 30)                0         \n",
      "_________________________________________________________________\n",
      "dense_76 (Dense)             (None, 30)                930       \n",
      "_________________________________________________________________\n",
      "dropout_57 (Dropout)         (None, 30)                0         \n",
      "_________________________________________________________________\n",
      "dense_77 (Dense)             (None, 30)                930       \n",
      "_________________________________________________________________\n",
      "dropout_58 (Dropout)         (None, 30)                0         \n",
      "_________________________________________________________________\n",
      "dense_78 (Dense)             (None, 30)                930       \n",
      "_________________________________________________________________\n",
      "dropout_59 (Dropout)         (None, 30)                0         \n",
      "_________________________________________________________________\n",
      "dense_79 (Dense)             (None, 30)                930       \n",
      "_________________________________________________________________\n",
      "dropout_60 (Dropout)         (None, 30)                0         \n",
      "_________________________________________________________________\n",
      "dense_80 (Dense)             (None, 10)                310       \n",
      "=================================================================\n",
      "Total params: 27,580\n",
      "Trainable params: 27,580\n",
      "Non-trainable params: 0\n",
      "_________________________________________________________________\n"
     ]
    },
    {
     "name": "stderr",
     "output_type": "stream",
     "text": [
      "2022-03-09 14:32:10.818179: I tensorflow/core/profiler/lib/profiler_session.cc:136] Profiler session initializing.\n",
      "2022-03-09 14:32:10.818213: I tensorflow/core/profiler/lib/profiler_session.cc:155] Profiler session started.\n",
      "2022-03-09 14:32:10.818300: E tensorflow/core/profiler/internal/gpu/cupti_tracer.cc:1415] function cupti_interface_->Subscribe( &subscriber_, (CUpti_CallbackFunc)ApiCallback, this)failed with error CUPTI_ERROR_NOT_INITIALIZED\n",
      "2022-03-09 14:32:10.818323: I tensorflow/core/profiler/lib/profiler_session.cc:172] Profiler session tear down.\n"
     ]
    },
    {
     "name": "stdout",
     "output_type": "stream",
     "text": [
      "Epoch 1/5\n",
      "   1/1875 [..............................] - ETA: 6:53 - loss: 2.2756 - accuracy: 0.2188WARNING:tensorflow:Callback method `on_train_batch_end` is slow compared to the batch time (batch time: 0.0010s vs `on_train_batch_end` time: 0.0048s). Check your callbacks.\n",
      " 165/1875 [=>............................] - ETA: 2s - loss: 2.1675 - accuracy: 0.1887"
     ]
    },
    {
     "name": "stderr",
     "output_type": "stream",
     "text": [
      "2022-03-09 14:32:11.230475: I tensorflow/core/profiler/lib/profiler_session.cc:136] Profiler session initializing.\n",
      "2022-03-09 14:32:11.230496: I tensorflow/core/profiler/lib/profiler_session.cc:155] Profiler session started.\n",
      "2022-03-09 14:32:11.230545: E tensorflow/core/profiler/internal/gpu/cupti_tracer.cc:1415] function cupti_interface_->Subscribe( &subscriber_, (CUpti_CallbackFunc)ApiCallback, this)failed with error CUPTI_ERROR_NOT_INITIALIZED\n",
      "2022-03-09 14:32:11.247289: I tensorflow/core/profiler/lib/profiler_session.cc:71] Profiler session collecting data.\n",
      "2022-03-09 14:32:11.247824: I tensorflow/core/profiler/internal/gpu/cupti_collector.cc:228]  GpuTracer has collected 0 callback api events and 0 activity events. \n",
      "2022-03-09 14:32:11.248130: I tensorflow/core/profiler/lib/profiler_session.cc:172] Profiler session tear down.\n",
      "2022-03-09 14:32:11.248666: I tensorflow/core/profiler/rpc/client/save_profile.cc:137] Creating directory: /tmp/tmpthijjuw6/train/plugins/profile/2022_03_09_14_32_11\n",
      "2022-03-09 14:32:11.248990: I tensorflow/core/profiler/rpc/client/save_profile.cc:143] Dumped gzipped tool data for trace.json.gz to /tmp/tmpthijjuw6/train/plugins/profile/2022_03_09_14_32_11/lps-pc.trace.json.gz\n",
      "2022-03-09 14:32:11.250919: I tensorflow/core/profiler/rpc/client/save_profile.cc:137] Creating directory: /tmp/tmpthijjuw6/train/plugins/profile/2022_03_09_14_32_11\n",
      "2022-03-09 14:32:11.251341: I tensorflow/core/profiler/rpc/client/save_profile.cc:143] Dumped gzipped tool data for memory_profile.json.gz to /tmp/tmpthijjuw6/train/plugins/profile/2022_03_09_14_32_11/lps-pc.memory_profile.json.gz\n",
      "2022-03-09 14:32:11.251414: I tensorflow/core/profiler/rpc/client/capture_profile.cc:251] Creating directory: /tmp/tmpthijjuw6/train/plugins/profile/2022_03_09_14_32_11Dumped tool data for xplane.pb to /tmp/tmpthijjuw6/train/plugins/profile/2022_03_09_14_32_11/lps-pc.xplane.pb\n",
      "Dumped tool data for overview_page.pb to /tmp/tmpthijjuw6/train/plugins/profile/2022_03_09_14_32_11/lps-pc.overview_page.pb\n",
      "Dumped tool data for input_pipeline.pb to /tmp/tmpthijjuw6/train/plugins/profile/2022_03_09_14_32_11/lps-pc.input_pipeline.pb\n",
      "Dumped tool data for tensorflow_stats.pb to /tmp/tmpthijjuw6/train/plugins/profile/2022_03_09_14_32_11/lps-pc.tensorflow_stats.pb\n",
      "Dumped tool data for kernel_stats.pb to /tmp/tmpthijjuw6/train/plugins/profile/2022_03_09_14_32_11/lps-pc.kernel_stats.pb\n",
      "\n"
     ]
    },
    {
     "name": "stdout",
     "output_type": "stream",
     "text": [
      "1875/1875 [==============================] - 3s 1ms/step - loss: 1.2865 - accuracy: 0.5396 - val_loss: 0.3150 - val_accuracy: 0.9130\n",
      "Epoch 2/5\n",
      "1875/1875 [==============================] - 2s 1ms/step - loss: 0.5051 - accuracy: 0.8634 - val_loss: 0.2458 - val_accuracy: 0.9334\n",
      "Epoch 3/5\n",
      "1875/1875 [==============================] - 2s 1ms/step - loss: 0.4278 - accuracy: 0.8868 - val_loss: 0.2300 - val_accuracy: 0.9389\n",
      "Epoch 4/5\n",
      "1875/1875 [==============================] - 2s 1ms/step - loss: 0.3819 - accuracy: 0.9001 - val_loss: 0.2207 - val_accuracy: 0.9386\n",
      "Epoch 5/5\n",
      "1875/1875 [==============================] - 2s 1ms/step - loss: 0.3578 - accuracy: 0.9080 - val_loss: 0.2219 - val_accuracy: 0.9435\n",
      "INFO:tensorflow:Assets written to: /tmp/tmp1kqsyyxm/model/data/model/assets\n",
      "Modelo:  29938c4ab4304ddcb3697d9c7a518cbe\n",
      "Model: \"sequential_20\"\n",
      "_________________________________________________________________\n",
      "Layer (type)                 Output Shape              Param #   \n",
      "=================================================================\n",
      "dense_81 (Dense)             (None, 30)                23550     \n",
      "_________________________________________________________________\n",
      "dropout_61 (Dropout)         (None, 30)                0         \n",
      "_________________________________________________________________\n",
      "dense_82 (Dense)             (None, 30)                930       \n",
      "_________________________________________________________________\n",
      "dropout_62 (Dropout)         (None, 30)                0         \n",
      "_________________________________________________________________\n",
      "dense_83 (Dense)             (None, 30)                930       \n",
      "_________________________________________________________________\n",
      "dropout_63 (Dropout)         (None, 30)                0         \n",
      "_________________________________________________________________\n",
      "dense_84 (Dense)             (None, 30)                930       \n",
      "_________________________________________________________________\n",
      "dropout_64 (Dropout)         (None, 30)                0         \n",
      "_________________________________________________________________\n",
      "dense_85 (Dense)             (None, 30)                930       \n",
      "_________________________________________________________________\n",
      "dropout_65 (Dropout)         (None, 30)                0         \n",
      "_________________________________________________________________\n",
      "dense_86 (Dense)             (None, 10)                310       \n",
      "=================================================================\n",
      "Total params: 27,580\n",
      "Trainable params: 27,580\n",
      "Non-trainable params: 0\n",
      "_________________________________________________________________\n"
     ]
    },
    {
     "name": "stderr",
     "output_type": "stream",
     "text": [
      "2022-03-09 14:32:26.089978: I tensorflow/core/profiler/lib/profiler_session.cc:136] Profiler session initializing.\n",
      "2022-03-09 14:32:26.090007: I tensorflow/core/profiler/lib/profiler_session.cc:155] Profiler session started.\n",
      "2022-03-09 14:32:26.090081: E tensorflow/core/profiler/internal/gpu/cupti_tracer.cc:1415] function cupti_interface_->Subscribe( &subscriber_, (CUpti_CallbackFunc)ApiCallback, this)failed with error CUPTI_ERROR_NOT_INITIALIZED\n",
      "2022-03-09 14:32:26.090099: I tensorflow/core/profiler/lib/profiler_session.cc:172] Profiler session tear down.\n"
     ]
    },
    {
     "name": "stdout",
     "output_type": "stream",
     "text": [
      "Epoch 1/5\n",
      "   1/1875 [..............................] - ETA: 7:00 - loss: 2.2897 - accuracy: 0.1250WARNING:tensorflow:Callback method `on_train_batch_end` is slow compared to the batch time (batch time: 0.0010s vs `on_train_batch_end` time: 0.0053s). Check your callbacks.\n",
      " 165/1875 [=>............................] - ETA: 2s - loss: 2.2584 - accuracy: 0.1330"
     ]
    },
    {
     "name": "stderr",
     "output_type": "stream",
     "text": [
      "2022-03-09 14:32:26.504253: I tensorflow/core/profiler/lib/profiler_session.cc:136] Profiler session initializing.\n",
      "2022-03-09 14:32:26.504276: I tensorflow/core/profiler/lib/profiler_session.cc:155] Profiler session started.\n",
      "2022-03-09 14:32:26.504325: E tensorflow/core/profiler/internal/gpu/cupti_tracer.cc:1415] function cupti_interface_->Subscribe( &subscriber_, (CUpti_CallbackFunc)ApiCallback, this)failed with error CUPTI_ERROR_NOT_INITIALIZED\n",
      "2022-03-09 14:32:26.524643: I tensorflow/core/profiler/lib/profiler_session.cc:71] Profiler session collecting data.\n",
      "2022-03-09 14:32:26.525174: I tensorflow/core/profiler/internal/gpu/cupti_collector.cc:228]  GpuTracer has collected 0 callback api events and 0 activity events. \n",
      "2022-03-09 14:32:26.525528: I tensorflow/core/profiler/lib/profiler_session.cc:172] Profiler session tear down.\n",
      "2022-03-09 14:32:26.526001: I tensorflow/core/profiler/rpc/client/save_profile.cc:137] Creating directory: /tmp/tmpyz5pbsr7/train/plugins/profile/2022_03_09_14_32_26\n",
      "2022-03-09 14:32:26.526274: I tensorflow/core/profiler/rpc/client/save_profile.cc:143] Dumped gzipped tool data for trace.json.gz to /tmp/tmpyz5pbsr7/train/plugins/profile/2022_03_09_14_32_26/lps-pc.trace.json.gz\n",
      "2022-03-09 14:32:26.528121: I tensorflow/core/profiler/rpc/client/save_profile.cc:137] Creating directory: /tmp/tmpyz5pbsr7/train/plugins/profile/2022_03_09_14_32_26\n",
      "2022-03-09 14:32:26.528723: I tensorflow/core/profiler/rpc/client/save_profile.cc:143] Dumped gzipped tool data for memory_profile.json.gz to /tmp/tmpyz5pbsr7/train/plugins/profile/2022_03_09_14_32_26/lps-pc.memory_profile.json.gz\n",
      "2022-03-09 14:32:26.528803: I tensorflow/core/profiler/rpc/client/capture_profile.cc:251] Creating directory: /tmp/tmpyz5pbsr7/train/plugins/profile/2022_03_09_14_32_26Dumped tool data for xplane.pb to /tmp/tmpyz5pbsr7/train/plugins/profile/2022_03_09_14_32_26/lps-pc.xplane.pb\n",
      "Dumped tool data for overview_page.pb to /tmp/tmpyz5pbsr7/train/plugins/profile/2022_03_09_14_32_26/lps-pc.overview_page.pb\n",
      "Dumped tool data for input_pipeline.pb to /tmp/tmpyz5pbsr7/train/plugins/profile/2022_03_09_14_32_26/lps-pc.input_pipeline.pb\n",
      "Dumped tool data for tensorflow_stats.pb to /tmp/tmpyz5pbsr7/train/plugins/profile/2022_03_09_14_32_26/lps-pc.tensorflow_stats.pb\n",
      "Dumped tool data for kernel_stats.pb to /tmp/tmpyz5pbsr7/train/plugins/profile/2022_03_09_14_32_26/lps-pc.kernel_stats.pb\n",
      "\n"
     ]
    },
    {
     "name": "stdout",
     "output_type": "stream",
     "text": [
      "1875/1875 [==============================] - 3s 1ms/step - loss: 1.6457 - accuracy: 0.3908 - val_loss: 0.6989 - val_accuracy: 0.7218\n",
      "Epoch 2/5\n",
      "1875/1875 [==============================] - 2s 1ms/step - loss: 0.9638 - accuracy: 0.6389 - val_loss: 0.6296 - val_accuracy: 0.7318\n",
      "Epoch 3/5\n",
      "1875/1875 [==============================] - 2s 1ms/step - loss: 0.8586 - accuracy: 0.6742 - val_loss: 0.5802 - val_accuracy: 0.7538\n",
      "Epoch 4/5\n",
      "1875/1875 [==============================] - 2s 1ms/step - loss: 0.8158 - accuracy: 0.6934 - val_loss: 0.5605 - val_accuracy: 0.7506\n",
      "Epoch 5/5\n",
      "1875/1875 [==============================] - 2s 1ms/step - loss: 0.7620 - accuracy: 0.7071 - val_loss: 0.5474 - val_accuracy: 0.7554\n",
      "INFO:tensorflow:Assets written to: /tmp/tmpqvcsshwh/model/data/model/assets\n",
      "Modelo:  44c39805e34c4715a7f3fda64bd2eb75\n",
      "Model: \"sequential_21\"\n",
      "_________________________________________________________________\n",
      "Layer (type)                 Output Shape              Param #   \n",
      "=================================================================\n",
      "dense_87 (Dense)             (None, 30)                23550     \n",
      "_________________________________________________________________\n",
      "dropout_66 (Dropout)         (None, 30)                0         \n",
      "_________________________________________________________________\n",
      "dense_88 (Dense)             (None, 30)                930       \n",
      "_________________________________________________________________\n",
      "dropout_67 (Dropout)         (None, 30)                0         \n",
      "_________________________________________________________________\n",
      "dense_89 (Dense)             (None, 30)                930       \n",
      "_________________________________________________________________\n",
      "dropout_68 (Dropout)         (None, 30)                0         \n",
      "_________________________________________________________________\n",
      "dense_90 (Dense)             (None, 30)                930       \n",
      "_________________________________________________________________\n",
      "dropout_69 (Dropout)         (None, 30)                0         \n",
      "_________________________________________________________________\n",
      "dense_91 (Dense)             (None, 30)                930       \n",
      "_________________________________________________________________\n",
      "dropout_70 (Dropout)         (None, 30)                0         \n",
      "_________________________________________________________________\n",
      "dense_92 (Dense)             (None, 10)                310       \n",
      "=================================================================\n",
      "Total params: 27,580\n",
      "Trainable params: 27,580\n",
      "Non-trainable params: 0\n",
      "_________________________________________________________________\n"
     ]
    },
    {
     "name": "stderr",
     "output_type": "stream",
     "text": [
      "2022-03-09 14:32:41.252747: I tensorflow/core/profiler/lib/profiler_session.cc:136] Profiler session initializing.\n",
      "2022-03-09 14:32:41.252771: I tensorflow/core/profiler/lib/profiler_session.cc:155] Profiler session started.\n",
      "2022-03-09 14:32:41.252839: E tensorflow/core/profiler/internal/gpu/cupti_tracer.cc:1415] function cupti_interface_->Subscribe( &subscriber_, (CUpti_CallbackFunc)ApiCallback, this)failed with error CUPTI_ERROR_NOT_INITIALIZED\n",
      "2022-03-09 14:32:41.252854: I tensorflow/core/profiler/lib/profiler_session.cc:172] Profiler session tear down.\n"
     ]
    },
    {
     "name": "stdout",
     "output_type": "stream",
     "text": [
      "Epoch 1/5\n",
      "   1/1875 [..............................] - ETA: 7:00 - loss: 2.3352 - accuracy: 0.0938WARNING:tensorflow:Callback method `on_train_batch_end` is slow compared to the batch time (batch time: 0.0011s vs `on_train_batch_end` time: 0.0048s). Check your callbacks.\n",
      " 162/1875 [=>............................] - ETA: 2s - loss: 2.0750 - accuracy: 0.2412"
     ]
    },
    {
     "name": "stderr",
     "output_type": "stream",
     "text": [
      "2022-03-09 14:32:41.684542: I tensorflow/core/profiler/lib/profiler_session.cc:136] Profiler session initializing.\n",
      "2022-03-09 14:32:41.684565: I tensorflow/core/profiler/lib/profiler_session.cc:155] Profiler session started.\n",
      "2022-03-09 14:32:41.684616: E tensorflow/core/profiler/internal/gpu/cupti_tracer.cc:1415] function cupti_interface_->Subscribe( &subscriber_, (CUpti_CallbackFunc)ApiCallback, this)failed with error CUPTI_ERROR_NOT_INITIALIZED\n",
      "2022-03-09 14:32:41.702147: I tensorflow/core/profiler/lib/profiler_session.cc:71] Profiler session collecting data.\n",
      "2022-03-09 14:32:41.702691: I tensorflow/core/profiler/internal/gpu/cupti_collector.cc:228]  GpuTracer has collected 0 callback api events and 0 activity events. \n",
      "2022-03-09 14:32:41.703073: I tensorflow/core/profiler/lib/profiler_session.cc:172] Profiler session tear down.\n",
      "2022-03-09 14:32:41.703562: I tensorflow/core/profiler/rpc/client/save_profile.cc:137] Creating directory: /tmp/tmpb89o5tro/train/plugins/profile/2022_03_09_14_32_41\n",
      "2022-03-09 14:32:41.703856: I tensorflow/core/profiler/rpc/client/save_profile.cc:143] Dumped gzipped tool data for trace.json.gz to /tmp/tmpb89o5tro/train/plugins/profile/2022_03_09_14_32_41/lps-pc.trace.json.gz\n",
      "2022-03-09 14:32:41.705814: I tensorflow/core/profiler/rpc/client/save_profile.cc:137] Creating directory: /tmp/tmpb89o5tro/train/plugins/profile/2022_03_09_14_32_41\n",
      "2022-03-09 14:32:41.706425: I tensorflow/core/profiler/rpc/client/save_profile.cc:143] Dumped gzipped tool data for memory_profile.json.gz to /tmp/tmpb89o5tro/train/plugins/profile/2022_03_09_14_32_41/lps-pc.memory_profile.json.gz\n",
      "2022-03-09 14:32:41.706504: I tensorflow/core/profiler/rpc/client/capture_profile.cc:251] Creating directory: /tmp/tmpb89o5tro/train/plugins/profile/2022_03_09_14_32_41Dumped tool data for xplane.pb to /tmp/tmpb89o5tro/train/plugins/profile/2022_03_09_14_32_41/lps-pc.xplane.pb\n",
      "Dumped tool data for overview_page.pb to /tmp/tmpb89o5tro/train/plugins/profile/2022_03_09_14_32_41/lps-pc.overview_page.pb\n",
      "Dumped tool data for input_pipeline.pb to /tmp/tmpb89o5tro/train/plugins/profile/2022_03_09_14_32_41/lps-pc.input_pipeline.pb\n",
      "Dumped tool data for tensorflow_stats.pb to /tmp/tmpb89o5tro/train/plugins/profile/2022_03_09_14_32_41/lps-pc.tensorflow_stats.pb\n",
      "Dumped tool data for kernel_stats.pb to /tmp/tmpb89o5tro/train/plugins/profile/2022_03_09_14_32_41/lps-pc.kernel_stats.pb\n",
      "\n"
     ]
    },
    {
     "name": "stdout",
     "output_type": "stream",
     "text": [
      "1875/1875 [==============================] - 3s 1ms/step - loss: 1.0207 - accuracy: 0.6582 - val_loss: 0.2291 - val_accuracy: 0.9339\n",
      "Epoch 2/5\n",
      "1875/1875 [==============================] - 2s 1ms/step - loss: 0.3438 - accuracy: 0.9082 - val_loss: 0.1892 - val_accuracy: 0.9471\n",
      "Epoch 3/5\n",
      "1875/1875 [==============================] - 2s 1ms/step - loss: 0.2741 - accuracy: 0.9277 - val_loss: 0.1729 - val_accuracy: 0.9520\n",
      "Epoch 4/5\n",
      "1875/1875 [==============================] - 2s 1ms/step - loss: 0.2454 - accuracy: 0.9346 - val_loss: 0.1576 - val_accuracy: 0.9566\n",
      "Epoch 5/5\n",
      "1875/1875 [==============================] - 2s 1ms/step - loss: 0.2293 - accuracy: 0.9407 - val_loss: 0.1570 - val_accuracy: 0.9555\n",
      "INFO:tensorflow:Assets written to: /tmp/tmp0ix63dy0/model/data/model/assets\n",
      "Modelo:  a669e2039c284915acb1c7a29038f948\n",
      "Model: \"sequential_22\"\n",
      "_________________________________________________________________\n",
      "Layer (type)                 Output Shape              Param #   \n",
      "=================================================================\n",
      "dense_93 (Dense)             (None, 15)                11775     \n",
      "_________________________________________________________________\n",
      "dropout_71 (Dropout)         (None, 15)                0         \n",
      "_________________________________________________________________\n",
      "dense_94 (Dense)             (None, 15)                240       \n",
      "_________________________________________________________________\n",
      "dropout_72 (Dropout)         (None, 15)                0         \n",
      "_________________________________________________________________\n",
      "dense_95 (Dense)             (None, 15)                240       \n",
      "_________________________________________________________________\n",
      "dropout_73 (Dropout)         (None, 15)                0         \n",
      "_________________________________________________________________\n",
      "dense_96 (Dense)             (None, 15)                240       \n",
      "_________________________________________________________________\n",
      "dropout_74 (Dropout)         (None, 15)                0         \n",
      "_________________________________________________________________\n",
      "dense_97 (Dense)             (None, 15)                240       \n",
      "_________________________________________________________________\n",
      "dropout_75 (Dropout)         (None, 15)                0         \n",
      "_________________________________________________________________\n",
      "dense_98 (Dense)             (None, 15)                240       \n",
      "_________________________________________________________________\n",
      "dropout_76 (Dropout)         (None, 15)                0         \n",
      "_________________________________________________________________\n",
      "dense_99 (Dense)             (None, 15)                240       \n",
      "_________________________________________________________________\n",
      "dropout_77 (Dropout)         (None, 15)                0         \n",
      "_________________________________________________________________\n",
      "dense_100 (Dense)            (None, 15)                240       \n",
      "_________________________________________________________________\n",
      "dropout_78 (Dropout)         (None, 15)                0         \n",
      "_________________________________________________________________\n",
      "dense_101 (Dense)            (None, 10)                160       \n",
      "=================================================================\n",
      "Total params: 13,615\n",
      "Trainable params: 13,615\n",
      "Non-trainable params: 0\n",
      "_________________________________________________________________\n"
     ]
    },
    {
     "name": "stderr",
     "output_type": "stream",
     "text": [
      "2022-03-09 14:32:55.965247: I tensorflow/core/profiler/lib/profiler_session.cc:136] Profiler session initializing.\n",
      "2022-03-09 14:32:55.965279: I tensorflow/core/profiler/lib/profiler_session.cc:155] Profiler session started.\n",
      "2022-03-09 14:32:55.965362: E tensorflow/core/profiler/internal/gpu/cupti_tracer.cc:1415] function cupti_interface_->Subscribe( &subscriber_, (CUpti_CallbackFunc)ApiCallback, this)failed with error CUPTI_ERROR_NOT_INITIALIZED\n",
      "2022-03-09 14:32:55.965380: I tensorflow/core/profiler/lib/profiler_session.cc:172] Profiler session tear down.\n"
     ]
    },
    {
     "name": "stdout",
     "output_type": "stream",
     "text": [
      "Epoch 1/5\n",
      "   1/1875 [..............................] - ETA: 9:14 - loss: 2.3097 - accuracy: 0.0312WARNING:tensorflow:Callback method `on_train_batch_end` is slow compared to the batch time (batch time: 0.0013s vs `on_train_batch_end` time: 0.0062s). Check your callbacks.\n",
      " 134/1875 [=>............................] - ETA: 2s - loss: 2.2954 - accuracy: 0.0938"
     ]
    },
    {
     "name": "stderr",
     "output_type": "stream",
     "text": [
      "2022-03-09 14:32:56.463841: I tensorflow/core/profiler/lib/profiler_session.cc:136] Profiler session initializing.\n",
      "2022-03-09 14:32:56.463861: I tensorflow/core/profiler/lib/profiler_session.cc:155] Profiler session started.\n",
      "2022-03-09 14:32:56.463908: E tensorflow/core/profiler/internal/gpu/cupti_tracer.cc:1415] function cupti_interface_->Subscribe( &subscriber_, (CUpti_CallbackFunc)ApiCallback, this)failed with error CUPTI_ERROR_NOT_INITIALIZED\n",
      "2022-03-09 14:32:56.487093: I tensorflow/core/profiler/lib/profiler_session.cc:71] Profiler session collecting data.\n",
      "2022-03-09 14:32:56.487780: I tensorflow/core/profiler/internal/gpu/cupti_collector.cc:228]  GpuTracer has collected 0 callback api events and 0 activity events. \n",
      "2022-03-09 14:32:56.488152: I tensorflow/core/profiler/lib/profiler_session.cc:172] Profiler session tear down.\n",
      "2022-03-09 14:32:56.488670: I tensorflow/core/profiler/rpc/client/save_profile.cc:137] Creating directory: /tmp/tmptu6bv21q/train/plugins/profile/2022_03_09_14_32_56\n",
      "2022-03-09 14:32:56.488959: I tensorflow/core/profiler/rpc/client/save_profile.cc:143] Dumped gzipped tool data for trace.json.gz to /tmp/tmptu6bv21q/train/plugins/profile/2022_03_09_14_32_56/lps-pc.trace.json.gz\n",
      "2022-03-09 14:32:56.491432: I tensorflow/core/profiler/rpc/client/save_profile.cc:137] Creating directory: /tmp/tmptu6bv21q/train/plugins/profile/2022_03_09_14_32_56\n",
      "2022-03-09 14:32:56.492266: I tensorflow/core/profiler/rpc/client/save_profile.cc:143] Dumped gzipped tool data for memory_profile.json.gz to /tmp/tmptu6bv21q/train/plugins/profile/2022_03_09_14_32_56/lps-pc.memory_profile.json.gz\n",
      "2022-03-09 14:32:56.492349: I tensorflow/core/profiler/rpc/client/capture_profile.cc:251] Creating directory: /tmp/tmptu6bv21q/train/plugins/profile/2022_03_09_14_32_56Dumped tool data for xplane.pb to /tmp/tmptu6bv21q/train/plugins/profile/2022_03_09_14_32_56/lps-pc.xplane.pb\n",
      "Dumped tool data for overview_page.pb to /tmp/tmptu6bv21q/train/plugins/profile/2022_03_09_14_32_56/lps-pc.overview_page.pb\n",
      "Dumped tool data for input_pipeline.pb to /tmp/tmptu6bv21q/train/plugins/profile/2022_03_09_14_32_56/lps-pc.input_pipeline.pb\n",
      "Dumped tool data for tensorflow_stats.pb to /tmp/tmptu6bv21q/train/plugins/profile/2022_03_09_14_32_56/lps-pc.tensorflow_stats.pb\n",
      "Dumped tool data for kernel_stats.pb to /tmp/tmptu6bv21q/train/plugins/profile/2022_03_09_14_32_56/lps-pc.kernel_stats.pb\n",
      "\n"
     ]
    },
    {
     "name": "stdout",
     "output_type": "stream",
     "text": [
      "1875/1875 [==============================] - 3s 2ms/step - loss: 1.9279 - accuracy: 0.2359 - val_loss: 1.4309 - val_accuracy: 0.4109\n",
      "Epoch 2/5\n",
      "1875/1875 [==============================] - 3s 1ms/step - loss: 1.5173 - accuracy: 0.3642 - val_loss: 1.4016 - val_accuracy: 0.4081\n",
      "Epoch 3/5\n",
      "1875/1875 [==============================] - 3s 1ms/step - loss: 1.4579 - accuracy: 0.3964 - val_loss: 1.3591 - val_accuracy: 0.4334\n",
      "Epoch 4/5\n",
      "1875/1875 [==============================] - 3s 1ms/step - loss: 1.4187 - accuracy: 0.4123 - val_loss: 1.3422 - val_accuracy: 0.4397\n",
      "Epoch 5/5\n",
      "1875/1875 [==============================] - 3s 1ms/step - loss: 1.4186 - accuracy: 0.4135 - val_loss: 1.3285 - val_accuracy: 0.4549\n",
      "INFO:tensorflow:Assets written to: /tmp/tmpdplnii9a/model/data/model/assets\n",
      "Modelo:  b9dbc3df86ba477bae9f236d7532300a\n",
      "Model: \"sequential_23\"\n",
      "_________________________________________________________________\n",
      "Layer (type)                 Output Shape              Param #   \n",
      "=================================================================\n",
      "dense_102 (Dense)            (None, 15)                11775     \n",
      "_________________________________________________________________\n",
      "dropout_79 (Dropout)         (None, 15)                0         \n",
      "_________________________________________________________________\n",
      "dense_103 (Dense)            (None, 15)                240       \n",
      "_________________________________________________________________\n",
      "dropout_80 (Dropout)         (None, 15)                0         \n",
      "_________________________________________________________________\n",
      "dense_104 (Dense)            (None, 15)                240       \n",
      "_________________________________________________________________\n",
      "dropout_81 (Dropout)         (None, 15)                0         \n",
      "_________________________________________________________________\n",
      "dense_105 (Dense)            (None, 15)                240       \n",
      "_________________________________________________________________\n",
      "dropout_82 (Dropout)         (None, 15)                0         \n",
      "_________________________________________________________________\n",
      "dense_106 (Dense)            (None, 15)                240       \n",
      "_________________________________________________________________\n",
      "dropout_83 (Dropout)         (None, 15)                0         \n",
      "_________________________________________________________________\n",
      "dense_107 (Dense)            (None, 15)                240       \n",
      "_________________________________________________________________\n",
      "dropout_84 (Dropout)         (None, 15)                0         \n",
      "_________________________________________________________________\n",
      "dense_108 (Dense)            (None, 15)                240       \n",
      "_________________________________________________________________\n",
      "dropout_85 (Dropout)         (None, 15)                0         \n",
      "_________________________________________________________________\n",
      "dense_109 (Dense)            (None, 15)                240       \n",
      "_________________________________________________________________\n",
      "dropout_86 (Dropout)         (None, 15)                0         \n",
      "_________________________________________________________________\n",
      "dense_110 (Dense)            (None, 10)                160       \n",
      "=================================================================\n",
      "Total params: 13,615\n",
      "Trainable params: 13,615\n",
      "Non-trainable params: 0\n",
      "_________________________________________________________________\n"
     ]
    },
    {
     "name": "stderr",
     "output_type": "stream",
     "text": [
      "2022-03-09 14:33:13.581260: I tensorflow/core/profiler/lib/profiler_session.cc:136] Profiler session initializing.\n",
      "2022-03-09 14:33:13.581289: I tensorflow/core/profiler/lib/profiler_session.cc:155] Profiler session started.\n",
      "2022-03-09 14:33:13.581367: E tensorflow/core/profiler/internal/gpu/cupti_tracer.cc:1415] function cupti_interface_->Subscribe( &subscriber_, (CUpti_CallbackFunc)ApiCallback, this)failed with error CUPTI_ERROR_NOT_INITIALIZED\n",
      "2022-03-09 14:33:13.581385: I tensorflow/core/profiler/lib/profiler_session.cc:172] Profiler session tear down.\n"
     ]
    },
    {
     "name": "stdout",
     "output_type": "stream",
     "text": [
      "Epoch 1/5\n",
      "   1/1875 [..............................] - ETA: 9:01 - loss: 2.2926 - accuracy: 0.0625WARNING:tensorflow:Callback method `on_train_batch_end` is slow compared to the batch time (batch time: 0.0012s vs `on_train_batch_end` time: 0.0058s). Check your callbacks.\n",
      " 142/1875 [=>............................] - ETA: 2s - loss: 2.3026 - accuracy: 0.1021"
     ]
    },
    {
     "name": "stderr",
     "output_type": "stream",
     "text": [
      "2022-03-09 14:33:14.064222: I tensorflow/core/profiler/lib/profiler_session.cc:136] Profiler session initializing.\n",
      "2022-03-09 14:33:14.064244: I tensorflow/core/profiler/lib/profiler_session.cc:155] Profiler session started.\n",
      "2022-03-09 14:33:14.064289: E tensorflow/core/profiler/internal/gpu/cupti_tracer.cc:1415] function cupti_interface_->Subscribe( &subscriber_, (CUpti_CallbackFunc)ApiCallback, this)failed with error CUPTI_ERROR_NOT_INITIALIZED\n",
      "2022-03-09 14:33:14.085655: I tensorflow/core/profiler/lib/profiler_session.cc:71] Profiler session collecting data.\n",
      "2022-03-09 14:33:14.086337: I tensorflow/core/profiler/internal/gpu/cupti_collector.cc:228]  GpuTracer has collected 0 callback api events and 0 activity events. \n",
      "2022-03-09 14:33:14.086690: I tensorflow/core/profiler/lib/profiler_session.cc:172] Profiler session tear down.\n",
      "2022-03-09 14:33:14.087209: I tensorflow/core/profiler/rpc/client/save_profile.cc:137] Creating directory: /tmp/tmpjxizruww/train/plugins/profile/2022_03_09_14_33_14\n",
      "2022-03-09 14:33:14.087489: I tensorflow/core/profiler/rpc/client/save_profile.cc:143] Dumped gzipped tool data for trace.json.gz to /tmp/tmpjxizruww/train/plugins/profile/2022_03_09_14_33_14/lps-pc.trace.json.gz\n",
      "2022-03-09 14:33:14.090044: I tensorflow/core/profiler/rpc/client/save_profile.cc:137] Creating directory: /tmp/tmpjxizruww/train/plugins/profile/2022_03_09_14_33_14\n",
      "2022-03-09 14:33:14.090680: I tensorflow/core/profiler/rpc/client/save_profile.cc:143] Dumped gzipped tool data for memory_profile.json.gz to /tmp/tmpjxizruww/train/plugins/profile/2022_03_09_14_33_14/lps-pc.memory_profile.json.gz\n",
      "2022-03-09 14:33:14.090760: I tensorflow/core/profiler/rpc/client/capture_profile.cc:251] Creating directory: /tmp/tmpjxizruww/train/plugins/profile/2022_03_09_14_33_14Dumped tool data for xplane.pb to /tmp/tmpjxizruww/train/plugins/profile/2022_03_09_14_33_14/lps-pc.xplane.pb\n",
      "Dumped tool data for overview_page.pb to /tmp/tmpjxizruww/train/plugins/profile/2022_03_09_14_33_14/lps-pc.overview_page.pb\n",
      "Dumped tool data for input_pipeline.pb to /tmp/tmpjxizruww/train/plugins/profile/2022_03_09_14_33_14/lps-pc.input_pipeline.pb\n",
      "Dumped tool data for tensorflow_stats.pb to /tmp/tmpjxizruww/train/plugins/profile/2022_03_09_14_33_14/lps-pc.tensorflow_stats.pb\n",
      "Dumped tool data for kernel_stats.pb to /tmp/tmpjxizruww/train/plugins/profile/2022_03_09_14_33_14/lps-pc.kernel_stats.pb\n",
      "\n"
     ]
    },
    {
     "name": "stdout",
     "output_type": "stream",
     "text": [
      "1875/1875 [==============================] - 3s 2ms/step - loss: 2.0746 - accuracy: 0.1993 - val_loss: 1.7063 - val_accuracy: 0.3391\n",
      "Epoch 2/5\n",
      "1875/1875 [==============================] - 3s 1ms/step - loss: 1.7353 - accuracy: 0.2924 - val_loss: 1.6026 - val_accuracy: 0.3069\n",
      "Epoch 3/5\n",
      "1875/1875 [==============================] - 3s 1ms/step - loss: 1.6602 - accuracy: 0.3126 - val_loss: 1.5723 - val_accuracy: 0.3045\n",
      "Epoch 4/5\n",
      "1875/1875 [==============================] - 3s 1ms/step - loss: 1.6119 - accuracy: 0.3220 - val_loss: 1.5866 - val_accuracy: 0.2855\n",
      "Epoch 5/5\n",
      "1875/1875 [==============================] - 3s 1ms/step - loss: 1.5935 - accuracy: 0.3283 - val_loss: 1.5786 - val_accuracy: 0.2849\n",
      "INFO:tensorflow:Assets written to: /tmp/tmpz5ggovco/model/data/model/assets\n",
      "Modelo:  017c2840b0c345e1932e197d0b85256b\n",
      "Model: \"sequential_24\"\n",
      "_________________________________________________________________\n",
      "Layer (type)                 Output Shape              Param #   \n",
      "=================================================================\n",
      "dense_111 (Dense)            (None, 15)                11775     \n",
      "_________________________________________________________________\n",
      "dropout_87 (Dropout)         (None, 15)                0         \n",
      "_________________________________________________________________\n",
      "dense_112 (Dense)            (None, 15)                240       \n",
      "_________________________________________________________________\n",
      "dropout_88 (Dropout)         (None, 15)                0         \n",
      "_________________________________________________________________\n",
      "dense_113 (Dense)            (None, 15)                240       \n",
      "_________________________________________________________________\n",
      "dropout_89 (Dropout)         (None, 15)                0         \n",
      "_________________________________________________________________\n",
      "dense_114 (Dense)            (None, 15)                240       \n",
      "_________________________________________________________________\n",
      "dropout_90 (Dropout)         (None, 15)                0         \n",
      "_________________________________________________________________\n",
      "dense_115 (Dense)            (None, 15)                240       \n",
      "_________________________________________________________________\n",
      "dropout_91 (Dropout)         (None, 15)                0         \n",
      "_________________________________________________________________\n",
      "dense_116 (Dense)            (None, 15)                240       \n",
      "_________________________________________________________________\n",
      "dropout_92 (Dropout)         (None, 15)                0         \n",
      "_________________________________________________________________\n",
      "dense_117 (Dense)            (None, 15)                240       \n",
      "_________________________________________________________________\n",
      "dropout_93 (Dropout)         (None, 15)                0         \n",
      "_________________________________________________________________\n",
      "dense_118 (Dense)            (None, 15)                240       \n",
      "_________________________________________________________________\n",
      "dropout_94 (Dropout)         (None, 15)                0         \n",
      "_________________________________________________________________\n",
      "dense_119 (Dense)            (None, 10)                160       \n",
      "=================================================================\n",
      "Total params: 13,615\n",
      "Trainable params: 13,615\n",
      "Non-trainable params: 0\n",
      "_________________________________________________________________\n"
     ]
    },
    {
     "name": "stderr",
     "output_type": "stream",
     "text": [
      "2022-03-09 14:33:32.188637: I tensorflow/core/profiler/lib/profiler_session.cc:136] Profiler session initializing.\n",
      "2022-03-09 14:33:32.188663: I tensorflow/core/profiler/lib/profiler_session.cc:155] Profiler session started.\n",
      "2022-03-09 14:33:32.188730: E tensorflow/core/profiler/internal/gpu/cupti_tracer.cc:1415] function cupti_interface_->Subscribe( &subscriber_, (CUpti_CallbackFunc)ApiCallback, this)failed with error CUPTI_ERROR_NOT_INITIALIZED\n",
      "2022-03-09 14:33:32.188744: I tensorflow/core/profiler/lib/profiler_session.cc:172] Profiler session tear down.\n"
     ]
    },
    {
     "name": "stdout",
     "output_type": "stream",
     "text": [
      "Epoch 1/5\n",
      "   3/1875 [..............................] - ETA: 47s - loss: 2.2987 - accuracy: 0.0417     WARNING:tensorflow:Callback method `on_train_batch_end` is slow compared to the batch time (batch time: 0.0014s vs `on_train_batch_end` time: 0.0080s). Check your callbacks.\n",
      " 117/1875 [>.............................] - ETA: 3s - loss: 2.2643 - accuracy: 0.1119"
     ]
    },
    {
     "name": "stderr",
     "output_type": "stream",
     "text": [
      "2022-03-09 14:33:32.733609: I tensorflow/core/profiler/lib/profiler_session.cc:136] Profiler session initializing.\n",
      "2022-03-09 14:33:32.733629: I tensorflow/core/profiler/lib/profiler_session.cc:155] Profiler session started.\n",
      "2022-03-09 14:33:32.733676: E tensorflow/core/profiler/internal/gpu/cupti_tracer.cc:1415] function cupti_interface_->Subscribe( &subscriber_, (CUpti_CallbackFunc)ApiCallback, this)failed with error CUPTI_ERROR_NOT_INITIALIZED\n",
      "2022-03-09 14:33:32.764206: I tensorflow/core/profiler/lib/profiler_session.cc:71] Profiler session collecting data.\n",
      "2022-03-09 14:33:32.765222: I tensorflow/core/profiler/internal/gpu/cupti_collector.cc:228]  GpuTracer has collected 0 callback api events and 0 activity events. \n",
      "2022-03-09 14:33:32.765776: I tensorflow/core/profiler/lib/profiler_session.cc:172] Profiler session tear down.\n",
      "2022-03-09 14:33:32.766376: I tensorflow/core/profiler/rpc/client/save_profile.cc:137] Creating directory: /tmp/tmp8drfjuek/train/plugins/profile/2022_03_09_14_33_32\n",
      "2022-03-09 14:33:32.766668: I tensorflow/core/profiler/rpc/client/save_profile.cc:143] Dumped gzipped tool data for trace.json.gz to /tmp/tmp8drfjuek/train/plugins/profile/2022_03_09_14_33_32/lps-pc.trace.json.gz\n",
      "2022-03-09 14:33:32.769288: I tensorflow/core/profiler/rpc/client/save_profile.cc:137] Creating directory: /tmp/tmp8drfjuek/train/plugins/profile/2022_03_09_14_33_32\n",
      "2022-03-09 14:33:32.770250: I tensorflow/core/profiler/rpc/client/save_profile.cc:143] Dumped gzipped tool data for memory_profile.json.gz to /tmp/tmp8drfjuek/train/plugins/profile/2022_03_09_14_33_32/lps-pc.memory_profile.json.gz\n",
      "2022-03-09 14:33:32.770381: I tensorflow/core/profiler/rpc/client/capture_profile.cc:251] Creating directory: /tmp/tmp8drfjuek/train/plugins/profile/2022_03_09_14_33_32Dumped tool data for xplane.pb to /tmp/tmp8drfjuek/train/plugins/profile/2022_03_09_14_33_32/lps-pc.xplane.pb\n",
      "Dumped tool data for overview_page.pb to /tmp/tmp8drfjuek/train/plugins/profile/2022_03_09_14_33_32/lps-pc.overview_page.pb\n",
      "Dumped tool data for input_pipeline.pb to /tmp/tmp8drfjuek/train/plugins/profile/2022_03_09_14_33_32/lps-pc.input_pipeline.pb\n",
      "Dumped tool data for tensorflow_stats.pb to /tmp/tmp8drfjuek/train/plugins/profile/2022_03_09_14_33_32/lps-pc.tensorflow_stats.pb\n",
      "Dumped tool data for kernel_stats.pb to /tmp/tmp8drfjuek/train/plugins/profile/2022_03_09_14_33_32/lps-pc.kernel_stats.pb\n",
      "\n"
     ]
    },
    {
     "name": "stdout",
     "output_type": "stream",
     "text": [
      "1875/1875 [==============================] - 3s 2ms/step - loss: 1.6931 - accuracy: 0.3232 - val_loss: 0.8328 - val_accuracy: 0.6719\n",
      "Epoch 2/5\n",
      "1875/1875 [==============================] - 3s 1ms/step - loss: 1.0164 - accuracy: 0.6088 - val_loss: 0.6851 - val_accuracy: 0.7566\n",
      "Epoch 3/5\n",
      "1875/1875 [==============================] - 3s 1ms/step - loss: 0.8939 - accuracy: 0.6782 - val_loss: 0.6249 - val_accuracy: 0.7862\n",
      "Epoch 4/5\n",
      "1875/1875 [==============================] - 3s 1ms/step - loss: 0.8419 - accuracy: 0.7110 - val_loss: 0.6521 - val_accuracy: 0.7667\n",
      "Epoch 5/5\n",
      "1875/1875 [==============================] - 3s 1ms/step - loss: 0.8131 - accuracy: 0.7253 - val_loss: 0.5759 - val_accuracy: 0.8308\n",
      "INFO:tensorflow:Assets written to: /tmp/tmp7b5ugego/model/data/model/assets\n",
      "Modelo:  2675917fa0854fbcbc07ebff6e68aee9\n",
      "Model: \"sequential_25\"\n",
      "_________________________________________________________________\n",
      "Layer (type)                 Output Shape              Param #   \n",
      "=================================================================\n",
      "dense_120 (Dense)            (None, 20)                15700     \n",
      "_________________________________________________________________\n",
      "dropout_95 (Dropout)         (None, 20)                0         \n",
      "_________________________________________________________________\n",
      "dense_121 (Dense)            (None, 20)                420       \n",
      "_________________________________________________________________\n",
      "dropout_96 (Dropout)         (None, 20)                0         \n",
      "_________________________________________________________________\n",
      "dense_122 (Dense)            (None, 20)                420       \n",
      "_________________________________________________________________\n",
      "dropout_97 (Dropout)         (None, 20)                0         \n",
      "_________________________________________________________________\n",
      "dense_123 (Dense)            (None, 20)                420       \n",
      "_________________________________________________________________\n",
      "dropout_98 (Dropout)         (None, 20)                0         \n",
      "_________________________________________________________________\n",
      "dense_124 (Dense)            (None, 20)                420       \n",
      "_________________________________________________________________\n",
      "dropout_99 (Dropout)         (None, 20)                0         \n",
      "_________________________________________________________________\n",
      "dense_125 (Dense)            (None, 20)                420       \n",
      "_________________________________________________________________\n",
      "dropout_100 (Dropout)        (None, 20)                0         \n",
      "_________________________________________________________________\n",
      "dense_126 (Dense)            (None, 20)                420       \n",
      "_________________________________________________________________\n",
      "dropout_101 (Dropout)        (None, 20)                0         \n",
      "_________________________________________________________________\n",
      "dense_127 (Dense)            (None, 20)                420       \n",
      "_________________________________________________________________\n",
      "dropout_102 (Dropout)        (None, 20)                0         \n",
      "_________________________________________________________________\n",
      "dense_128 (Dense)            (None, 10)                210       \n",
      "=================================================================\n",
      "Total params: 18,850\n",
      "Trainable params: 18,850\n",
      "Non-trainable params: 0\n",
      "_________________________________________________________________\n"
     ]
    },
    {
     "name": "stderr",
     "output_type": "stream",
     "text": [
      "2022-03-09 14:33:50.114890: I tensorflow/core/profiler/lib/profiler_session.cc:136] Profiler session initializing.\n",
      "2022-03-09 14:33:50.114922: I tensorflow/core/profiler/lib/profiler_session.cc:155] Profiler session started.\n",
      "2022-03-09 14:33:50.115033: E tensorflow/core/profiler/internal/gpu/cupti_tracer.cc:1415] function cupti_interface_->Subscribe( &subscriber_, (CUpti_CallbackFunc)ApiCallback, this)failed with error CUPTI_ERROR_NOT_INITIALIZED\n",
      "2022-03-09 14:33:50.115064: I tensorflow/core/profiler/lib/profiler_session.cc:172] Profiler session tear down.\n"
     ]
    },
    {
     "name": "stdout",
     "output_type": "stream",
     "text": [
      "Epoch 1/5\n",
      "   1/1875 [..............................] - ETA: 8:53 - loss: 2.3257 - accuracy: 0.0312WARNING:tensorflow:Callback method `on_train_batch_end` is slow compared to the batch time (batch time: 0.0013s vs `on_train_batch_end` time: 0.0064s). Check your callbacks.\n",
      " 140/1875 [=>............................] - ETA: 2s - loss: 2.2933 - accuracy: 0.1176"
     ]
    },
    {
     "name": "stderr",
     "output_type": "stream",
     "text": [
      "2022-03-09 14:33:50.637217: I tensorflow/core/profiler/lib/profiler_session.cc:136] Profiler session initializing.\n",
      "2022-03-09 14:33:50.637238: I tensorflow/core/profiler/lib/profiler_session.cc:155] Profiler session started.\n",
      "2022-03-09 14:33:50.637280: E tensorflow/core/profiler/internal/gpu/cupti_tracer.cc:1415] function cupti_interface_->Subscribe( &subscriber_, (CUpti_CallbackFunc)ApiCallback, this)failed with error CUPTI_ERROR_NOT_INITIALIZED\n",
      "2022-03-09 14:33:50.660612: I tensorflow/core/profiler/lib/profiler_session.cc:71] Profiler session collecting data.\n",
      "2022-03-09 14:33:50.661299: I tensorflow/core/profiler/internal/gpu/cupti_collector.cc:228]  GpuTracer has collected 0 callback api events and 0 activity events. \n",
      "2022-03-09 14:33:50.661668: I tensorflow/core/profiler/lib/profiler_session.cc:172] Profiler session tear down.\n",
      "2022-03-09 14:33:50.662235: I tensorflow/core/profiler/rpc/client/save_profile.cc:137] Creating directory: /tmp/tmpxlcyk2ue/train/plugins/profile/2022_03_09_14_33_50\n",
      "2022-03-09 14:33:50.662549: I tensorflow/core/profiler/rpc/client/save_profile.cc:143] Dumped gzipped tool data for trace.json.gz to /tmp/tmpxlcyk2ue/train/plugins/profile/2022_03_09_14_33_50/lps-pc.trace.json.gz\n",
      "2022-03-09 14:33:50.665013: I tensorflow/core/profiler/rpc/client/save_profile.cc:137] Creating directory: /tmp/tmpxlcyk2ue/train/plugins/profile/2022_03_09_14_33_50\n",
      "2022-03-09 14:33:50.665836: I tensorflow/core/profiler/rpc/client/save_profile.cc:143] Dumped gzipped tool data for memory_profile.json.gz to /tmp/tmpxlcyk2ue/train/plugins/profile/2022_03_09_14_33_50/lps-pc.memory_profile.json.gz\n",
      "2022-03-09 14:33:50.665938: I tensorflow/core/profiler/rpc/client/capture_profile.cc:251] Creating directory: /tmp/tmpxlcyk2ue/train/plugins/profile/2022_03_09_14_33_50Dumped tool data for xplane.pb to /tmp/tmpxlcyk2ue/train/plugins/profile/2022_03_09_14_33_50/lps-pc.xplane.pb\n",
      "Dumped tool data for overview_page.pb to /tmp/tmpxlcyk2ue/train/plugins/profile/2022_03_09_14_33_50/lps-pc.overview_page.pb\n",
      "Dumped tool data for input_pipeline.pb to /tmp/tmpxlcyk2ue/train/plugins/profile/2022_03_09_14_33_50/lps-pc.input_pipeline.pb\n",
      "Dumped tool data for tensorflow_stats.pb to /tmp/tmpxlcyk2ue/train/plugins/profile/2022_03_09_14_33_50/lps-pc.tensorflow_stats.pb\n",
      "Dumped tool data for kernel_stats.pb to /tmp/tmpxlcyk2ue/train/plugins/profile/2022_03_09_14_33_50/lps-pc.kernel_stats.pb\n",
      "\n"
     ]
    },
    {
     "name": "stdout",
     "output_type": "stream",
     "text": [
      "1875/1875 [==============================] - 3s 2ms/step - loss: 1.8031 - accuracy: 0.3009 - val_loss: 1.0325 - val_accuracy: 0.5598\n",
      "Epoch 2/5\n",
      "1875/1875 [==============================] - 3s 1ms/step - loss: 1.1997 - accuracy: 0.4976 - val_loss: 0.9096 - val_accuracy: 0.6199\n",
      "Epoch 3/5\n",
      "1875/1875 [==============================] - 2s 1ms/step - loss: 1.0781 - accuracy: 0.5614 - val_loss: 0.8252 - val_accuracy: 0.6511\n",
      "Epoch 4/5\n",
      "1875/1875 [==============================] - 3s 1ms/step - loss: 1.0166 - accuracy: 0.5916 - val_loss: 0.7948 - val_accuracy: 0.6381\n",
      "Epoch 5/5\n",
      "1875/1875 [==============================] - 2s 1ms/step - loss: 0.9596 - accuracy: 0.6070 - val_loss: 0.7709 - val_accuracy: 0.6559\n",
      "INFO:tensorflow:Assets written to: /tmp/tmpovhpjyp4/model/data/model/assets\n",
      "Modelo:  b2e62801d2274625a69806374d95e207\n",
      "Model: \"sequential_26\"\n",
      "_________________________________________________________________\n",
      "Layer (type)                 Output Shape              Param #   \n",
      "=================================================================\n",
      "dense_129 (Dense)            (None, 20)                15700     \n",
      "_________________________________________________________________\n",
      "dropout_103 (Dropout)        (None, 20)                0         \n",
      "_________________________________________________________________\n",
      "dense_130 (Dense)            (None, 20)                420       \n",
      "_________________________________________________________________\n",
      "dropout_104 (Dropout)        (None, 20)                0         \n",
      "_________________________________________________________________\n",
      "dense_131 (Dense)            (None, 20)                420       \n",
      "_________________________________________________________________\n",
      "dropout_105 (Dropout)        (None, 20)                0         \n",
      "_________________________________________________________________\n",
      "dense_132 (Dense)            (None, 20)                420       \n",
      "_________________________________________________________________\n",
      "dropout_106 (Dropout)        (None, 20)                0         \n",
      "_________________________________________________________________\n",
      "dense_133 (Dense)            (None, 20)                420       \n",
      "_________________________________________________________________\n",
      "dropout_107 (Dropout)        (None, 20)                0         \n",
      "_________________________________________________________________\n",
      "dense_134 (Dense)            (None, 20)                420       \n",
      "_________________________________________________________________\n",
      "dropout_108 (Dropout)        (None, 20)                0         \n",
      "_________________________________________________________________\n",
      "dense_135 (Dense)            (None, 20)                420       \n",
      "_________________________________________________________________\n",
      "dropout_109 (Dropout)        (None, 20)                0         \n",
      "_________________________________________________________________\n",
      "dense_136 (Dense)            (None, 20)                420       \n",
      "_________________________________________________________________\n",
      "dropout_110 (Dropout)        (None, 20)                0         \n",
      "_________________________________________________________________\n",
      "dense_137 (Dense)            (None, 10)                210       \n",
      "=================================================================\n",
      "Total params: 18,850\n",
      "Trainable params: 18,850\n",
      "Non-trainable params: 0\n",
      "_________________________________________________________________\n"
     ]
    },
    {
     "name": "stderr",
     "output_type": "stream",
     "text": [
      "2022-03-09 14:34:07.034385: I tensorflow/core/profiler/lib/profiler_session.cc:136] Profiler session initializing.\n",
      "2022-03-09 14:34:07.034420: I tensorflow/core/profiler/lib/profiler_session.cc:155] Profiler session started.\n",
      "2022-03-09 14:34:07.034504: E tensorflow/core/profiler/internal/gpu/cupti_tracer.cc:1415] function cupti_interface_->Subscribe( &subscriber_, (CUpti_CallbackFunc)ApiCallback, this)failed with error CUPTI_ERROR_NOT_INITIALIZED\n",
      "2022-03-09 14:34:07.034525: I tensorflow/core/profiler/lib/profiler_session.cc:172] Profiler session tear down.\n"
     ]
    },
    {
     "name": "stdout",
     "output_type": "stream",
     "text": [
      "Epoch 1/5\n",
      "   1/1875 [..............................] - ETA: 9:06 - loss: 2.2993 - accuracy: 0.1562WARNING:tensorflow:Callback method `on_train_batch_end` is slow compared to the batch time (batch time: 0.0011s vs `on_train_batch_end` time: 0.0065s). Check your callbacks.\n",
      " 143/1875 [=>............................] - ETA: 2s - loss: 2.2851 - accuracy: 0.1267"
     ]
    },
    {
     "name": "stderr",
     "output_type": "stream",
     "text": [
      "2022-03-09 14:34:07.540236: I tensorflow/core/profiler/lib/profiler_session.cc:136] Profiler session initializing.\n",
      "2022-03-09 14:34:07.540256: I tensorflow/core/profiler/lib/profiler_session.cc:155] Profiler session started.\n",
      "2022-03-09 14:34:07.540301: E tensorflow/core/profiler/internal/gpu/cupti_tracer.cc:1415] function cupti_interface_->Subscribe( &subscriber_, (CUpti_CallbackFunc)ApiCallback, this)failed with error CUPTI_ERROR_NOT_INITIALIZED\n",
      "2022-03-09 14:34:07.562470: I tensorflow/core/profiler/lib/profiler_session.cc:71] Profiler session collecting data.\n",
      "2022-03-09 14:34:07.563117: I tensorflow/core/profiler/internal/gpu/cupti_collector.cc:228]  GpuTracer has collected 0 callback api events and 0 activity events. \n",
      "2022-03-09 14:34:07.563464: I tensorflow/core/profiler/lib/profiler_session.cc:172] Profiler session tear down.\n",
      "2022-03-09 14:34:07.563954: I tensorflow/core/profiler/rpc/client/save_profile.cc:137] Creating directory: /tmp/tmp9sw6tsjf/train/plugins/profile/2022_03_09_14_34_07\n",
      "2022-03-09 14:34:07.564254: I tensorflow/core/profiler/rpc/client/save_profile.cc:143] Dumped gzipped tool data for trace.json.gz to /tmp/tmp9sw6tsjf/train/plugins/profile/2022_03_09_14_34_07/lps-pc.trace.json.gz\n",
      "2022-03-09 14:34:07.566855: I tensorflow/core/profiler/rpc/client/save_profile.cc:137] Creating directory: /tmp/tmp9sw6tsjf/train/plugins/profile/2022_03_09_14_34_07\n",
      "2022-03-09 14:34:07.567658: I tensorflow/core/profiler/rpc/client/save_profile.cc:143] Dumped gzipped tool data for memory_profile.json.gz to /tmp/tmp9sw6tsjf/train/plugins/profile/2022_03_09_14_34_07/lps-pc.memory_profile.json.gz\n",
      "2022-03-09 14:34:07.567740: I tensorflow/core/profiler/rpc/client/capture_profile.cc:251] Creating directory: /tmp/tmp9sw6tsjf/train/plugins/profile/2022_03_09_14_34_07Dumped tool data for xplane.pb to /tmp/tmp9sw6tsjf/train/plugins/profile/2022_03_09_14_34_07/lps-pc.xplane.pb\n",
      "Dumped tool data for overview_page.pb to /tmp/tmp9sw6tsjf/train/plugins/profile/2022_03_09_14_34_07/lps-pc.overview_page.pb\n",
      "Dumped tool data for input_pipeline.pb to /tmp/tmp9sw6tsjf/train/plugins/profile/2022_03_09_14_34_07/lps-pc.input_pipeline.pb\n",
      "Dumped tool data for tensorflow_stats.pb to /tmp/tmp9sw6tsjf/train/plugins/profile/2022_03_09_14_34_07/lps-pc.tensorflow_stats.pb\n",
      "Dumped tool data for kernel_stats.pb to /tmp/tmp9sw6tsjf/train/plugins/profile/2022_03_09_14_34_07/lps-pc.kernel_stats.pb\n",
      "\n"
     ]
    },
    {
     "name": "stdout",
     "output_type": "stream",
     "text": [
      "1875/1875 [==============================] - 3s 1ms/step - loss: 2.0397 - accuracy: 0.2174 - val_loss: 1.6439 - val_accuracy: 0.3525\n",
      "Epoch 2/5\n",
      "1875/1875 [==============================] - 3s 1ms/step - loss: 1.7199 - accuracy: 0.3166 - val_loss: 1.5226 - val_accuracy: 0.4202\n",
      "Epoch 3/5\n",
      "1875/1875 [==============================] - 3s 1ms/step - loss: 1.5921 - accuracy: 0.3613 - val_loss: 1.4262 - val_accuracy: 0.4261\n",
      "Epoch 4/5\n",
      "1875/1875 [==============================] - 3s 1ms/step - loss: 1.5191 - accuracy: 0.3776 - val_loss: 1.3442 - val_accuracy: 0.4211\n",
      "Epoch 5/5\n",
      "1875/1875 [==============================] - 3s 1ms/step - loss: 1.4693 - accuracy: 0.3865 - val_loss: 1.3434 - val_accuracy: 0.3985\n",
      "INFO:tensorflow:Assets written to: /tmp/tmptvjtv5ry/model/data/model/assets\n",
      "Modelo:  27e83026af744f3bb2cf2977664a6541\n",
      "Model: \"sequential_27\"\n",
      "_________________________________________________________________\n",
      "Layer (type)                 Output Shape              Param #   \n",
      "=================================================================\n",
      "dense_138 (Dense)            (None, 20)                15700     \n",
      "_________________________________________________________________\n",
      "dropout_111 (Dropout)        (None, 20)                0         \n",
      "_________________________________________________________________\n",
      "dense_139 (Dense)            (None, 20)                420       \n",
      "_________________________________________________________________\n",
      "dropout_112 (Dropout)        (None, 20)                0         \n",
      "_________________________________________________________________\n",
      "dense_140 (Dense)            (None, 20)                420       \n",
      "_________________________________________________________________\n",
      "dropout_113 (Dropout)        (None, 20)                0         \n",
      "_________________________________________________________________\n",
      "dense_141 (Dense)            (None, 20)                420       \n",
      "_________________________________________________________________\n",
      "dropout_114 (Dropout)        (None, 20)                0         \n",
      "_________________________________________________________________\n",
      "dense_142 (Dense)            (None, 20)                420       \n",
      "_________________________________________________________________\n",
      "dropout_115 (Dropout)        (None, 20)                0         \n",
      "_________________________________________________________________\n",
      "dense_143 (Dense)            (None, 20)                420       \n",
      "_________________________________________________________________\n",
      "dropout_116 (Dropout)        (None, 20)                0         \n",
      "_________________________________________________________________\n",
      "dense_144 (Dense)            (None, 20)                420       \n",
      "_________________________________________________________________\n",
      "dropout_117 (Dropout)        (None, 20)                0         \n",
      "_________________________________________________________________\n",
      "dense_145 (Dense)            (None, 20)                420       \n",
      "_________________________________________________________________\n",
      "dropout_118 (Dropout)        (None, 20)                0         \n",
      "_________________________________________________________________\n",
      "dense_146 (Dense)            (None, 10)                210       \n",
      "=================================================================\n",
      "Total params: 18,850\n",
      "Trainable params: 18,850\n",
      "Non-trainable params: 0\n",
      "_________________________________________________________________\n"
     ]
    },
    {
     "name": "stderr",
     "output_type": "stream",
     "text": [
      "2022-03-09 14:34:24.509805: I tensorflow/core/profiler/lib/profiler_session.cc:136] Profiler session initializing.\n",
      "2022-03-09 14:34:24.509832: I tensorflow/core/profiler/lib/profiler_session.cc:155] Profiler session started.\n",
      "2022-03-09 14:34:24.509907: E tensorflow/core/profiler/internal/gpu/cupti_tracer.cc:1415] function cupti_interface_->Subscribe( &subscriber_, (CUpti_CallbackFunc)ApiCallback, this)failed with error CUPTI_ERROR_NOT_INITIALIZED\n",
      "2022-03-09 14:34:24.509925: I tensorflow/core/profiler/lib/profiler_session.cc:172] Profiler session tear down.\n"
     ]
    },
    {
     "name": "stdout",
     "output_type": "stream",
     "text": [
      "Epoch 1/5\n",
      "   1/1875 [..............................] - ETA: 9:12 - loss: 2.2982 - accuracy: 0.1562WARNING:tensorflow:Callback method `on_train_batch_end` is slow compared to the batch time (batch time: 0.0012s vs `on_train_batch_end` time: 0.0065s). Check your callbacks.\n",
      " 131/1875 [=>............................] - ETA: 2s - loss: 2.2373 - accuracy: 0.1654"
     ]
    },
    {
     "name": "stderr",
     "output_type": "stream",
     "text": [
      "2022-03-09 14:34:25.011199: I tensorflow/core/profiler/lib/profiler_session.cc:136] Profiler session initializing.\n",
      "2022-03-09 14:34:25.011220: I tensorflow/core/profiler/lib/profiler_session.cc:155] Profiler session started.\n",
      "2022-03-09 14:34:25.011263: E tensorflow/core/profiler/internal/gpu/cupti_tracer.cc:1415] function cupti_interface_->Subscribe( &subscriber_, (CUpti_CallbackFunc)ApiCallback, this)failed with error CUPTI_ERROR_NOT_INITIALIZED\n",
      "2022-03-09 14:34:25.037007: I tensorflow/core/profiler/lib/profiler_session.cc:71] Profiler session collecting data.\n",
      "2022-03-09 14:34:25.037662: I tensorflow/core/profiler/internal/gpu/cupti_collector.cc:228]  GpuTracer has collected 0 callback api events and 0 activity events. \n",
      "2022-03-09 14:34:25.038118: I tensorflow/core/profiler/lib/profiler_session.cc:172] Profiler session tear down.\n",
      "2022-03-09 14:34:25.038636: I tensorflow/core/profiler/rpc/client/save_profile.cc:137] Creating directory: /tmp/tmpw1o2x1b7/train/plugins/profile/2022_03_09_14_34_25\n",
      "2022-03-09 14:34:25.038929: I tensorflow/core/profiler/rpc/client/save_profile.cc:143] Dumped gzipped tool data for trace.json.gz to /tmp/tmpw1o2x1b7/train/plugins/profile/2022_03_09_14_34_25/lps-pc.trace.json.gz\n",
      "2022-03-09 14:34:25.041432: I tensorflow/core/profiler/rpc/client/save_profile.cc:137] Creating directory: /tmp/tmpw1o2x1b7/train/plugins/profile/2022_03_09_14_34_25\n",
      "2022-03-09 14:34:25.042266: I tensorflow/core/profiler/rpc/client/save_profile.cc:143] Dumped gzipped tool data for memory_profile.json.gz to /tmp/tmpw1o2x1b7/train/plugins/profile/2022_03_09_14_34_25/lps-pc.memory_profile.json.gz\n",
      "2022-03-09 14:34:25.042354: I tensorflow/core/profiler/rpc/client/capture_profile.cc:251] Creating directory: /tmp/tmpw1o2x1b7/train/plugins/profile/2022_03_09_14_34_25Dumped tool data for xplane.pb to /tmp/tmpw1o2x1b7/train/plugins/profile/2022_03_09_14_34_25/lps-pc.xplane.pb\n",
      "Dumped tool data for overview_page.pb to /tmp/tmpw1o2x1b7/train/plugins/profile/2022_03_09_14_34_25/lps-pc.overview_page.pb\n",
      "Dumped tool data for input_pipeline.pb to /tmp/tmpw1o2x1b7/train/plugins/profile/2022_03_09_14_34_25/lps-pc.input_pipeline.pb\n",
      "Dumped tool data for tensorflow_stats.pb to /tmp/tmpw1o2x1b7/train/plugins/profile/2022_03_09_14_34_25/lps-pc.tensorflow_stats.pb\n",
      "Dumped tool data for kernel_stats.pb to /tmp/tmpw1o2x1b7/train/plugins/profile/2022_03_09_14_34_25/lps-pc.kernel_stats.pb\n",
      "\n"
     ]
    },
    {
     "name": "stdout",
     "output_type": "stream",
     "text": [
      "1875/1875 [==============================] - 3s 1ms/step - loss: 1.5157 - accuracy: 0.4049 - val_loss: 0.5543 - val_accuracy: 0.8599\n",
      "Epoch 2/5\n",
      "1875/1875 [==============================] - 2s 1ms/step - loss: 0.7011 - accuracy: 0.7966 - val_loss: 0.3783 - val_accuracy: 0.9074\n",
      "Epoch 3/5\n",
      "1875/1875 [==============================] - 2s 1ms/step - loss: 0.5617 - accuracy: 0.8540 - val_loss: 0.3427 - val_accuracy: 0.9142\n",
      "Epoch 4/5\n",
      "1875/1875 [==============================] - 3s 1ms/step - loss: 0.5020 - accuracy: 0.8732 - val_loss: 0.3096 - val_accuracy: 0.9256\n",
      "Epoch 5/5\n",
      "1875/1875 [==============================] - 2s 1ms/step - loss: 0.4765 - accuracy: 0.8792 - val_loss: 0.3006 - val_accuracy: 0.9272\n",
      "INFO:tensorflow:Assets written to: /tmp/tmpr2_mq_pe/model/data/model/assets\n",
      "Modelo:  31661aaf0ecd49f0bff1eb4f9ac112a1\n",
      "Model: \"sequential_28\"\n",
      "_________________________________________________________________\n",
      "Layer (type)                 Output Shape              Param #   \n",
      "=================================================================\n",
      "dense_147 (Dense)            (None, 30)                23550     \n",
      "_________________________________________________________________\n",
      "dropout_119 (Dropout)        (None, 30)                0         \n",
      "_________________________________________________________________\n",
      "dense_148 (Dense)            (None, 30)                930       \n",
      "_________________________________________________________________\n",
      "dropout_120 (Dropout)        (None, 30)                0         \n",
      "_________________________________________________________________\n",
      "dense_149 (Dense)            (None, 30)                930       \n",
      "_________________________________________________________________\n",
      "dropout_121 (Dropout)        (None, 30)                0         \n",
      "_________________________________________________________________\n",
      "dense_150 (Dense)            (None, 30)                930       \n",
      "_________________________________________________________________\n",
      "dropout_122 (Dropout)        (None, 30)                0         \n",
      "_________________________________________________________________\n",
      "dense_151 (Dense)            (None, 30)                930       \n",
      "_________________________________________________________________\n",
      "dropout_123 (Dropout)        (None, 30)                0         \n",
      "_________________________________________________________________\n",
      "dense_152 (Dense)            (None, 30)                930       \n",
      "_________________________________________________________________\n",
      "dropout_124 (Dropout)        (None, 30)                0         \n",
      "_________________________________________________________________\n",
      "dense_153 (Dense)            (None, 30)                930       \n",
      "_________________________________________________________________\n",
      "dropout_125 (Dropout)        (None, 30)                0         \n",
      "_________________________________________________________________\n",
      "dense_154 (Dense)            (None, 30)                930       \n",
      "_________________________________________________________________\n",
      "dropout_126 (Dropout)        (None, 30)                0         \n",
      "_________________________________________________________________\n",
      "dense_155 (Dense)            (None, 10)                310       \n",
      "=================================================================\n",
      "Total params: 30,370\n",
      "Trainable params: 30,370\n",
      "Non-trainable params: 0\n",
      "_________________________________________________________________\n"
     ]
    },
    {
     "name": "stderr",
     "output_type": "stream",
     "text": [
      "2022-03-09 14:34:41.160208: I tensorflow/core/profiler/lib/profiler_session.cc:136] Profiler session initializing.\n",
      "2022-03-09 14:34:41.160233: I tensorflow/core/profiler/lib/profiler_session.cc:155] Profiler session started.\n",
      "2022-03-09 14:34:41.160301: E tensorflow/core/profiler/internal/gpu/cupti_tracer.cc:1415] function cupti_interface_->Subscribe( &subscriber_, (CUpti_CallbackFunc)ApiCallback, this)failed with error CUPTI_ERROR_NOT_INITIALIZED\n",
      "2022-03-09 14:34:41.160318: I tensorflow/core/profiler/lib/profiler_session.cc:172] Profiler session tear down.\n"
     ]
    },
    {
     "name": "stdout",
     "output_type": "stream",
     "text": [
      "Epoch 1/5\n",
      "   1/1875 [..............................] - ETA: 8:56 - loss: 2.2849 - accuracy: 0.1562WARNING:tensorflow:Callback method `on_train_batch_end` is slow compared to the batch time (batch time: 0.0014s vs `on_train_batch_end` time: 0.0065s). Check your callbacks.\n",
      " 139/1875 [=>............................] - ETA: 2s - loss: 2.2707 - accuracy: 0.1273"
     ]
    },
    {
     "name": "stderr",
     "output_type": "stream",
     "text": [
      "2022-03-09 14:34:41.680624: I tensorflow/core/profiler/lib/profiler_session.cc:136] Profiler session initializing.\n",
      "2022-03-09 14:34:41.680644: I tensorflow/core/profiler/lib/profiler_session.cc:155] Profiler session started.\n",
      "2022-03-09 14:34:41.680687: E tensorflow/core/profiler/internal/gpu/cupti_tracer.cc:1415] function cupti_interface_->Subscribe( &subscriber_, (CUpti_CallbackFunc)ApiCallback, this)failed with error CUPTI_ERROR_NOT_INITIALIZED\n",
      "2022-03-09 14:34:41.703647: I tensorflow/core/profiler/lib/profiler_session.cc:71] Profiler session collecting data.\n",
      "2022-03-09 14:34:41.704291: I tensorflow/core/profiler/internal/gpu/cupti_collector.cc:228]  GpuTracer has collected 0 callback api events and 0 activity events. \n",
      "2022-03-09 14:34:41.704638: I tensorflow/core/profiler/lib/profiler_session.cc:172] Profiler session tear down.\n",
      "2022-03-09 14:34:41.705215: I tensorflow/core/profiler/rpc/client/save_profile.cc:137] Creating directory: /tmp/tmp0oecr2or/train/plugins/profile/2022_03_09_14_34_41\n",
      "2022-03-09 14:34:41.705531: I tensorflow/core/profiler/rpc/client/save_profile.cc:143] Dumped gzipped tool data for trace.json.gz to /tmp/tmp0oecr2or/train/plugins/profile/2022_03_09_14_34_41/lps-pc.trace.json.gz\n",
      "2022-03-09 14:34:41.708009: I tensorflow/core/profiler/rpc/client/save_profile.cc:137] Creating directory: /tmp/tmp0oecr2or/train/plugins/profile/2022_03_09_14_34_41\n",
      "2022-03-09 14:34:41.708828: I tensorflow/core/profiler/rpc/client/save_profile.cc:143] Dumped gzipped tool data for memory_profile.json.gz to /tmp/tmp0oecr2or/train/plugins/profile/2022_03_09_14_34_41/lps-pc.memory_profile.json.gz\n",
      "2022-03-09 14:34:41.708916: I tensorflow/core/profiler/rpc/client/capture_profile.cc:251] Creating directory: /tmp/tmp0oecr2or/train/plugins/profile/2022_03_09_14_34_41Dumped tool data for xplane.pb to /tmp/tmp0oecr2or/train/plugins/profile/2022_03_09_14_34_41/lps-pc.xplane.pb\n",
      "Dumped tool data for overview_page.pb to /tmp/tmp0oecr2or/train/plugins/profile/2022_03_09_14_34_41/lps-pc.overview_page.pb\n",
      "Dumped tool data for input_pipeline.pb to /tmp/tmp0oecr2or/train/plugins/profile/2022_03_09_14_34_41/lps-pc.input_pipeline.pb\n",
      "Dumped tool data for tensorflow_stats.pb to /tmp/tmp0oecr2or/train/plugins/profile/2022_03_09_14_34_41/lps-pc.tensorflow_stats.pb\n",
      "Dumped tool data for kernel_stats.pb to /tmp/tmp0oecr2or/train/plugins/profile/2022_03_09_14_34_41/lps-pc.kernel_stats.pb\n",
      "\n"
     ]
    },
    {
     "name": "stdout",
     "output_type": "stream",
     "text": [
      "1875/1875 [==============================] - 3s 1ms/step - loss: 1.8397 - accuracy: 0.2816 - val_loss: 0.9454 - val_accuracy: 0.6313\n",
      "Epoch 2/5\n",
      "1875/1875 [==============================] - 3s 1ms/step - loss: 1.0302 - accuracy: 0.6174 - val_loss: 0.6019 - val_accuracy: 0.7722\n",
      "Epoch 3/5\n",
      "1875/1875 [==============================] - 3s 1ms/step - loss: 0.8163 - accuracy: 0.7333 - val_loss: 0.4900 - val_accuracy: 0.8353\n",
      "Epoch 4/5\n",
      "1875/1875 [==============================] - 2s 1ms/step - loss: 0.7133 - accuracy: 0.7655 - val_loss: 0.4489 - val_accuracy: 0.8384\n",
      "Epoch 5/5\n",
      "1875/1875 [==============================] - 2s 1ms/step - loss: 0.6691 - accuracy: 0.7833 - val_loss: 0.4189 - val_accuracy: 0.8567\n",
      "INFO:tensorflow:Assets written to: /tmp/tmp2wb2q832/model/data/model/assets\n",
      "Modelo:  cf61284d868a48bbb0c3051c4baea598\n",
      "Model: \"sequential_29\"\n",
      "_________________________________________________________________\n",
      "Layer (type)                 Output Shape              Param #   \n",
      "=================================================================\n",
      "dense_156 (Dense)            (None, 30)                23550     \n",
      "_________________________________________________________________\n",
      "dropout_127 (Dropout)        (None, 30)                0         \n",
      "_________________________________________________________________\n",
      "dense_157 (Dense)            (None, 30)                930       \n",
      "_________________________________________________________________\n",
      "dropout_128 (Dropout)        (None, 30)                0         \n",
      "_________________________________________________________________\n",
      "dense_158 (Dense)            (None, 30)                930       \n",
      "_________________________________________________________________\n",
      "dropout_129 (Dropout)        (None, 30)                0         \n",
      "_________________________________________________________________\n",
      "dense_159 (Dense)            (None, 30)                930       \n",
      "_________________________________________________________________\n",
      "dropout_130 (Dropout)        (None, 30)                0         \n",
      "_________________________________________________________________\n",
      "dense_160 (Dense)            (None, 30)                930       \n",
      "_________________________________________________________________\n",
      "dropout_131 (Dropout)        (None, 30)                0         \n",
      "_________________________________________________________________\n",
      "dense_161 (Dense)            (None, 30)                930       \n",
      "_________________________________________________________________\n",
      "dropout_132 (Dropout)        (None, 30)                0         \n",
      "_________________________________________________________________\n",
      "dense_162 (Dense)            (None, 30)                930       \n",
      "_________________________________________________________________\n",
      "dropout_133 (Dropout)        (None, 30)                0         \n",
      "_________________________________________________________________\n",
      "dense_163 (Dense)            (None, 30)                930       \n",
      "_________________________________________________________________\n",
      "dropout_134 (Dropout)        (None, 30)                0         \n",
      "_________________________________________________________________\n",
      "dense_164 (Dense)            (None, 10)                310       \n",
      "=================================================================\n",
      "Total params: 30,370\n",
      "Trainable params: 30,370\n",
      "Non-trainable params: 0\n",
      "_________________________________________________________________\n"
     ]
    },
    {
     "name": "stderr",
     "output_type": "stream",
     "text": [
      "2022-03-09 14:34:58.051833: I tensorflow/core/profiler/lib/profiler_session.cc:136] Profiler session initializing.\n",
      "2022-03-09 14:34:58.051861: I tensorflow/core/profiler/lib/profiler_session.cc:155] Profiler session started.\n",
      "2022-03-09 14:34:58.051936: E tensorflow/core/profiler/internal/gpu/cupti_tracer.cc:1415] function cupti_interface_->Subscribe( &subscriber_, (CUpti_CallbackFunc)ApiCallback, this)failed with error CUPTI_ERROR_NOT_INITIALIZED\n",
      "2022-03-09 14:34:58.051955: I tensorflow/core/profiler/lib/profiler_session.cc:172] Profiler session tear down.\n"
     ]
    },
    {
     "name": "stdout",
     "output_type": "stream",
     "text": [
      "Epoch 1/5\n",
      "   1/1875 [..............................] - ETA: 8:59 - loss: 2.3174 - accuracy: 0.0938WARNING:tensorflow:Callback method `on_train_batch_end` is slow compared to the batch time (batch time: 0.0012s vs `on_train_batch_end` time: 0.0059s). Check your callbacks.\n",
      " 144/1875 [=>............................] - ETA: 2s - loss: 2.2895 - accuracy: 0.1322"
     ]
    },
    {
     "name": "stderr",
     "output_type": "stream",
     "text": [
      "2022-03-09 14:34:58.557845: I tensorflow/core/profiler/lib/profiler_session.cc:136] Profiler session initializing.\n",
      "2022-03-09 14:34:58.557866: I tensorflow/core/profiler/lib/profiler_session.cc:155] Profiler session started.\n",
      "2022-03-09 14:34:58.557908: E tensorflow/core/profiler/internal/gpu/cupti_tracer.cc:1415] function cupti_interface_->Subscribe( &subscriber_, (CUpti_CallbackFunc)ApiCallback, this)failed with error CUPTI_ERROR_NOT_INITIALIZED\n",
      "2022-03-09 14:34:58.580587: I tensorflow/core/profiler/lib/profiler_session.cc:71] Profiler session collecting data.\n",
      "2022-03-09 14:34:58.581270: I tensorflow/core/profiler/internal/gpu/cupti_collector.cc:228]  GpuTracer has collected 0 callback api events and 0 activity events. \n",
      "2022-03-09 14:34:58.581648: I tensorflow/core/profiler/lib/profiler_session.cc:172] Profiler session tear down.\n",
      "2022-03-09 14:34:58.582181: I tensorflow/core/profiler/rpc/client/save_profile.cc:137] Creating directory: /tmp/tmptjv45ngw/train/plugins/profile/2022_03_09_14_34_58\n",
      "2022-03-09 14:34:58.582474: I tensorflow/core/profiler/rpc/client/save_profile.cc:143] Dumped gzipped tool data for trace.json.gz to /tmp/tmptjv45ngw/train/plugins/profile/2022_03_09_14_34_58/lps-pc.trace.json.gz\n",
      "2022-03-09 14:34:58.584922: I tensorflow/core/profiler/rpc/client/save_profile.cc:137] Creating directory: /tmp/tmptjv45ngw/train/plugins/profile/2022_03_09_14_34_58\n",
      "2022-03-09 14:34:58.585712: I tensorflow/core/profiler/rpc/client/save_profile.cc:143] Dumped gzipped tool data for memory_profile.json.gz to /tmp/tmptjv45ngw/train/plugins/profile/2022_03_09_14_34_58/lps-pc.memory_profile.json.gz\n",
      "2022-03-09 14:34:58.585790: I tensorflow/core/profiler/rpc/client/capture_profile.cc:251] Creating directory: /tmp/tmptjv45ngw/train/plugins/profile/2022_03_09_14_34_58Dumped tool data for xplane.pb to /tmp/tmptjv45ngw/train/plugins/profile/2022_03_09_14_34_58/lps-pc.xplane.pb\n",
      "Dumped tool data for overview_page.pb to /tmp/tmptjv45ngw/train/plugins/profile/2022_03_09_14_34_58/lps-pc.overview_page.pb\n",
      "Dumped tool data for input_pipeline.pb to /tmp/tmptjv45ngw/train/plugins/profile/2022_03_09_14_34_58/lps-pc.input_pipeline.pb\n",
      "Dumped tool data for tensorflow_stats.pb to /tmp/tmptjv45ngw/train/plugins/profile/2022_03_09_14_34_58/lps-pc.tensorflow_stats.pb\n",
      "Dumped tool data for kernel_stats.pb to /tmp/tmptjv45ngw/train/plugins/profile/2022_03_09_14_34_58/lps-pc.kernel_stats.pb\n",
      "\n"
     ]
    },
    {
     "name": "stdout",
     "output_type": "stream",
     "text": [
      "1875/1875 [==============================] - 3s 1ms/step - loss: 1.9021 - accuracy: 0.2689 - val_loss: 1.2786 - val_accuracy: 0.4816\n",
      "Epoch 2/5\n",
      "1875/1875 [==============================] - 2s 1ms/step - loss: 1.3500 - accuracy: 0.4414 - val_loss: 1.1764 - val_accuracy: 0.4784\n",
      "Epoch 3/5\n",
      "1875/1875 [==============================] - 2s 1ms/step - loss: 1.2651 - accuracy: 0.4831 - val_loss: 1.1799 - val_accuracy: 0.4459\n",
      "Epoch 4/5\n",
      "1875/1875 [==============================] - 2s 1ms/step - loss: 1.2180 - accuracy: 0.5062 - val_loss: 1.1060 - val_accuracy: 0.4820\n",
      "Epoch 5/5\n",
      "1875/1875 [==============================] - 2s 1ms/step - loss: 1.1783 - accuracy: 0.5211 - val_loss: 1.0895 - val_accuracy: 0.4917\n",
      "INFO:tensorflow:Assets written to: /tmp/tmp1y0mu6y8/model/data/model/assets\n"
     ]
    },
    {
     "name": "stderr",
     "output_type": "stream",
     "text": [
      "2022/03/09 14:35:24 WARNING mlflow.utils.environment: Encountered an unexpected error while inferring pip requirements (model URI: /tmp/tmp1y0mu6y8/model, flavor: keras), fall back to return ['tensorflow==2.4.1']. Set logging level to DEBUG to see the full traceback.\n"
     ]
    },
    {
     "name": "stdout",
     "output_type": "stream",
     "text": [
      "Modelo:  9ad21972b8ce49b18778c60cb5deac80\n",
      "Model: \"sequential_30\"\n",
      "_________________________________________________________________\n",
      "Layer (type)                 Output Shape              Param #   \n",
      "=================================================================\n",
      "dense_165 (Dense)            (None, 30)                23550     \n",
      "_________________________________________________________________\n",
      "dropout_135 (Dropout)        (None, 30)                0         \n",
      "_________________________________________________________________\n",
      "dense_166 (Dense)            (None, 30)                930       \n",
      "_________________________________________________________________\n",
      "dropout_136 (Dropout)        (None, 30)                0         \n",
      "_________________________________________________________________\n",
      "dense_167 (Dense)            (None, 30)                930       \n",
      "_________________________________________________________________\n",
      "dropout_137 (Dropout)        (None, 30)                0         \n",
      "_________________________________________________________________\n",
      "dense_168 (Dense)            (None, 30)                930       \n",
      "_________________________________________________________________\n",
      "dropout_138 (Dropout)        (None, 30)                0         \n",
      "_________________________________________________________________\n",
      "dense_169 (Dense)            (None, 30)                930       \n",
      "_________________________________________________________________\n",
      "dropout_139 (Dropout)        (None, 30)                0         \n",
      "_________________________________________________________________\n",
      "dense_170 (Dense)            (None, 30)                930       \n",
      "_________________________________________________________________\n",
      "dropout_140 (Dropout)        (None, 30)                0         \n",
      "_________________________________________________________________\n",
      "dense_171 (Dense)            (None, 30)                930       \n",
      "_________________________________________________________________\n",
      "dropout_141 (Dropout)        (None, 30)                0         \n",
      "_________________________________________________________________\n",
      "dense_172 (Dense)            (None, 30)                930       \n",
      "_________________________________________________________________\n",
      "dropout_142 (Dropout)        (None, 30)                0         \n",
      "_________________________________________________________________\n",
      "dense_173 (Dense)            (None, 10)                310       \n",
      "=================================================================\n",
      "Total params: 30,370\n",
      "Trainable params: 30,370\n",
      "Non-trainable params: 0\n",
      "_________________________________________________________________\n"
     ]
    },
    {
     "name": "stderr",
     "output_type": "stream",
     "text": [
      "2022-03-09 14:35:24.642948: I tensorflow/core/profiler/lib/profiler_session.cc:136] Profiler session initializing.\n",
      "2022-03-09 14:35:24.642976: I tensorflow/core/profiler/lib/profiler_session.cc:155] Profiler session started.\n",
      "2022-03-09 14:35:24.643051: E tensorflow/core/profiler/internal/gpu/cupti_tracer.cc:1415] function cupti_interface_->Subscribe( &subscriber_, (CUpti_CallbackFunc)ApiCallback, this)failed with error CUPTI_ERROR_NOT_INITIALIZED\n",
      "2022-03-09 14:35:24.643068: I tensorflow/core/profiler/lib/profiler_session.cc:172] Profiler session tear down.\n"
     ]
    },
    {
     "name": "stdout",
     "output_type": "stream",
     "text": [
      "Epoch 1/5\n",
      "   3/1875 [..............................] - ETA: 50s - loss: 2.3036 - accuracy: 0.1319 WARNING:tensorflow:Callback method `on_train_batch_end` is slow compared to the batch time (batch time: 0.0012s vs `on_train_batch_end` time: 0.0087s). Check your callbacks.\n",
      "  91/1875 [>.............................] - ETA: 3s - loss: 2.2632 - accuracy: 0.1536"
     ]
    },
    {
     "name": "stderr",
     "output_type": "stream",
     "text": [
      "2022-03-09 14:35:25.140855: I tensorflow/core/profiler/lib/profiler_session.cc:136] Profiler session initializing.\n",
      "2022-03-09 14:35:25.140876: I tensorflow/core/profiler/lib/profiler_session.cc:155] Profiler session started.\n",
      "2022-03-09 14:35:25.140918: E tensorflow/core/profiler/internal/gpu/cupti_tracer.cc:1415] function cupti_interface_->Subscribe( &subscriber_, (CUpti_CallbackFunc)ApiCallback, this)failed with error CUPTI_ERROR_NOT_INITIALIZED\n",
      "2022-03-09 14:35:25.176318: I tensorflow/core/profiler/lib/profiler_session.cc:71] Profiler session collecting data.\n",
      "2022-03-09 14:35:25.177360: I tensorflow/core/profiler/internal/gpu/cupti_collector.cc:228]  GpuTracer has collected 0 callback api events and 0 activity events. \n",
      "2022-03-09 14:35:25.177900: I tensorflow/core/profiler/lib/profiler_session.cc:172] Profiler session tear down.\n",
      "2022-03-09 14:35:25.178681: I tensorflow/core/profiler/rpc/client/save_profile.cc:137] Creating directory: /tmp/tmpd7z93x65/train/plugins/profile/2022_03_09_14_35_25\n",
      "2022-03-09 14:35:25.179045: I tensorflow/core/profiler/rpc/client/save_profile.cc:143] Dumped gzipped tool data for trace.json.gz to /tmp/tmpd7z93x65/train/plugins/profile/2022_03_09_14_35_25/lps-pc.trace.json.gz\n",
      "2022-03-09 14:35:25.183302: I tensorflow/core/profiler/rpc/client/save_profile.cc:137] Creating directory: /tmp/tmpd7z93x65/train/plugins/profile/2022_03_09_14_35_25\n",
      "2022-03-09 14:35:25.184372: I tensorflow/core/profiler/rpc/client/save_profile.cc:143] Dumped gzipped tool data for memory_profile.json.gz to /tmp/tmpd7z93x65/train/plugins/profile/2022_03_09_14_35_25/lps-pc.memory_profile.json.gz\n",
      "2022-03-09 14:35:25.184523: I tensorflow/core/profiler/rpc/client/capture_profile.cc:251] Creating directory: /tmp/tmpd7z93x65/train/plugins/profile/2022_03_09_14_35_25Dumped tool data for xplane.pb to /tmp/tmpd7z93x65/train/plugins/profile/2022_03_09_14_35_25/lps-pc.xplane.pb\n",
      "Dumped tool data for overview_page.pb to /tmp/tmpd7z93x65/train/plugins/profile/2022_03_09_14_35_25/lps-pc.overview_page.pb\n",
      "Dumped tool data for input_pipeline.pb to /tmp/tmpd7z93x65/train/plugins/profile/2022_03_09_14_35_25/lps-pc.input_pipeline.pb\n",
      "Dumped tool data for tensorflow_stats.pb to /tmp/tmpd7z93x65/train/plugins/profile/2022_03_09_14_35_25/lps-pc.tensorflow_stats.pb\n",
      "Dumped tool data for kernel_stats.pb to /tmp/tmpd7z93x65/train/plugins/profile/2022_03_09_14_35_25/lps-pc.kernel_stats.pb\n",
      "\n"
     ]
    },
    {
     "name": "stdout",
     "output_type": "stream",
     "text": [
      "1875/1875 [==============================] - 3s 2ms/step - loss: 1.2872 - accuracy: 0.5319 - val_loss: 0.3510 - val_accuracy: 0.9084\n",
      "Epoch 2/5\n",
      "1875/1875 [==============================] - 3s 1ms/step - loss: 0.4756 - accuracy: 0.8680 - val_loss: 0.2618 - val_accuracy: 0.9294\n",
      "Epoch 3/5\n",
      "1875/1875 [==============================] - 3s 1ms/step - loss: 0.3751 - accuracy: 0.9013 - val_loss: 0.2241 - val_accuracy: 0.9420\n",
      "Epoch 4/5\n",
      "1875/1875 [==============================] - 3s 2ms/step - loss: 0.3373 - accuracy: 0.9138 - val_loss: 0.2166 - val_accuracy: 0.9441\n",
      "Epoch 5/5\n",
      "1875/1875 [==============================] - 3s 1ms/step - loss: 0.3122 - accuracy: 0.9201 - val_loss: 0.1961 - val_accuracy: 0.9493\n",
      "INFO:tensorflow:Assets written to: /tmp/tmpj1q3dh5u/model/data/model/assets\n",
      "Modelo:  98ecfa33887f46d688531ebceddf0f4d\n"
     ]
    },
    {
     "data": {
      "image/png": "[encoded data removed]",
      "text/plain": [
       "<Figure size 432x288 with 1 Axes>"
      ]
     },
     "metadata": {
      "needs_background": "light"
     },
     "output_type": "display_data"
    }
   ],
   "source": [
    "# hiperparâmetros\n",
    "epochs = [5]\n",
    "hidden = [2, 5, 8]\n",
    "n_units = [15, 20, 30]\n",
    "drop_out = [0.2, 0.3, 0.1]\n",
    "\n",
    "# testando todas as combinações\n",
    "for epoch in epochs:\n",
    "    for layers in hidden:\n",
    "        for units in n_units:\n",
    "            for do in drop_out:\n",
    "                train_nn(hidden_layers=layers, n_units=units, activation='relu', drop_out=do, epochs=epoch)"
   ]
  },
  {
   "cell_type": "code",
   "execution_count": null,
   "metadata": {},
   "outputs": [],
   "source": []
  }
 ],
 "metadata": {
  "interpreter": {
   "hash": "cbe59bc8e43c33e263d0ddce44ad7ec5ba3f57d4d2daa17d616eb06d4130f325"
  },
  "kernelspec": {
   "display_name": "Python 3 (ipykernel)",
   "language": "python",
   "name": "python3"
  },
  "language_info": {
   "codemirror_mode": {
    "name": "ipython",
    "version": 3
   },
   "file_extension": ".py",
   "mimetype": "text/x-python",
   "name": "python",
   "nbconvert_exporter": "python",
   "pygments_lexer": "ipython3",
   "version": "3.9.10"
  }
 },
 "nbformat": 4,
 "nbformat_minor": 2
}
